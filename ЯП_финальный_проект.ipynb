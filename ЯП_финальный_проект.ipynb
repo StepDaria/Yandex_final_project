{
  "cells": [
    {
      "cell_type": "markdown",
      "metadata": {
        "id": "view-in-github",
        "colab_type": "text"
      },
      "source": [
        "<a href=\"https://colab.research.google.com/github/StepDaria/Yandex_final_project/blob/main/%D0%AF%D0%9F_%D1%84%D0%B8%D0%BD%D0%B0%D0%BB%D1%8C%D0%BD%D1%8B%D0%B9_%D0%BF%D1%80%D0%BE%D0%B5%D0%BA%D1%82.ipynb\" target=\"_parent\"><img src=\"https://colab.research.google.com/assets/colab-badge.svg\" alt=\"Open In Colab\"/></a>"
      ]
    },
    {
      "cell_type": "markdown",
      "metadata": {
        "id": "-uvvjobHCuhW"
      },
      "source": [
        "<font color='steelblue' size=5><b>Комментарий тимлида</b></font>\n",
        "\n",
        "<font color='steelblue'>Привет, Дарья! Это Ольга Васильева. Мы делаем очень классный проект, давай смотреть, что получилось)\n",
        "    \n",
        "<font color='steelblue'>Я буду использовать различные цвета и знаки, чтобы было удобнее воспринимать мои комментарии:</font>\n",
        "\n",
        "\n",
        "---\n",
        "\n",
        "\n",
        "<font color='steelblue'>синий текст - просто текст комментария</font>\n",
        "\n",
        "<font color='green'> ✔️зеленый текст - все отлично</font>\n",
        "\n",
        "<font color='darkorange'>⚠️оранжевый текст - есть рекомендации, на что стоит обратить внимание</font>\n",
        "\n",
        "<font color='crimson'> ❌красный текст - есть недочеты</font>"
      ]
    },
    {
      "cell_type": "markdown",
      "metadata": {
        "id": "lfvAFR95CuhY"
      },
      "source": [
        "<font color='Salmon' size=5><b>Комментарий студента</b></font>\n",
        "\n",
        "Привет! Спасибо за ревью. Поправила путь, теперь должно работать"
      ]
    },
    {
      "cell_type": "markdown",
      "metadata": {
        "id": "PDevcIvI0mTL"
      },
      "source": [
        "# **Проект - промышленность**\n",
        "\n",
        "Чтобы оптимизировать производственные расходы, металлургический комбинат решил уменьшить потребление электроэнергии на этапе обработки стали. Нужно построить модель, которая предскажет температуру стали.\n",
        "\n",
        "Имеем дело с задачей регрессии"
      ]
    },
    {
      "cell_type": "markdown",
      "metadata": {
        "id": "uxAVfuOKCuhZ"
      },
      "source": [
        "<font color='steelblue'><b>Комментарий тимлида</b></font><br>\n",
        "<font color='green'> ✔️ Описание на месте, я бы его несколько расширила.</font>"
      ]
    },
    {
      "cell_type": "markdown",
      "metadata": {
        "id": "f2vOgVLe1GX0"
      },
      "source": [
        "# План работы\n",
        "\n",
        "1. EDA - смотрим на данные, определяем, на каких объектах (ключах) можем обучать модель, опредлеяем выбросы\n",
        "2. Feature engineering - разные подходы к агрегации по ключам, генерация новых признаков\n",
        "3. Model validation - пробуем разные модели (регрессия лассо-ридж, бустинг, леса). Паралелльно смотрим на важность признаков, удаляем шумные признаки\n",
        "4. Observing - оцениваем адекватность моделей (в том числе на утечку данных и на сравнение с константными моделями). Если все плохо, возвращаемся к пункту 2\n",
        "4. Model testing - тестируем выбранную модель, проверяем ее качество"
      ]
    },
    {
      "cell_type": "markdown",
      "metadata": {
        "id": "E4HHlBpICuhZ"
      },
      "source": [
        "<font color='steelblue'><b>Комментарий тимлида</b></font><br>\n",
        "<font color='green'> ✔️ Хороший план.</font>"
      ]
    },
    {
      "cell_type": "markdown",
      "source": [
        "# Part 1"
      ],
      "metadata": {
        "id": "MvjEgiQjEGcT"
      }
    },
    {
      "cell_type": "markdown",
      "metadata": {
        "id": "lfRx4YxB5Cum"
      },
      "source": [
        "## EDA"
      ]
    },
    {
      "cell_type": "code",
      "execution_count": null,
      "metadata": {
        "id": "pRQTl6QLNxLv"
      },
      "outputs": [],
      "source": [
        "import pandas as pd\n",
        "import numpy as np\n",
        "import matplotlib.pyplot as plt"
      ]
    },
    {
      "cell_type": "code",
      "execution_count": null,
      "metadata": {
        "id": "V2teRz8KRj0F"
      },
      "outputs": [],
      "source": [
        "path = '/datasets/final_steel/'"
      ]
    },
    {
      "cell_type": "code",
      "execution_count": null,
      "metadata": {
        "id": "b5E_W2OmOHLl"
      },
      "outputs": [],
      "source": [
        "def read_file(path):\n",
        "    data = pd.read_csv(path)\n",
        "    display(data.head())\n",
        "    display(data.info())\n",
        "    display(data.describe())\n",
        "    return data\n",
        "\n",
        "def count_keys(data, key_set):\n",
        "    \"\"\"\n",
        "    Выводит количество записей по ключам и возвращает сет ключей, для которых есть записи\n",
        "    \"\"\"\n",
        "    if key_set:\n",
        "        key_set.intersection_update(set(data['key'].unique()))\n",
        "    else:\n",
        "        key_set.update(set(data['key'].unique()))\n",
        "    print('Количество уникальных ключей в таблице:', data['key'].nunique())\n",
        "    print('Размер множества ключей, для которых есть записи во всех таблицах:', len(key_set))\n",
        "    return key_set"
      ]
    },
    {
      "cell_type": "markdown",
      "metadata": {
        "id": "iOTc6W0R-xiP"
      },
      "source": [
        "### data_arc"
      ]
    },
    {
      "cell_type": "code",
      "execution_count": null,
      "metadata": {
        "colab": {
          "base_uri": "https://localhost:8080/",
          "height": 722
        },
        "id": "PHh-B3iFNfpv",
        "outputId": "c6bfbbf2-5bc0-4c53-d1d3-d5d5c4c33b21"
      },
      "outputs": [
        {
          "output_type": "display_data",
          "data": {
            "text/plain": [
              "   key Начало нагрева дугой  Конец нагрева дугой  Активная мощность  \\\n",
              "0    1  2019-05-03 11:02:14  2019-05-03 11:06:02           0.976059   \n",
              "1    1  2019-05-03 11:07:28  2019-05-03 11:10:33           0.805607   \n",
              "2    1  2019-05-03 11:11:44  2019-05-03 11:14:36           0.744363   \n",
              "3    1  2019-05-03 11:18:14  2019-05-03 11:24:19           1.659363   \n",
              "4    1  2019-05-03 11:26:09  2019-05-03 11:28:37           0.692755   \n",
              "\n",
              "   Реактивная мощность  \n",
              "0             0.687084  \n",
              "1             0.520285  \n",
              "2             0.498805  \n",
              "3             1.062669  \n",
              "4             0.414397  "
            ],
            "text/html": [
              "\n",
              "  <div id=\"df-2a02bfd2-40a2-41a1-8823-bb65cf249739\">\n",
              "    <div class=\"colab-df-container\">\n",
              "      <div>\n",
              "<style scoped>\n",
              "    .dataframe tbody tr th:only-of-type {\n",
              "        vertical-align: middle;\n",
              "    }\n",
              "\n",
              "    .dataframe tbody tr th {\n",
              "        vertical-align: top;\n",
              "    }\n",
              "\n",
              "    .dataframe thead th {\n",
              "        text-align: right;\n",
              "    }\n",
              "</style>\n",
              "<table border=\"1\" class=\"dataframe\">\n",
              "  <thead>\n",
              "    <tr style=\"text-align: right;\">\n",
              "      <th></th>\n",
              "      <th>key</th>\n",
              "      <th>Начало нагрева дугой</th>\n",
              "      <th>Конец нагрева дугой</th>\n",
              "      <th>Активная мощность</th>\n",
              "      <th>Реактивная мощность</th>\n",
              "    </tr>\n",
              "  </thead>\n",
              "  <tbody>\n",
              "    <tr>\n",
              "      <th>0</th>\n",
              "      <td>1</td>\n",
              "      <td>2019-05-03 11:02:14</td>\n",
              "      <td>2019-05-03 11:06:02</td>\n",
              "      <td>0.976059</td>\n",
              "      <td>0.687084</td>\n",
              "    </tr>\n",
              "    <tr>\n",
              "      <th>1</th>\n",
              "      <td>1</td>\n",
              "      <td>2019-05-03 11:07:28</td>\n",
              "      <td>2019-05-03 11:10:33</td>\n",
              "      <td>0.805607</td>\n",
              "      <td>0.520285</td>\n",
              "    </tr>\n",
              "    <tr>\n",
              "      <th>2</th>\n",
              "      <td>1</td>\n",
              "      <td>2019-05-03 11:11:44</td>\n",
              "      <td>2019-05-03 11:14:36</td>\n",
              "      <td>0.744363</td>\n",
              "      <td>0.498805</td>\n",
              "    </tr>\n",
              "    <tr>\n",
              "      <th>3</th>\n",
              "      <td>1</td>\n",
              "      <td>2019-05-03 11:18:14</td>\n",
              "      <td>2019-05-03 11:24:19</td>\n",
              "      <td>1.659363</td>\n",
              "      <td>1.062669</td>\n",
              "    </tr>\n",
              "    <tr>\n",
              "      <th>4</th>\n",
              "      <td>1</td>\n",
              "      <td>2019-05-03 11:26:09</td>\n",
              "      <td>2019-05-03 11:28:37</td>\n",
              "      <td>0.692755</td>\n",
              "      <td>0.414397</td>\n",
              "    </tr>\n",
              "  </tbody>\n",
              "</table>\n",
              "</div>\n",
              "      <button class=\"colab-df-convert\" onclick=\"convertToInteractive('df-2a02bfd2-40a2-41a1-8823-bb65cf249739')\"\n",
              "              title=\"Convert this dataframe to an interactive table.\"\n",
              "              style=\"display:none;\">\n",
              "        \n",
              "  <svg xmlns=\"http://www.w3.org/2000/svg\" height=\"24px\"viewBox=\"0 0 24 24\"\n",
              "       width=\"24px\">\n",
              "    <path d=\"M0 0h24v24H0V0z\" fill=\"none\"/>\n",
              "    <path d=\"M18.56 5.44l.94 2.06.94-2.06 2.06-.94-2.06-.94-.94-2.06-.94 2.06-2.06.94zm-11 1L8.5 8.5l.94-2.06 2.06-.94-2.06-.94L8.5 2.5l-.94 2.06-2.06.94zm10 10l.94 2.06.94-2.06 2.06-.94-2.06-.94-.94-2.06-.94 2.06-2.06.94z\"/><path d=\"M17.41 7.96l-1.37-1.37c-.4-.4-.92-.59-1.43-.59-.52 0-1.04.2-1.43.59L10.3 9.45l-7.72 7.72c-.78.78-.78 2.05 0 2.83L4 21.41c.39.39.9.59 1.41.59.51 0 1.02-.2 1.41-.59l7.78-7.78 2.81-2.81c.8-.78.8-2.07 0-2.86zM5.41 20L4 18.59l7.72-7.72 1.47 1.35L5.41 20z\"/>\n",
              "  </svg>\n",
              "      </button>\n",
              "      \n",
              "  <style>\n",
              "    .colab-df-container {\n",
              "      display:flex;\n",
              "      flex-wrap:wrap;\n",
              "      gap: 12px;\n",
              "    }\n",
              "\n",
              "    .colab-df-convert {\n",
              "      background-color: #E8F0FE;\n",
              "      border: none;\n",
              "      border-radius: 50%;\n",
              "      cursor: pointer;\n",
              "      display: none;\n",
              "      fill: #1967D2;\n",
              "      height: 32px;\n",
              "      padding: 0 0 0 0;\n",
              "      width: 32px;\n",
              "    }\n",
              "\n",
              "    .colab-df-convert:hover {\n",
              "      background-color: #E2EBFA;\n",
              "      box-shadow: 0px 1px 2px rgba(60, 64, 67, 0.3), 0px 1px 3px 1px rgba(60, 64, 67, 0.15);\n",
              "      fill: #174EA6;\n",
              "    }\n",
              "\n",
              "    [theme=dark] .colab-df-convert {\n",
              "      background-color: #3B4455;\n",
              "      fill: #D2E3FC;\n",
              "    }\n",
              "\n",
              "    [theme=dark] .colab-df-convert:hover {\n",
              "      background-color: #434B5C;\n",
              "      box-shadow: 0px 1px 3px 1px rgba(0, 0, 0, 0.15);\n",
              "      filter: drop-shadow(0px 1px 2px rgba(0, 0, 0, 0.3));\n",
              "      fill: #FFFFFF;\n",
              "    }\n",
              "  </style>\n",
              "\n",
              "      <script>\n",
              "        const buttonEl =\n",
              "          document.querySelector('#df-2a02bfd2-40a2-41a1-8823-bb65cf249739 button.colab-df-convert');\n",
              "        buttonEl.style.display =\n",
              "          google.colab.kernel.accessAllowed ? 'block' : 'none';\n",
              "\n",
              "        async function convertToInteractive(key) {\n",
              "          const element = document.querySelector('#df-2a02bfd2-40a2-41a1-8823-bb65cf249739');\n",
              "          const dataTable =\n",
              "            await google.colab.kernel.invokeFunction('convertToInteractive',\n",
              "                                                     [key], {});\n",
              "          if (!dataTable) return;\n",
              "\n",
              "          const docLinkHtml = 'Like what you see? Visit the ' +\n",
              "            '<a target=\"_blank\" href=https://colab.research.google.com/notebooks/data_table.ipynb>data table notebook</a>'\n",
              "            + ' to learn more about interactive tables.';\n",
              "          element.innerHTML = '';\n",
              "          dataTable['output_type'] = 'display_data';\n",
              "          await google.colab.output.renderOutput(dataTable, element);\n",
              "          const docLink = document.createElement('div');\n",
              "          docLink.innerHTML = docLinkHtml;\n",
              "          element.appendChild(docLink);\n",
              "        }\n",
              "      </script>\n",
              "    </div>\n",
              "  </div>\n",
              "  "
            ]
          },
          "metadata": {}
        },
        {
          "output_type": "stream",
          "name": "stdout",
          "text": [
            "<class 'pandas.core.frame.DataFrame'>\n",
            "RangeIndex: 14876 entries, 0 to 14875\n",
            "Data columns (total 5 columns):\n",
            " #   Column                Non-Null Count  Dtype  \n",
            "---  ------                --------------  -----  \n",
            " 0   key                   14876 non-null  int64  \n",
            " 1   Начало нагрева дугой  14876 non-null  object \n",
            " 2   Конец нагрева дугой   14876 non-null  object \n",
            " 3   Активная мощность     14876 non-null  float64\n",
            " 4   Реактивная мощность   14876 non-null  float64\n",
            "dtypes: float64(2), int64(1), object(2)\n",
            "memory usage: 581.2+ KB\n"
          ]
        },
        {
          "output_type": "display_data",
          "data": {
            "text/plain": [
              "None"
            ]
          },
          "metadata": {}
        },
        {
          "output_type": "display_data",
          "data": {
            "text/plain": [
              "                key  Активная мощность  Реактивная мощность\n",
              "count  14876.000000       14876.000000         14876.000000\n",
              "mean    1615.220422           0.670441             0.452592\n",
              "std      934.571502           0.408159             5.878702\n",
              "min        1.000000           0.030002          -715.504924\n",
              "25%      806.000000           0.395297             0.290991\n",
              "50%     1617.000000           0.555517             0.415962\n",
              "75%     2429.000000           0.857034             0.637371\n",
              "max     3241.000000           3.731596             2.676388"
            ],
            "text/html": [
              "\n",
              "  <div id=\"df-3841221f-aff9-4c87-8d6f-96aec0d00ccf\">\n",
              "    <div class=\"colab-df-container\">\n",
              "      <div>\n",
              "<style scoped>\n",
              "    .dataframe tbody tr th:only-of-type {\n",
              "        vertical-align: middle;\n",
              "    }\n",
              "\n",
              "    .dataframe tbody tr th {\n",
              "        vertical-align: top;\n",
              "    }\n",
              "\n",
              "    .dataframe thead th {\n",
              "        text-align: right;\n",
              "    }\n",
              "</style>\n",
              "<table border=\"1\" class=\"dataframe\">\n",
              "  <thead>\n",
              "    <tr style=\"text-align: right;\">\n",
              "      <th></th>\n",
              "      <th>key</th>\n",
              "      <th>Активная мощность</th>\n",
              "      <th>Реактивная мощность</th>\n",
              "    </tr>\n",
              "  </thead>\n",
              "  <tbody>\n",
              "    <tr>\n",
              "      <th>count</th>\n",
              "      <td>14876.000000</td>\n",
              "      <td>14876.000000</td>\n",
              "      <td>14876.000000</td>\n",
              "    </tr>\n",
              "    <tr>\n",
              "      <th>mean</th>\n",
              "      <td>1615.220422</td>\n",
              "      <td>0.670441</td>\n",
              "      <td>0.452592</td>\n",
              "    </tr>\n",
              "    <tr>\n",
              "      <th>std</th>\n",
              "      <td>934.571502</td>\n",
              "      <td>0.408159</td>\n",
              "      <td>5.878702</td>\n",
              "    </tr>\n",
              "    <tr>\n",
              "      <th>min</th>\n",
              "      <td>1.000000</td>\n",
              "      <td>0.030002</td>\n",
              "      <td>-715.504924</td>\n",
              "    </tr>\n",
              "    <tr>\n",
              "      <th>25%</th>\n",
              "      <td>806.000000</td>\n",
              "      <td>0.395297</td>\n",
              "      <td>0.290991</td>\n",
              "    </tr>\n",
              "    <tr>\n",
              "      <th>50%</th>\n",
              "      <td>1617.000000</td>\n",
              "      <td>0.555517</td>\n",
              "      <td>0.415962</td>\n",
              "    </tr>\n",
              "    <tr>\n",
              "      <th>75%</th>\n",
              "      <td>2429.000000</td>\n",
              "      <td>0.857034</td>\n",
              "      <td>0.637371</td>\n",
              "    </tr>\n",
              "    <tr>\n",
              "      <th>max</th>\n",
              "      <td>3241.000000</td>\n",
              "      <td>3.731596</td>\n",
              "      <td>2.676388</td>\n",
              "    </tr>\n",
              "  </tbody>\n",
              "</table>\n",
              "</div>\n",
              "      <button class=\"colab-df-convert\" onclick=\"convertToInteractive('df-3841221f-aff9-4c87-8d6f-96aec0d00ccf')\"\n",
              "              title=\"Convert this dataframe to an interactive table.\"\n",
              "              style=\"display:none;\">\n",
              "        \n",
              "  <svg xmlns=\"http://www.w3.org/2000/svg\" height=\"24px\"viewBox=\"0 0 24 24\"\n",
              "       width=\"24px\">\n",
              "    <path d=\"M0 0h24v24H0V0z\" fill=\"none\"/>\n",
              "    <path d=\"M18.56 5.44l.94 2.06.94-2.06 2.06-.94-2.06-.94-.94-2.06-.94 2.06-2.06.94zm-11 1L8.5 8.5l.94-2.06 2.06-.94-2.06-.94L8.5 2.5l-.94 2.06-2.06.94zm10 10l.94 2.06.94-2.06 2.06-.94-2.06-.94-.94-2.06-.94 2.06-2.06.94z\"/><path d=\"M17.41 7.96l-1.37-1.37c-.4-.4-.92-.59-1.43-.59-.52 0-1.04.2-1.43.59L10.3 9.45l-7.72 7.72c-.78.78-.78 2.05 0 2.83L4 21.41c.39.39.9.59 1.41.59.51 0 1.02-.2 1.41-.59l7.78-7.78 2.81-2.81c.8-.78.8-2.07 0-2.86zM5.41 20L4 18.59l7.72-7.72 1.47 1.35L5.41 20z\"/>\n",
              "  </svg>\n",
              "      </button>\n",
              "      \n",
              "  <style>\n",
              "    .colab-df-container {\n",
              "      display:flex;\n",
              "      flex-wrap:wrap;\n",
              "      gap: 12px;\n",
              "    }\n",
              "\n",
              "    .colab-df-convert {\n",
              "      background-color: #E8F0FE;\n",
              "      border: none;\n",
              "      border-radius: 50%;\n",
              "      cursor: pointer;\n",
              "      display: none;\n",
              "      fill: #1967D2;\n",
              "      height: 32px;\n",
              "      padding: 0 0 0 0;\n",
              "      width: 32px;\n",
              "    }\n",
              "\n",
              "    .colab-df-convert:hover {\n",
              "      background-color: #E2EBFA;\n",
              "      box-shadow: 0px 1px 2px rgba(60, 64, 67, 0.3), 0px 1px 3px 1px rgba(60, 64, 67, 0.15);\n",
              "      fill: #174EA6;\n",
              "    }\n",
              "\n",
              "    [theme=dark] .colab-df-convert {\n",
              "      background-color: #3B4455;\n",
              "      fill: #D2E3FC;\n",
              "    }\n",
              "\n",
              "    [theme=dark] .colab-df-convert:hover {\n",
              "      background-color: #434B5C;\n",
              "      box-shadow: 0px 1px 3px 1px rgba(0, 0, 0, 0.15);\n",
              "      filter: drop-shadow(0px 1px 2px rgba(0, 0, 0, 0.3));\n",
              "      fill: #FFFFFF;\n",
              "    }\n",
              "  </style>\n",
              "\n",
              "      <script>\n",
              "        const buttonEl =\n",
              "          document.querySelector('#df-3841221f-aff9-4c87-8d6f-96aec0d00ccf button.colab-df-convert');\n",
              "        buttonEl.style.display =\n",
              "          google.colab.kernel.accessAllowed ? 'block' : 'none';\n",
              "\n",
              "        async function convertToInteractive(key) {\n",
              "          const element = document.querySelector('#df-3841221f-aff9-4c87-8d6f-96aec0d00ccf');\n",
              "          const dataTable =\n",
              "            await google.colab.kernel.invokeFunction('convertToInteractive',\n",
              "                                                     [key], {});\n",
              "          if (!dataTable) return;\n",
              "\n",
              "          const docLinkHtml = 'Like what you see? Visit the ' +\n",
              "            '<a target=\"_blank\" href=https://colab.research.google.com/notebooks/data_table.ipynb>data table notebook</a>'\n",
              "            + ' to learn more about interactive tables.';\n",
              "          element.innerHTML = '';\n",
              "          dataTable['output_type'] = 'display_data';\n",
              "          await google.colab.output.renderOutput(dataTable, element);\n",
              "          const docLink = document.createElement('div');\n",
              "          docLink.innerHTML = docLinkHtml;\n",
              "          element.appendChild(docLink);\n",
              "        }\n",
              "      </script>\n",
              "    </div>\n",
              "  </div>\n",
              "  "
            ]
          },
          "metadata": {}
        }
      ],
      "source": [
        "data_arc = read_file(path + 'data_arc.csv')"
      ]
    },
    {
      "cell_type": "code",
      "execution_count": null,
      "metadata": {
        "colab": {
          "base_uri": "https://localhost:8080/"
        },
        "id": "3bCagNhk6iub",
        "outputId": "975bf890-9c15-4ad7-a51b-36c07963ebd3"
      },
      "outputs": [
        {
          "output_type": "stream",
          "name": "stdout",
          "text": [
            "Количество уникальных ключей в таблице: 3214\n",
            "Размер множества ключей, для которых есть записи во всех таблицах: 3214\n"
          ]
        }
      ],
      "source": [
        "key_set = count_keys(data_arc, set())"
      ]
    },
    {
      "cell_type": "markdown",
      "metadata": {
        "id": "nxOfK7Ag8t3-"
      },
      "source": [
        "Получили записи для 3214 ключей"
      ]
    },
    {
      "cell_type": "code",
      "execution_count": null,
      "metadata": {
        "colab": {
          "base_uri": "https://localhost:8080/",
          "height": 283
        },
        "id": "2zzdGKah8zVx",
        "outputId": "219f1150-65ec-468f-ef48-beda9acaf2bf"
      },
      "outputs": [
        {
          "output_type": "execute_result",
          "data": {
            "text/plain": [
              "<matplotlib.axes._subplots.AxesSubplot at 0x7f4fcf4a65d0>"
            ]
          },
          "metadata": {},
          "execution_count": 7
        },
        {
          "output_type": "display_data",
          "data": {
            "text/plain": [
              "<Figure size 432x288 with 1 Axes>"
            ],
            "image/png": "[encoded data removed]"
          },
          "metadata": {
            "needs_background": "light"
          }
        }
      ],
      "source": [
        "# смотрим на гистограмму усредленных по ключу значений активных мощностей\n",
        "data_arc.groupby(['key'])['Активная мощность'].mean().hist(bins=50)"
      ]
    },
    {
      "cell_type": "markdown",
      "metadata": {
        "id": "xNhPHX1B9NM8"
      },
      "source": [
        "Выглядит во всех смыслах нормально"
      ]
    },
    {
      "cell_type": "code",
      "execution_count": null,
      "metadata": {
        "colab": {
          "base_uri": "https://localhost:8080/",
          "height": 283
        },
        "id": "kaA1-lDi9bHj",
        "outputId": "67366bcf-ed06-4123-8d19-3182c3d96fbc"
      },
      "outputs": [
        {
          "output_type": "execute_result",
          "data": {
            "text/plain": [
              "<matplotlib.axes._subplots.AxesSubplot at 0x7f4fcf321bd0>"
            ]
          },
          "metadata": {},
          "execution_count": 8
        },
        {
          "output_type": "display_data",
          "data": {
            "text/plain": [
              "<Figure size 432x288 with 1 Axes>"
            ],
            "image/png": "[encoded data removed]"
          },
          "metadata": {
            "needs_background": "light"
          }
        }
      ],
      "source": [
        "# смотрим на гистограмму усредленных по ключу значений Реактивных мощностей\n",
        "data_arc.groupby(['key'])['Реактивная мощность'].mean().hist(bins=50)"
      ]
    },
    {
      "cell_type": "markdown",
      "metadata": {
        "id": "xcg09bkj9k2j"
      },
      "source": [
        "Есть выбросы, изучим их"
      ]
    },
    {
      "cell_type": "code",
      "execution_count": null,
      "metadata": {
        "colab": {
          "base_uri": "https://localhost:8080/",
          "height": 81
        },
        "id": "88lckghI9tWZ",
        "outputId": "1bf04b34-e894-445b-f596-3b0470bf4c03"
      },
      "outputs": [
        {
          "output_type": "execute_result",
          "data": {
            "text/plain": [
              "       key Начало нагрева дугой  Конец нагрева дугой  Активная мощность  \\\n",
              "9780  2116  2019-07-24 00:44:48  2019-07-24 00:46:37           0.495782   \n",
              "\n",
              "      Реактивная мощность  \n",
              "9780          -715.504924  "
            ],
            "text/html": [
              "\n",
              "  <div id=\"df-e7138913-8c31-4500-8ff7-621daa1fecea\">\n",
              "    <div class=\"colab-df-container\">\n",
              "      <div>\n",
              "<style scoped>\n",
              "    .dataframe tbody tr th:only-of-type {\n",
              "        vertical-align: middle;\n",
              "    }\n",
              "\n",
              "    .dataframe tbody tr th {\n",
              "        vertical-align: top;\n",
              "    }\n",
              "\n",
              "    .dataframe thead th {\n",
              "        text-align: right;\n",
              "    }\n",
              "</style>\n",
              "<table border=\"1\" class=\"dataframe\">\n",
              "  <thead>\n",
              "    <tr style=\"text-align: right;\">\n",
              "      <th></th>\n",
              "      <th>key</th>\n",
              "      <th>Начало нагрева дугой</th>\n",
              "      <th>Конец нагрева дугой</th>\n",
              "      <th>Активная мощность</th>\n",
              "      <th>Реактивная мощность</th>\n",
              "    </tr>\n",
              "  </thead>\n",
              "  <tbody>\n",
              "    <tr>\n",
              "      <th>9780</th>\n",
              "      <td>2116</td>\n",
              "      <td>2019-07-24 00:44:48</td>\n",
              "      <td>2019-07-24 00:46:37</td>\n",
              "      <td>0.495782</td>\n",
              "      <td>-715.504924</td>\n",
              "    </tr>\n",
              "  </tbody>\n",
              "</table>\n",
              "</div>\n",
              "      <button class=\"colab-df-convert\" onclick=\"convertToInteractive('df-e7138913-8c31-4500-8ff7-621daa1fecea')\"\n",
              "              title=\"Convert this dataframe to an interactive table.\"\n",
              "              style=\"display:none;\">\n",
              "        \n",
              "  <svg xmlns=\"http://www.w3.org/2000/svg\" height=\"24px\"viewBox=\"0 0 24 24\"\n",
              "       width=\"24px\">\n",
              "    <path d=\"M0 0h24v24H0V0z\" fill=\"none\"/>\n",
              "    <path d=\"M18.56 5.44l.94 2.06.94-2.06 2.06-.94-2.06-.94-.94-2.06-.94 2.06-2.06.94zm-11 1L8.5 8.5l.94-2.06 2.06-.94-2.06-.94L8.5 2.5l-.94 2.06-2.06.94zm10 10l.94 2.06.94-2.06 2.06-.94-2.06-.94-.94-2.06-.94 2.06-2.06.94z\"/><path d=\"M17.41 7.96l-1.37-1.37c-.4-.4-.92-.59-1.43-.59-.52 0-1.04.2-1.43.59L10.3 9.45l-7.72 7.72c-.78.78-.78 2.05 0 2.83L4 21.41c.39.39.9.59 1.41.59.51 0 1.02-.2 1.41-.59l7.78-7.78 2.81-2.81c.8-.78.8-2.07 0-2.86zM5.41 20L4 18.59l7.72-7.72 1.47 1.35L5.41 20z\"/>\n",
              "  </svg>\n",
              "      </button>\n",
              "      \n",
              "  <style>\n",
              "    .colab-df-container {\n",
              "      display:flex;\n",
              "      flex-wrap:wrap;\n",
              "      gap: 12px;\n",
              "    }\n",
              "\n",
              "    .colab-df-convert {\n",
              "      background-color: #E8F0FE;\n",
              "      border: none;\n",
              "      border-radius: 50%;\n",
              "      cursor: pointer;\n",
              "      display: none;\n",
              "      fill: #1967D2;\n",
              "      height: 32px;\n",
              "      padding: 0 0 0 0;\n",
              "      width: 32px;\n",
              "    }\n",
              "\n",
              "    .colab-df-convert:hover {\n",
              "      background-color: #E2EBFA;\n",
              "      box-shadow: 0px 1px 2px rgba(60, 64, 67, 0.3), 0px 1px 3px 1px rgba(60, 64, 67, 0.15);\n",
              "      fill: #174EA6;\n",
              "    }\n",
              "\n",
              "    [theme=dark] .colab-df-convert {\n",
              "      background-color: #3B4455;\n",
              "      fill: #D2E3FC;\n",
              "    }\n",
              "\n",
              "    [theme=dark] .colab-df-convert:hover {\n",
              "      background-color: #434B5C;\n",
              "      box-shadow: 0px 1px 3px 1px rgba(0, 0, 0, 0.15);\n",
              "      filter: drop-shadow(0px 1px 2px rgba(0, 0, 0, 0.3));\n",
              "      fill: #FFFFFF;\n",
              "    }\n",
              "  </style>\n",
              "\n",
              "      <script>\n",
              "        const buttonEl =\n",
              "          document.querySelector('#df-e7138913-8c31-4500-8ff7-621daa1fecea button.colab-df-convert');\n",
              "        buttonEl.style.display =\n",
              "          google.colab.kernel.accessAllowed ? 'block' : 'none';\n",
              "\n",
              "        async function convertToInteractive(key) {\n",
              "          const element = document.querySelector('#df-e7138913-8c31-4500-8ff7-621daa1fecea');\n",
              "          const dataTable =\n",
              "            await google.colab.kernel.invokeFunction('convertToInteractive',\n",
              "                                                     [key], {});\n",
              "          if (!dataTable) return;\n",
              "\n",
              "          const docLinkHtml = 'Like what you see? Visit the ' +\n",
              "            '<a target=\"_blank\" href=https://colab.research.google.com/notebooks/data_table.ipynb>data table notebook</a>'\n",
              "            + ' to learn more about interactive tables.';\n",
              "          element.innerHTML = '';\n",
              "          dataTable['output_type'] = 'display_data';\n",
              "          await google.colab.output.renderOutput(dataTable, element);\n",
              "          const docLink = document.createElement('div');\n",
              "          docLink.innerHTML = docLinkHtml;\n",
              "          element.appendChild(docLink);\n",
              "        }\n",
              "      </script>\n",
              "    </div>\n",
              "  </div>\n",
              "  "
            ]
          },
          "metadata": {},
          "execution_count": 9
        }
      ],
      "source": [
        "data_arc[data_arc['Реактивная мощность'] < -1]"
      ]
    },
    {
      "cell_type": "markdown",
      "metadata": {
        "id": "-bxatuLn-K4x"
      },
      "source": [
        "Посмотрим на наличие других записей для этого ключа"
      ]
    },
    {
      "cell_type": "code",
      "execution_count": null,
      "metadata": {
        "colab": {
          "base_uri": "https://localhost:8080/",
          "height": 175
        },
        "id": "yPwxE-Tk-EBS",
        "outputId": "fcebecb1-08e6-418d-b38d-7957f3415545"
      },
      "outputs": [
        {
          "output_type": "execute_result",
          "data": {
            "text/plain": [
              "       key Начало нагрева дугой  Конец нагрева дугой  Активная мощность  \\\n",
              "9778  2116  2019-07-24 00:29:52  2019-07-24 00:31:54           0.433266   \n",
              "9779  2116  2019-07-24 00:35:50  2019-07-24 00:38:05           0.620265   \n",
              "9780  2116  2019-07-24 00:44:48  2019-07-24 00:46:37           0.495782   \n",
              "9781  2116  2019-07-24 00:51:51  2019-07-24 00:52:58           0.299368   \n",
              "\n",
              "      Реактивная мощность  \n",
              "9778             0.306141  \n",
              "9779             0.408352  \n",
              "9780          -715.504924  \n",
              "9781             0.198796  "
            ],
            "text/html": [
              "\n",
              "  <div id=\"df-5799be42-edc6-4c36-963a-2c5f37a101a6\">\n",
              "    <div class=\"colab-df-container\">\n",
              "      <div>\n",
              "<style scoped>\n",
              "    .dataframe tbody tr th:only-of-type {\n",
              "        vertical-align: middle;\n",
              "    }\n",
              "\n",
              "    .dataframe tbody tr th {\n",
              "        vertical-align: top;\n",
              "    }\n",
              "\n",
              "    .dataframe thead th {\n",
              "        text-align: right;\n",
              "    }\n",
              "</style>\n",
              "<table border=\"1\" class=\"dataframe\">\n",
              "  <thead>\n",
              "    <tr style=\"text-align: right;\">\n",
              "      <th></th>\n",
              "      <th>key</th>\n",
              "      <th>Начало нагрева дугой</th>\n",
              "      <th>Конец нагрева дугой</th>\n",
              "      <th>Активная мощность</th>\n",
              "      <th>Реактивная мощность</th>\n",
              "    </tr>\n",
              "  </thead>\n",
              "  <tbody>\n",
              "    <tr>\n",
              "      <th>9778</th>\n",
              "      <td>2116</td>\n",
              "      <td>2019-07-24 00:29:52</td>\n",
              "      <td>2019-07-24 00:31:54</td>\n",
              "      <td>0.433266</td>\n",
              "      <td>0.306141</td>\n",
              "    </tr>\n",
              "    <tr>\n",
              "      <th>9779</th>\n",
              "      <td>2116</td>\n",
              "      <td>2019-07-24 00:35:50</td>\n",
              "      <td>2019-07-24 00:38:05</td>\n",
              "      <td>0.620265</td>\n",
              "      <td>0.408352</td>\n",
              "    </tr>\n",
              "    <tr>\n",
              "      <th>9780</th>\n",
              "      <td>2116</td>\n",
              "      <td>2019-07-24 00:44:48</td>\n",
              "      <td>2019-07-24 00:46:37</td>\n",
              "      <td>0.495782</td>\n",
              "      <td>-715.504924</td>\n",
              "    </tr>\n",
              "    <tr>\n",
              "      <th>9781</th>\n",
              "      <td>2116</td>\n",
              "      <td>2019-07-24 00:51:51</td>\n",
              "      <td>2019-07-24 00:52:58</td>\n",
              "      <td>0.299368</td>\n",
              "      <td>0.198796</td>\n",
              "    </tr>\n",
              "  </tbody>\n",
              "</table>\n",
              "</div>\n",
              "      <button class=\"colab-df-convert\" onclick=\"convertToInteractive('df-5799be42-edc6-4c36-963a-2c5f37a101a6')\"\n",
              "              title=\"Convert this dataframe to an interactive table.\"\n",
              "              style=\"display:none;\">\n",
              "        \n",
              "  <svg xmlns=\"http://www.w3.org/2000/svg\" height=\"24px\"viewBox=\"0 0 24 24\"\n",
              "       width=\"24px\">\n",
              "    <path d=\"M0 0h24v24H0V0z\" fill=\"none\"/>\n",
              "    <path d=\"M18.56 5.44l.94 2.06.94-2.06 2.06-.94-2.06-.94-.94-2.06-.94 2.06-2.06.94zm-11 1L8.5 8.5l.94-2.06 2.06-.94-2.06-.94L8.5 2.5l-.94 2.06-2.06.94zm10 10l.94 2.06.94-2.06 2.06-.94-2.06-.94-.94-2.06-.94 2.06-2.06.94z\"/><path d=\"M17.41 7.96l-1.37-1.37c-.4-.4-.92-.59-1.43-.59-.52 0-1.04.2-1.43.59L10.3 9.45l-7.72 7.72c-.78.78-.78 2.05 0 2.83L4 21.41c.39.39.9.59 1.41.59.51 0 1.02-.2 1.41-.59l7.78-7.78 2.81-2.81c.8-.78.8-2.07 0-2.86zM5.41 20L4 18.59l7.72-7.72 1.47 1.35L5.41 20z\"/>\n",
              "  </svg>\n",
              "      </button>\n",
              "      \n",
              "  <style>\n",
              "    .colab-df-container {\n",
              "      display:flex;\n",
              "      flex-wrap:wrap;\n",
              "      gap: 12px;\n",
              "    }\n",
              "\n",
              "    .colab-df-convert {\n",
              "      background-color: #E8F0FE;\n",
              "      border: none;\n",
              "      border-radius: 50%;\n",
              "      cursor: pointer;\n",
              "      display: none;\n",
              "      fill: #1967D2;\n",
              "      height: 32px;\n",
              "      padding: 0 0 0 0;\n",
              "      width: 32px;\n",
              "    }\n",
              "\n",
              "    .colab-df-convert:hover {\n",
              "      background-color: #E2EBFA;\n",
              "      box-shadow: 0px 1px 2px rgba(60, 64, 67, 0.3), 0px 1px 3px 1px rgba(60, 64, 67, 0.15);\n",
              "      fill: #174EA6;\n",
              "    }\n",
              "\n",
              "    [theme=dark] .colab-df-convert {\n",
              "      background-color: #3B4455;\n",
              "      fill: #D2E3FC;\n",
              "    }\n",
              "\n",
              "    [theme=dark] .colab-df-convert:hover {\n",
              "      background-color: #434B5C;\n",
              "      box-shadow: 0px 1px 3px 1px rgba(0, 0, 0, 0.15);\n",
              "      filter: drop-shadow(0px 1px 2px rgba(0, 0, 0, 0.3));\n",
              "      fill: #FFFFFF;\n",
              "    }\n",
              "  </style>\n",
              "\n",
              "      <script>\n",
              "        const buttonEl =\n",
              "          document.querySelector('#df-5799be42-edc6-4c36-963a-2c5f37a101a6 button.colab-df-convert');\n",
              "        buttonEl.style.display =\n",
              "          google.colab.kernel.accessAllowed ? 'block' : 'none';\n",
              "\n",
              "        async function convertToInteractive(key) {\n",
              "          const element = document.querySelector('#df-5799be42-edc6-4c36-963a-2c5f37a101a6');\n",
              "          const dataTable =\n",
              "            await google.colab.kernel.invokeFunction('convertToInteractive',\n",
              "                                                     [key], {});\n",
              "          if (!dataTable) return;\n",
              "\n",
              "          const docLinkHtml = 'Like what you see? Visit the ' +\n",
              "            '<a target=\"_blank\" href=https://colab.research.google.com/notebooks/data_table.ipynb>data table notebook</a>'\n",
              "            + ' to learn more about interactive tables.';\n",
              "          element.innerHTML = '';\n",
              "          dataTable['output_type'] = 'display_data';\n",
              "          await google.colab.output.renderOutput(dataTable, element);\n",
              "          const docLink = document.createElement('div');\n",
              "          docLink.innerHTML = docLinkHtml;\n",
              "          element.appendChild(docLink);\n",
              "        }\n",
              "      </script>\n",
              "    </div>\n",
              "  </div>\n",
              "  "
            ]
          },
          "metadata": {},
          "execution_count": 10
        }
      ],
      "source": [
        "data_arc[data_arc['key'] == 2116]"
      ]
    },
    {
      "cell_type": "markdown",
      "metadata": {
        "id": "k98VTF6L-VEk"
      },
      "source": [
        "Поскольку есть другие записи для этого ключа - то просто удалим строчку с выбросом"
      ]
    },
    {
      "cell_type": "code",
      "execution_count": null,
      "metadata": {
        "id": "Um0h1Wmw-dRU"
      },
      "outputs": [],
      "source": [
        "data_arc = data_arc.drop(9780, axis=0)"
      ]
    },
    {
      "cell_type": "code",
      "execution_count": null,
      "metadata": {
        "colab": {
          "base_uri": "https://localhost:8080/",
          "height": 283
        },
        "id": "bmUV-nLy-syI",
        "outputId": "9d695e38-af88-4818-889f-faae0ea4c814"
      },
      "outputs": [
        {
          "output_type": "execute_result",
          "data": {
            "text/plain": [
              "<matplotlib.axes._subplots.AxesSubplot at 0x7f4fceddb550>"
            ]
          },
          "metadata": {},
          "execution_count": 12
        },
        {
          "output_type": "display_data",
          "data": {
            "text/plain": [
              "<Figure size 432x288 with 1 Axes>"
            ],
            "image/png": "[encoded data removed]"
          },
          "metadata": {
            "needs_background": "light"
          }
        }
      ],
      "source": [
        "# смотрим на гистограмму усредленных по ключу значений Реактивных мощностей\n",
        "data_arc.groupby(['key'])['Реактивная мощность'].mean().hist(bins=50)"
      ]
    },
    {
      "cell_type": "markdown",
      "metadata": {
        "id": "PEMmbyS8-3ky"
      },
      "source": [
        "Теперь распределение выглядит окей"
      ]
    },
    {
      "cell_type": "markdown",
      "metadata": {
        "id": "zL0SQTd8Cuhd"
      },
      "source": [
        "<font color='steelblue'><b>Комментарий тимлида</b></font><br>\n",
        "<font color='green'> ✔️ Хорошо.</font>"
      ]
    },
    {
      "cell_type": "markdown",
      "metadata": {
        "id": "6rfhQffMOq6d"
      },
      "source": [
        "### Вопросы\n",
        "\n",
        "Активная и реактивная мощность в одних и тех же единицах измерения?"
      ]
    },
    {
      "cell_type": "markdown",
      "metadata": {
        "id": "bctS7YovCuhe"
      },
      "source": [
        "<font color='steelblue'><b>Комментарий тимлида</b><br>\n",
        "Нет, они имеют разные единицы измерения, активная измеряется в Ватт, реактивная в Вольт-Ампер реактивных.</font>"
      ]
    },
    {
      "cell_type": "markdown",
      "metadata": {
        "id": "VbmsI_Tl_B4m"
      },
      "source": [
        "### data_bulk"
      ]
    },
    {
      "cell_type": "code",
      "execution_count": null,
      "metadata": {
        "colab": {
          "base_uri": "https://localhost:8080/",
          "height": 1000
        },
        "id": "SgydNLnkN9rz",
        "outputId": "fbd7992d-b0e7-40af-cffc-9378546683c0",
        "scrolled": false
      },
      "outputs": [
        {
          "output_type": "display_data",
          "data": {
            "text/plain": [
              "   key  Bulk 1  Bulk 2  Bulk 3  Bulk 4  Bulk 5  Bulk 6  Bulk 7  Bulk 8  \\\n",
              "0    1     NaN     NaN     NaN    43.0     NaN     NaN     NaN     NaN   \n",
              "1    2     NaN     NaN     NaN    73.0     NaN     NaN     NaN     NaN   \n",
              "2    3     NaN     NaN     NaN    34.0     NaN     NaN     NaN     NaN   \n",
              "3    4     NaN     NaN     NaN    81.0     NaN     NaN     NaN     NaN   \n",
              "4    5     NaN     NaN     NaN    78.0     NaN     NaN     NaN     NaN   \n",
              "\n",
              "   Bulk 9  Bulk 10  Bulk 11  Bulk 12  Bulk 13  Bulk 14  Bulk 15  \n",
              "0     NaN      NaN      NaN    206.0      NaN    150.0    154.0  \n",
              "1     NaN      NaN      NaN    206.0      NaN    149.0    154.0  \n",
              "2     NaN      NaN      NaN    205.0      NaN    152.0    153.0  \n",
              "3     NaN      NaN      NaN    207.0      NaN    153.0    154.0  \n",
              "4     NaN      NaN      NaN    203.0      NaN    151.0    152.0  "
            ],
            "text/html": [
              "\n",
              "  <div id=\"df-8eb624cf-73ad-4ac7-bab5-72e49bd67454\">\n",
              "    <div class=\"colab-df-container\">\n",
              "      <div>\n",
              "<style scoped>\n",
              "    .dataframe tbody tr th:only-of-type {\n",
              "        vertical-align: middle;\n",
              "    }\n",
              "\n",
              "    .dataframe tbody tr th {\n",
              "        vertical-align: top;\n",
              "    }\n",
              "\n",
              "    .dataframe thead th {\n",
              "        text-align: right;\n",
              "    }\n",
              "</style>\n",
              "<table border=\"1\" class=\"dataframe\">\n",
              "  <thead>\n",
              "    <tr style=\"text-align: right;\">\n",
              "      <th></th>\n",
              "      <th>key</th>\n",
              "      <th>Bulk 1</th>\n",
              "      <th>Bulk 2</th>\n",
              "      <th>Bulk 3</th>\n",
              "      <th>Bulk 4</th>\n",
              "      <th>Bulk 5</th>\n",
              "      <th>Bulk 6</th>\n",
              "      <th>Bulk 7</th>\n",
              "      <th>Bulk 8</th>\n",
              "      <th>Bulk 9</th>\n",
              "      <th>Bulk 10</th>\n",
              "      <th>Bulk 11</th>\n",
              "      <th>Bulk 12</th>\n",
              "      <th>Bulk 13</th>\n",
              "      <th>Bulk 14</th>\n",
              "      <th>Bulk 15</th>\n",
              "    </tr>\n",
              "  </thead>\n",
              "  <tbody>\n",
              "    <tr>\n",
              "      <th>0</th>\n",
              "      <td>1</td>\n",
              "      <td>NaN</td>\n",
              "      <td>NaN</td>\n",
              "      <td>NaN</td>\n",
              "      <td>43.0</td>\n",
              "      <td>NaN</td>\n",
              "      <td>NaN</td>\n",
              "      <td>NaN</td>\n",
              "      <td>NaN</td>\n",
              "      <td>NaN</td>\n",
              "      <td>NaN</td>\n",
              "      <td>NaN</td>\n",
              "      <td>206.0</td>\n",
              "      <td>NaN</td>\n",
              "      <td>150.0</td>\n",
              "      <td>154.0</td>\n",
              "    </tr>\n",
              "    <tr>\n",
              "      <th>1</th>\n",
              "      <td>2</td>\n",
              "      <td>NaN</td>\n",
              "      <td>NaN</td>\n",
              "      <td>NaN</td>\n",
              "      <td>73.0</td>\n",
              "      <td>NaN</td>\n",
              "      <td>NaN</td>\n",
              "      <td>NaN</td>\n",
              "      <td>NaN</td>\n",
              "      <td>NaN</td>\n",
              "      <td>NaN</td>\n",
              "      <td>NaN</td>\n",
              "      <td>206.0</td>\n",
              "      <td>NaN</td>\n",
              "      <td>149.0</td>\n",
              "      <td>154.0</td>\n",
              "    </tr>\n",
              "    <tr>\n",
              "      <th>2</th>\n",
              "      <td>3</td>\n",
              "      <td>NaN</td>\n",
              "      <td>NaN</td>\n",
              "      <td>NaN</td>\n",
              "      <td>34.0</td>\n",
              "      <td>NaN</td>\n",
              "      <td>NaN</td>\n",
              "      <td>NaN</td>\n",
              "      <td>NaN</td>\n",
              "      <td>NaN</td>\n",
              "      <td>NaN</td>\n",
              "      <td>NaN</td>\n",
              "      <td>205.0</td>\n",
              "      <td>NaN</td>\n",
              "      <td>152.0</td>\n",
              "      <td>153.0</td>\n",
              "    </tr>\n",
              "    <tr>\n",
              "      <th>3</th>\n",
              "      <td>4</td>\n",
              "      <td>NaN</td>\n",
              "      <td>NaN</td>\n",
              "      <td>NaN</td>\n",
              "      <td>81.0</td>\n",
              "      <td>NaN</td>\n",
              "      <td>NaN</td>\n",
              "      <td>NaN</td>\n",
              "      <td>NaN</td>\n",
              "      <td>NaN</td>\n",
              "      <td>NaN</td>\n",
              "      <td>NaN</td>\n",
              "      <td>207.0</td>\n",
              "      <td>NaN</td>\n",
              "      <td>153.0</td>\n",
              "      <td>154.0</td>\n",
              "    </tr>\n",
              "    <tr>\n",
              "      <th>4</th>\n",
              "      <td>5</td>\n",
              "      <td>NaN</td>\n",
              "      <td>NaN</td>\n",
              "      <td>NaN</td>\n",
              "      <td>78.0</td>\n",
              "      <td>NaN</td>\n",
              "      <td>NaN</td>\n",
              "      <td>NaN</td>\n",
              "      <td>NaN</td>\n",
              "      <td>NaN</td>\n",
              "      <td>NaN</td>\n",
              "      <td>NaN</td>\n",
              "      <td>203.0</td>\n",
              "      <td>NaN</td>\n",
              "      <td>151.0</td>\n",
              "      <td>152.0</td>\n",
              "    </tr>\n",
              "  </tbody>\n",
              "</table>\n",
              "</div>\n",
              "      <button class=\"colab-df-convert\" onclick=\"convertToInteractive('df-8eb624cf-73ad-4ac7-bab5-72e49bd67454')\"\n",
              "              title=\"Convert this dataframe to an interactive table.\"\n",
              "              style=\"display:none;\">\n",
              "        \n",
              "  <svg xmlns=\"http://www.w3.org/2000/svg\" height=\"24px\"viewBox=\"0 0 24 24\"\n",
              "       width=\"24px\">\n",
              "    <path d=\"M0 0h24v24H0V0z\" fill=\"none\"/>\n",
              "    <path d=\"M18.56 5.44l.94 2.06.94-2.06 2.06-.94-2.06-.94-.94-2.06-.94 2.06-2.06.94zm-11 1L8.5 8.5l.94-2.06 2.06-.94-2.06-.94L8.5 2.5l-.94 2.06-2.06.94zm10 10l.94 2.06.94-2.06 2.06-.94-2.06-.94-.94-2.06-.94 2.06-2.06.94z\"/><path d=\"M17.41 7.96l-1.37-1.37c-.4-.4-.92-.59-1.43-.59-.52 0-1.04.2-1.43.59L10.3 9.45l-7.72 7.72c-.78.78-.78 2.05 0 2.83L4 21.41c.39.39.9.59 1.41.59.51 0 1.02-.2 1.41-.59l7.78-7.78 2.81-2.81c.8-.78.8-2.07 0-2.86zM5.41 20L4 18.59l7.72-7.72 1.47 1.35L5.41 20z\"/>\n",
              "  </svg>\n",
              "      </button>\n",
              "      \n",
              "  <style>\n",
              "    .colab-df-container {\n",
              "      display:flex;\n",
              "      flex-wrap:wrap;\n",
              "      gap: 12px;\n",
              "    }\n",
              "\n",
              "    .colab-df-convert {\n",
              "      background-color: #E8F0FE;\n",
              "      border: none;\n",
              "      border-radius: 50%;\n",
              "      cursor: pointer;\n",
              "      display: none;\n",
              "      fill: #1967D2;\n",
              "      height: 32px;\n",
              "      padding: 0 0 0 0;\n",
              "      width: 32px;\n",
              "    }\n",
              "\n",
              "    .colab-df-convert:hover {\n",
              "      background-color: #E2EBFA;\n",
              "      box-shadow: 0px 1px 2px rgba(60, 64, 67, 0.3), 0px 1px 3px 1px rgba(60, 64, 67, 0.15);\n",
              "      fill: #174EA6;\n",
              "    }\n",
              "\n",
              "    [theme=dark] .colab-df-convert {\n",
              "      background-color: #3B4455;\n",
              "      fill: #D2E3FC;\n",
              "    }\n",
              "\n",
              "    [theme=dark] .colab-df-convert:hover {\n",
              "      background-color: #434B5C;\n",
              "      box-shadow: 0px 1px 3px 1px rgba(0, 0, 0, 0.15);\n",
              "      filter: drop-shadow(0px 1px 2px rgba(0, 0, 0, 0.3));\n",
              "      fill: #FFFFFF;\n",
              "    }\n",
              "  </style>\n",
              "\n",
              "      <script>\n",
              "        const buttonEl =\n",
              "          document.querySelector('#df-8eb624cf-73ad-4ac7-bab5-72e49bd67454 button.colab-df-convert');\n",
              "        buttonEl.style.display =\n",
              "          google.colab.kernel.accessAllowed ? 'block' : 'none';\n",
              "\n",
              "        async function convertToInteractive(key) {\n",
              "          const element = document.querySelector('#df-8eb624cf-73ad-4ac7-bab5-72e49bd67454');\n",
              "          const dataTable =\n",
              "            await google.colab.kernel.invokeFunction('convertToInteractive',\n",
              "                                                     [key], {});\n",
              "          if (!dataTable) return;\n",
              "\n",
              "          const docLinkHtml = 'Like what you see? Visit the ' +\n",
              "            '<a target=\"_blank\" href=https://colab.research.google.com/notebooks/data_table.ipynb>data table notebook</a>'\n",
              "            + ' to learn more about interactive tables.';\n",
              "          element.innerHTML = '';\n",
              "          dataTable['output_type'] = 'display_data';\n",
              "          await google.colab.output.renderOutput(dataTable, element);\n",
              "          const docLink = document.createElement('div');\n",
              "          docLink.innerHTML = docLinkHtml;\n",
              "          element.appendChild(docLink);\n",
              "        }\n",
              "      </script>\n",
              "    </div>\n",
              "  </div>\n",
              "  "
            ]
          },
          "metadata": {}
        },
        {
          "output_type": "stream",
          "name": "stdout",
          "text": [
            "<class 'pandas.core.frame.DataFrame'>\n",
            "RangeIndex: 3129 entries, 0 to 3128\n",
            "Data columns (total 16 columns):\n",
            " #   Column   Non-Null Count  Dtype  \n",
            "---  ------   --------------  -----  \n",
            " 0   key      3129 non-null   int64  \n",
            " 1   Bulk 1   252 non-null    float64\n",
            " 2   Bulk 2   22 non-null     float64\n",
            " 3   Bulk 3   1298 non-null   float64\n",
            " 4   Bulk 4   1014 non-null   float64\n",
            " 5   Bulk 5   77 non-null     float64\n",
            " 6   Bulk 6   576 non-null    float64\n",
            " 7   Bulk 7   25 non-null     float64\n",
            " 8   Bulk 8   1 non-null      float64\n",
            " 9   Bulk 9   19 non-null     float64\n",
            " 10  Bulk 10  176 non-null    float64\n",
            " 11  Bulk 11  177 non-null    float64\n",
            " 12  Bulk 12  2450 non-null   float64\n",
            " 13  Bulk 13  18 non-null     float64\n",
            " 14  Bulk 14  2806 non-null   float64\n",
            " 15  Bulk 15  2248 non-null   float64\n",
            "dtypes: float64(15), int64(1)\n",
            "memory usage: 391.2 KB\n"
          ]
        },
        {
          "output_type": "display_data",
          "data": {
            "text/plain": [
              "None"
            ]
          },
          "metadata": {}
        },
        {
          "output_type": "display_data",
          "data": {
            "text/plain": [
              "               key      Bulk 1      Bulk 2       Bulk 3       Bulk 4  \\\n",
              "count  3129.000000  252.000000   22.000000  1298.000000  1014.000000   \n",
              "mean   1624.383509   39.242063  253.045455   113.879045   104.394477   \n",
              "std     933.337642   18.277654   21.180578    75.483494    48.184126   \n",
              "min       1.000000   10.000000  228.000000     6.000000    12.000000   \n",
              "25%     816.000000   27.000000  242.000000    58.000000    72.000000   \n",
              "50%    1622.000000   31.000000  251.500000    97.500000   102.000000   \n",
              "75%    2431.000000   46.000000  257.750000   152.000000   133.000000   \n",
              "max    3241.000000  185.000000  325.000000   454.000000   281.000000   \n",
              "\n",
              "           Bulk 5      Bulk 6      Bulk 7  Bulk 8      Bulk 9     Bulk 10  \\\n",
              "count   77.000000  576.000000   25.000000     1.0   19.000000  176.000000   \n",
              "mean   107.025974  118.925347  305.600000    49.0   76.315789   83.284091   \n",
              "std     81.790646   72.057776  191.022904     NaN   21.720581   26.060347   \n",
              "min     11.000000   17.000000   47.000000    49.0   63.000000   24.000000   \n",
              "25%     70.000000   69.750000  155.000000    49.0   66.000000   64.000000   \n",
              "50%     86.000000  100.000000  298.000000    49.0   68.000000   86.500000   \n",
              "75%    132.000000  157.000000  406.000000    49.0   70.500000  102.000000   \n",
              "max    603.000000  503.000000  772.000000    49.0  147.000000  159.000000   \n",
              "\n",
              "          Bulk 11      Bulk 12     Bulk 13      Bulk 14      Bulk 15  \n",
              "count  177.000000  2450.000000   18.000000  2806.000000  2248.000000  \n",
              "mean    76.819209   260.471020  181.111111   170.284747   160.513345  \n",
              "std     59.655365   120.649269   46.088009    65.868652    51.765319  \n",
              "min      8.000000    53.000000  151.000000    16.000000     1.000000  \n",
              "25%     25.000000   204.000000  153.250000   119.000000   105.000000  \n",
              "50%     64.000000   208.000000  155.500000   151.000000   160.000000  \n",
              "75%    106.000000   316.000000  203.500000   205.750000   205.000000  \n",
              "max    313.000000  1849.000000  305.000000   636.000000   405.000000  "
            ],
            "text/html": [
              "\n",
              "  <div id=\"df-6613a891-6fe8-40e6-9671-0ee61c2957ab\">\n",
              "    <div class=\"colab-df-container\">\n",
              "      <div>\n",
              "<style scoped>\n",
              "    .dataframe tbody tr th:only-of-type {\n",
              "        vertical-align: middle;\n",
              "    }\n",
              "\n",
              "    .dataframe tbody tr th {\n",
              "        vertical-align: top;\n",
              "    }\n",
              "\n",
              "    .dataframe thead th {\n",
              "        text-align: right;\n",
              "    }\n",
              "</style>\n",
              "<table border=\"1\" class=\"dataframe\">\n",
              "  <thead>\n",
              "    <tr style=\"text-align: right;\">\n",
              "      <th></th>\n",
              "      <th>key</th>\n",
              "      <th>Bulk 1</th>\n",
              "      <th>Bulk 2</th>\n",
              "      <th>Bulk 3</th>\n",
              "      <th>Bulk 4</th>\n",
              "      <th>Bulk 5</th>\n",
              "      <th>Bulk 6</th>\n",
              "      <th>Bulk 7</th>\n",
              "      <th>Bulk 8</th>\n",
              "      <th>Bulk 9</th>\n",
              "      <th>Bulk 10</th>\n",
              "      <th>Bulk 11</th>\n",
              "      <th>Bulk 12</th>\n",
              "      <th>Bulk 13</th>\n",
              "      <th>Bulk 14</th>\n",
              "      <th>Bulk 15</th>\n",
              "    </tr>\n",
              "  </thead>\n",
              "  <tbody>\n",
              "    <tr>\n",
              "      <th>count</th>\n",
              "      <td>3129.000000</td>\n",
              "      <td>252.000000</td>\n",
              "      <td>22.000000</td>\n",
              "      <td>1298.000000</td>\n",
              "      <td>1014.000000</td>\n",
              "      <td>77.000000</td>\n",
              "      <td>576.000000</td>\n",
              "      <td>25.000000</td>\n",
              "      <td>1.0</td>\n",
              "      <td>19.000000</td>\n",
              "      <td>176.000000</td>\n",
              "      <td>177.000000</td>\n",
              "      <td>2450.000000</td>\n",
              "      <td>18.000000</td>\n",
              "      <td>2806.000000</td>\n",
              "      <td>2248.000000</td>\n",
              "    </tr>\n",
              "    <tr>\n",
              "      <th>mean</th>\n",
              "      <td>1624.383509</td>\n",
              "      <td>39.242063</td>\n",
              "      <td>253.045455</td>\n",
              "      <td>113.879045</td>\n",
              "      <td>104.394477</td>\n",
              "      <td>107.025974</td>\n",
              "      <td>118.925347</td>\n",
              "      <td>305.600000</td>\n",
              "      <td>49.0</td>\n",
              "      <td>76.315789</td>\n",
              "      <td>83.284091</td>\n",
              "      <td>76.819209</td>\n",
              "      <td>260.471020</td>\n",
              "      <td>181.111111</td>\n",
              "      <td>170.284747</td>\n",
              "      <td>160.513345</td>\n",
              "    </tr>\n",
              "    <tr>\n",
              "      <th>std</th>\n",
              "      <td>933.337642</td>\n",
              "      <td>18.277654</td>\n",
              "      <td>21.180578</td>\n",
              "      <td>75.483494</td>\n",
              "      <td>48.184126</td>\n",
              "      <td>81.790646</td>\n",
              "      <td>72.057776</td>\n",
              "      <td>191.022904</td>\n",
              "      <td>NaN</td>\n",
              "      <td>21.720581</td>\n",
              "      <td>26.060347</td>\n",
              "      <td>59.655365</td>\n",
              "      <td>120.649269</td>\n",
              "      <td>46.088009</td>\n",
              "      <td>65.868652</td>\n",
              "      <td>51.765319</td>\n",
              "    </tr>\n",
              "    <tr>\n",
              "      <th>min</th>\n",
              "      <td>1.000000</td>\n",
              "      <td>10.000000</td>\n",
              "      <td>228.000000</td>\n",
              "      <td>6.000000</td>\n",
              "      <td>12.000000</td>\n",
              "      <td>11.000000</td>\n",
              "      <td>17.000000</td>\n",
              "      <td>47.000000</td>\n",
              "      <td>49.0</td>\n",
              "      <td>63.000000</td>\n",
              "      <td>24.000000</td>\n",
              "      <td>8.000000</td>\n",
              "      <td>53.000000</td>\n",
              "      <td>151.000000</td>\n",
              "      <td>16.000000</td>\n",
              "      <td>1.000000</td>\n",
              "    </tr>\n",
              "    <tr>\n",
              "      <th>25%</th>\n",
              "      <td>816.000000</td>\n",
              "      <td>27.000000</td>\n",
              "      <td>242.000000</td>\n",
              "      <td>58.000000</td>\n",
              "      <td>72.000000</td>\n",
              "      <td>70.000000</td>\n",
              "      <td>69.750000</td>\n",
              "      <td>155.000000</td>\n",
              "      <td>49.0</td>\n",
              "      <td>66.000000</td>\n",
              "      <td>64.000000</td>\n",
              "      <td>25.000000</td>\n",
              "      <td>204.000000</td>\n",
              "      <td>153.250000</td>\n",
              "      <td>119.000000</td>\n",
              "      <td>105.000000</td>\n",
              "    </tr>\n",
              "    <tr>\n",
              "      <th>50%</th>\n",
              "      <td>1622.000000</td>\n",
              "      <td>31.000000</td>\n",
              "      <td>251.500000</td>\n",
              "      <td>97.500000</td>\n",
              "      <td>102.000000</td>\n",
              "      <td>86.000000</td>\n",
              "      <td>100.000000</td>\n",
              "      <td>298.000000</td>\n",
              "      <td>49.0</td>\n",
              "      <td>68.000000</td>\n",
              "      <td>86.500000</td>\n",
              "      <td>64.000000</td>\n",
              "      <td>208.000000</td>\n",
              "      <td>155.500000</td>\n",
              "      <td>151.000000</td>\n",
              "      <td>160.000000</td>\n",
              "    </tr>\n",
              "    <tr>\n",
              "      <th>75%</th>\n",
              "      <td>2431.000000</td>\n",
              "      <td>46.000000</td>\n",
              "      <td>257.750000</td>\n",
              "      <td>152.000000</td>\n",
              "      <td>133.000000</td>\n",
              "      <td>132.000000</td>\n",
              "      <td>157.000000</td>\n",
              "      <td>406.000000</td>\n",
              "      <td>49.0</td>\n",
              "      <td>70.500000</td>\n",
              "      <td>102.000000</td>\n",
              "      <td>106.000000</td>\n",
              "      <td>316.000000</td>\n",
              "      <td>203.500000</td>\n",
              "      <td>205.750000</td>\n",
              "      <td>205.000000</td>\n",
              "    </tr>\n",
              "    <tr>\n",
              "      <th>max</th>\n",
              "      <td>3241.000000</td>\n",
              "      <td>185.000000</td>\n",
              "      <td>325.000000</td>\n",
              "      <td>454.000000</td>\n",
              "      <td>281.000000</td>\n",
              "      <td>603.000000</td>\n",
              "      <td>503.000000</td>\n",
              "      <td>772.000000</td>\n",
              "      <td>49.0</td>\n",
              "      <td>147.000000</td>\n",
              "      <td>159.000000</td>\n",
              "      <td>313.000000</td>\n",
              "      <td>1849.000000</td>\n",
              "      <td>305.000000</td>\n",
              "      <td>636.000000</td>\n",
              "      <td>405.000000</td>\n",
              "    </tr>\n",
              "  </tbody>\n",
              "</table>\n",
              "</div>\n",
              "      <button class=\"colab-df-convert\" onclick=\"convertToInteractive('df-6613a891-6fe8-40e6-9671-0ee61c2957ab')\"\n",
              "              title=\"Convert this dataframe to an interactive table.\"\n",
              "              style=\"display:none;\">\n",
              "        \n",
              "  <svg xmlns=\"http://www.w3.org/2000/svg\" height=\"24px\"viewBox=\"0 0 24 24\"\n",
              "       width=\"24px\">\n",
              "    <path d=\"M0 0h24v24H0V0z\" fill=\"none\"/>\n",
              "    <path d=\"M18.56 5.44l.94 2.06.94-2.06 2.06-.94-2.06-.94-.94-2.06-.94 2.06-2.06.94zm-11 1L8.5 8.5l.94-2.06 2.06-.94-2.06-.94L8.5 2.5l-.94 2.06-2.06.94zm10 10l.94 2.06.94-2.06 2.06-.94-2.06-.94-.94-2.06-.94 2.06-2.06.94z\"/><path d=\"M17.41 7.96l-1.37-1.37c-.4-.4-.92-.59-1.43-.59-.52 0-1.04.2-1.43.59L10.3 9.45l-7.72 7.72c-.78.78-.78 2.05 0 2.83L4 21.41c.39.39.9.59 1.41.59.51 0 1.02-.2 1.41-.59l7.78-7.78 2.81-2.81c.8-.78.8-2.07 0-2.86zM5.41 20L4 18.59l7.72-7.72 1.47 1.35L5.41 20z\"/>\n",
              "  </svg>\n",
              "      </button>\n",
              "      \n",
              "  <style>\n",
              "    .colab-df-container {\n",
              "      display:flex;\n",
              "      flex-wrap:wrap;\n",
              "      gap: 12px;\n",
              "    }\n",
              "\n",
              "    .colab-df-convert {\n",
              "      background-color: #E8F0FE;\n",
              "      border: none;\n",
              "      border-radius: 50%;\n",
              "      cursor: pointer;\n",
              "      display: none;\n",
              "      fill: #1967D2;\n",
              "      height: 32px;\n",
              "      padding: 0 0 0 0;\n",
              "      width: 32px;\n",
              "    }\n",
              "\n",
              "    .colab-df-convert:hover {\n",
              "      background-color: #E2EBFA;\n",
              "      box-shadow: 0px 1px 2px rgba(60, 64, 67, 0.3), 0px 1px 3px 1px rgba(60, 64, 67, 0.15);\n",
              "      fill: #174EA6;\n",
              "    }\n",
              "\n",
              "    [theme=dark] .colab-df-convert {\n",
              "      background-color: #3B4455;\n",
              "      fill: #D2E3FC;\n",
              "    }\n",
              "\n",
              "    [theme=dark] .colab-df-convert:hover {\n",
              "      background-color: #434B5C;\n",
              "      box-shadow: 0px 1px 3px 1px rgba(0, 0, 0, 0.15);\n",
              "      filter: drop-shadow(0px 1px 2px rgba(0, 0, 0, 0.3));\n",
              "      fill: #FFFFFF;\n",
              "    }\n",
              "  </style>\n",
              "\n",
              "      <script>\n",
              "        const buttonEl =\n",
              "          document.querySelector('#df-6613a891-6fe8-40e6-9671-0ee61c2957ab button.colab-df-convert');\n",
              "        buttonEl.style.display =\n",
              "          google.colab.kernel.accessAllowed ? 'block' : 'none';\n",
              "\n",
              "        async function convertToInteractive(key) {\n",
              "          const element = document.querySelector('#df-6613a891-6fe8-40e6-9671-0ee61c2957ab');\n",
              "          const dataTable =\n",
              "            await google.colab.kernel.invokeFunction('convertToInteractive',\n",
              "                                                     [key], {});\n",
              "          if (!dataTable) return;\n",
              "\n",
              "          const docLinkHtml = 'Like what you see? Visit the ' +\n",
              "            '<a target=\"_blank\" href=https://colab.research.google.com/notebooks/data_table.ipynb>data table notebook</a>'\n",
              "            + ' to learn more about interactive tables.';\n",
              "          element.innerHTML = '';\n",
              "          dataTable['output_type'] = 'display_data';\n",
              "          await google.colab.output.renderOutput(dataTable, element);\n",
              "          const docLink = document.createElement('div');\n",
              "          docLink.innerHTML = docLinkHtml;\n",
              "          element.appendChild(docLink);\n",
              "        }\n",
              "      </script>\n",
              "    </div>\n",
              "  </div>\n",
              "  "
            ]
          },
          "metadata": {}
        }
      ],
      "source": [
        "data_bulk = read_file(path + 'data_bulk.csv')"
      ]
    },
    {
      "cell_type": "code",
      "execution_count": null,
      "metadata": {
        "colab": {
          "base_uri": "https://localhost:8080/"
        },
        "id": "MndX2z2I_MSF",
        "outputId": "1ec45caa-376e-477e-fef1-9a42c6b047ea"
      },
      "outputs": [
        {
          "output_type": "stream",
          "name": "stdout",
          "text": [
            "Количество уникальных ключей в таблице: 3129\n",
            "Размер множества ключей, для которых есть записи во всех таблицах: 3128\n"
          ]
        }
      ],
      "source": [
        "key_set = count_keys(data_bulk, key_set)"
      ]
    },
    {
      "cell_type": "code",
      "execution_count": null,
      "metadata": {
        "colab": {
          "base_uri": "https://localhost:8080/",
          "height": 607
        },
        "id": "7edyAQHvA8_G",
        "outputId": "68a6054a-1c42-4044-f952-0b3541cb2d3c"
      },
      "outputs": [
        {
          "output_type": "display_data",
          "data": {
            "text/plain": [
              "<Figure size 1080x720 with 15 Axes>"
            ],
            "image/png": "[encoded data removed]"
          },
          "metadata": {
            "needs_background": "light"
          }
        }
      ],
      "source": [
        "fig, axes = plt.subplots(ncols=5, nrows=3, figsize=(15, 10))\n",
        "for i in range(15):\n",
        "    axes[i // 5][i % 5].hist(data_bulk[f'Bulk {i + 1}'], bins=20)\n",
        "    axes[i // 5][i % 5].title.set_text(f'Bulk {i + 1}')"
      ]
    },
    {
      "cell_type": "markdown",
      "metadata": {
        "id": "QzHB73DADXl6"
      },
      "source": [
        "Все выглядит более-менее прилично. Bulk 8 добявлялся ровно один раз, так что он не константный \n",
        "\n"
      ]
    },
    {
      "cell_type": "markdown",
      "metadata": {
        "id": "5ieC0tR-Cuhe"
      },
      "source": [
        "<font color='steelblue'><b>Комментарий тимлида</b></font><br>\n",
        "<font color='green'> ✔️ Всё верно.</font>"
      ]
    },
    {
      "cell_type": "markdown",
      "metadata": {
        "id": "wmTmNJtqO70q"
      },
      "source": [
        "### Вопросы\n",
        "\n",
        "Пропуски обозначают, что добавку не добавляли\n",
        "\n",
        "Объемы в одних единицах измерения?\n",
        "\n",
        "Не для всех ключей имеются записи в таблице. Что делать с ключами, для которых нет записей в таблице data_bulk? Удалять/считать, что к ним ничего не добавлялось?"
      ]
    },
    {
      "cell_type": "markdown",
      "metadata": {
        "id": "WUgtwnsOCuhf"
      },
      "source": [
        "<font color='steelblue'><b>Комментарий тимлида</b><br>\n",
        "1. Да\n",
        "2. Да, в кубических сантиметрах.\n",
        "3. Если ключей нет, считаем данные потерянными. Мы можем использовать только те ключи, которые есть во всех таблицах.</font>"
      ]
    },
    {
      "cell_type": "markdown",
      "metadata": {
        "id": "SiomjPDVF1B4"
      },
      "source": [
        "### data_bulk_time"
      ]
    },
    {
      "cell_type": "code",
      "execution_count": null,
      "metadata": {
        "colab": {
          "base_uri": "https://localhost:8080/",
          "height": 1000
        },
        "id": "NcNeE1iFOfeF",
        "outputId": "1e1cdef6-659f-43dc-da41-9d92d7d0f783"
      },
      "outputs": [
        {
          "output_type": "display_data",
          "data": {
            "text/plain": [
              "   key Bulk 1 Bulk 2 Bulk 3               Bulk 4 Bulk 5 Bulk 6 Bulk 7 Bulk 8  \\\n",
              "0    1    NaN    NaN    NaN  2019-05-03 11:21:30    NaN    NaN    NaN    NaN   \n",
              "1    2    NaN    NaN    NaN  2019-05-03 11:46:38    NaN    NaN    NaN    NaN   \n",
              "2    3    NaN    NaN    NaN  2019-05-03 12:31:06    NaN    NaN    NaN    NaN   \n",
              "3    4    NaN    NaN    NaN  2019-05-03 12:48:43    NaN    NaN    NaN    NaN   \n",
              "4    5    NaN    NaN    NaN  2019-05-03 13:18:50    NaN    NaN    NaN    NaN   \n",
              "\n",
              "  Bulk 9 Bulk 10 Bulk 11              Bulk 12 Bulk 13              Bulk 14  \\\n",
              "0    NaN     NaN     NaN  2019-05-03 11:03:52     NaN  2019-05-03 11:03:52   \n",
              "1    NaN     NaN     NaN  2019-05-03 11:40:20     NaN  2019-05-03 11:40:20   \n",
              "2    NaN     NaN     NaN  2019-05-03 12:09:40     NaN  2019-05-03 12:09:40   \n",
              "3    NaN     NaN     NaN  2019-05-03 12:41:24     NaN  2019-05-03 12:41:24   \n",
              "4    NaN     NaN     NaN  2019-05-03 13:12:56     NaN  2019-05-03 13:12:56   \n",
              "\n",
              "               Bulk 15  \n",
              "0  2019-05-03 11:03:52  \n",
              "1  2019-05-03 11:40:20  \n",
              "2  2019-05-03 12:09:40  \n",
              "3  2019-05-03 12:41:24  \n",
              "4  2019-05-03 13:12:56  "
            ],
            "text/html": [
              "\n",
              "  <div id=\"df-129903b6-8e33-47a4-b1fc-385a464f6d21\">\n",
              "    <div class=\"colab-df-container\">\n",
              "      <div>\n",
              "<style scoped>\n",
              "    .dataframe tbody tr th:only-of-type {\n",
              "        vertical-align: middle;\n",
              "    }\n",
              "\n",
              "    .dataframe tbody tr th {\n",
              "        vertical-align: top;\n",
              "    }\n",
              "\n",
              "    .dataframe thead th {\n",
              "        text-align: right;\n",
              "    }\n",
              "</style>\n",
              "<table border=\"1\" class=\"dataframe\">\n",
              "  <thead>\n",
              "    <tr style=\"text-align: right;\">\n",
              "      <th></th>\n",
              "      <th>key</th>\n",
              "      <th>Bulk 1</th>\n",
              "      <th>Bulk 2</th>\n",
              "      <th>Bulk 3</th>\n",
              "      <th>Bulk 4</th>\n",
              "      <th>Bulk 5</th>\n",
              "      <th>Bulk 6</th>\n",
              "      <th>Bulk 7</th>\n",
              "      <th>Bulk 8</th>\n",
              "      <th>Bulk 9</th>\n",
              "      <th>Bulk 10</th>\n",
              "      <th>Bulk 11</th>\n",
              "      <th>Bulk 12</th>\n",
              "      <th>Bulk 13</th>\n",
              "      <th>Bulk 14</th>\n",
              "      <th>Bulk 15</th>\n",
              "    </tr>\n",
              "  </thead>\n",
              "  <tbody>\n",
              "    <tr>\n",
              "      <th>0</th>\n",
              "      <td>1</td>\n",
              "      <td>NaN</td>\n",
              "      <td>NaN</td>\n",
              "      <td>NaN</td>\n",
              "      <td>2019-05-03 11:21:30</td>\n",
              "      <td>NaN</td>\n",
              "      <td>NaN</td>\n",
              "      <td>NaN</td>\n",
              "      <td>NaN</td>\n",
              "      <td>NaN</td>\n",
              "      <td>NaN</td>\n",
              "      <td>NaN</td>\n",
              "      <td>2019-05-03 11:03:52</td>\n",
              "      <td>NaN</td>\n",
              "      <td>2019-05-03 11:03:52</td>\n",
              "      <td>2019-05-03 11:03:52</td>\n",
              "    </tr>\n",
              "    <tr>\n",
              "      <th>1</th>\n",
              "      <td>2</td>\n",
              "      <td>NaN</td>\n",
              "      <td>NaN</td>\n",
              "      <td>NaN</td>\n",
              "      <td>2019-05-03 11:46:38</td>\n",
              "      <td>NaN</td>\n",
              "      <td>NaN</td>\n",
              "      <td>NaN</td>\n",
              "      <td>NaN</td>\n",
              "      <td>NaN</td>\n",
              "      <td>NaN</td>\n",
              "      <td>NaN</td>\n",
              "      <td>2019-05-03 11:40:20</td>\n",
              "      <td>NaN</td>\n",
              "      <td>2019-05-03 11:40:20</td>\n",
              "      <td>2019-05-03 11:40:20</td>\n",
              "    </tr>\n",
              "    <tr>\n",
              "      <th>2</th>\n",
              "      <td>3</td>\n",
              "      <td>NaN</td>\n",
              "      <td>NaN</td>\n",
              "      <td>NaN</td>\n",
              "      <td>2019-05-03 12:31:06</td>\n",
              "      <td>NaN</td>\n",
              "      <td>NaN</td>\n",
              "      <td>NaN</td>\n",
              "      <td>NaN</td>\n",
              "      <td>NaN</td>\n",
              "      <td>NaN</td>\n",
              "      <td>NaN</td>\n",
              "      <td>2019-05-03 12:09:40</td>\n",
              "      <td>NaN</td>\n",
              "      <td>2019-05-03 12:09:40</td>\n",
              "      <td>2019-05-03 12:09:40</td>\n",
              "    </tr>\n",
              "    <tr>\n",
              "      <th>3</th>\n",
              "      <td>4</td>\n",
              "      <td>NaN</td>\n",
              "      <td>NaN</td>\n",
              "      <td>NaN</td>\n",
              "      <td>2019-05-03 12:48:43</td>\n",
              "      <td>NaN</td>\n",
              "      <td>NaN</td>\n",
              "      <td>NaN</td>\n",
              "      <td>NaN</td>\n",
              "      <td>NaN</td>\n",
              "      <td>NaN</td>\n",
              "      <td>NaN</td>\n",
              "      <td>2019-05-03 12:41:24</td>\n",
              "      <td>NaN</td>\n",
              "      <td>2019-05-03 12:41:24</td>\n",
              "      <td>2019-05-03 12:41:24</td>\n",
              "    </tr>\n",
              "    <tr>\n",
              "      <th>4</th>\n",
              "      <td>5</td>\n",
              "      <td>NaN</td>\n",
              "      <td>NaN</td>\n",
              "      <td>NaN</td>\n",
              "      <td>2019-05-03 13:18:50</td>\n",
              "      <td>NaN</td>\n",
              "      <td>NaN</td>\n",
              "      <td>NaN</td>\n",
              "      <td>NaN</td>\n",
              "      <td>NaN</td>\n",
              "      <td>NaN</td>\n",
              "      <td>NaN</td>\n",
              "      <td>2019-05-03 13:12:56</td>\n",
              "      <td>NaN</td>\n",
              "      <td>2019-05-03 13:12:56</td>\n",
              "      <td>2019-05-03 13:12:56</td>\n",
              "    </tr>\n",
              "  </tbody>\n",
              "</table>\n",
              "</div>\n",
              "      <button class=\"colab-df-convert\" onclick=\"convertToInteractive('df-129903b6-8e33-47a4-b1fc-385a464f6d21')\"\n",
              "              title=\"Convert this dataframe to an interactive table.\"\n",
              "              style=\"display:none;\">\n",
              "        \n",
              "  <svg xmlns=\"http://www.w3.org/2000/svg\" height=\"24px\"viewBox=\"0 0 24 24\"\n",
              "       width=\"24px\">\n",
              "    <path d=\"M0 0h24v24H0V0z\" fill=\"none\"/>\n",
              "    <path d=\"M18.56 5.44l.94 2.06.94-2.06 2.06-.94-2.06-.94-.94-2.06-.94 2.06-2.06.94zm-11 1L8.5 8.5l.94-2.06 2.06-.94-2.06-.94L8.5 2.5l-.94 2.06-2.06.94zm10 10l.94 2.06.94-2.06 2.06-.94-2.06-.94-.94-2.06-.94 2.06-2.06.94z\"/><path d=\"M17.41 7.96l-1.37-1.37c-.4-.4-.92-.59-1.43-.59-.52 0-1.04.2-1.43.59L10.3 9.45l-7.72 7.72c-.78.78-.78 2.05 0 2.83L4 21.41c.39.39.9.59 1.41.59.51 0 1.02-.2 1.41-.59l7.78-7.78 2.81-2.81c.8-.78.8-2.07 0-2.86zM5.41 20L4 18.59l7.72-7.72 1.47 1.35L5.41 20z\"/>\n",
              "  </svg>\n",
              "      </button>\n",
              "      \n",
              "  <style>\n",
              "    .colab-df-container {\n",
              "      display:flex;\n",
              "      flex-wrap:wrap;\n",
              "      gap: 12px;\n",
              "    }\n",
              "\n",
              "    .colab-df-convert {\n",
              "      background-color: #E8F0FE;\n",
              "      border: none;\n",
              "      border-radius: 50%;\n",
              "      cursor: pointer;\n",
              "      display: none;\n",
              "      fill: #1967D2;\n",
              "      height: 32px;\n",
              "      padding: 0 0 0 0;\n",
              "      width: 32px;\n",
              "    }\n",
              "\n",
              "    .colab-df-convert:hover {\n",
              "      background-color: #E2EBFA;\n",
              "      box-shadow: 0px 1px 2px rgba(60, 64, 67, 0.3), 0px 1px 3px 1px rgba(60, 64, 67, 0.15);\n",
              "      fill: #174EA6;\n",
              "    }\n",
              "\n",
              "    [theme=dark] .colab-df-convert {\n",
              "      background-color: #3B4455;\n",
              "      fill: #D2E3FC;\n",
              "    }\n",
              "\n",
              "    [theme=dark] .colab-df-convert:hover {\n",
              "      background-color: #434B5C;\n",
              "      box-shadow: 0px 1px 3px 1px rgba(0, 0, 0, 0.15);\n",
              "      filter: drop-shadow(0px 1px 2px rgba(0, 0, 0, 0.3));\n",
              "      fill: #FFFFFF;\n",
              "    }\n",
              "  </style>\n",
              "\n",
              "      <script>\n",
              "        const buttonEl =\n",
              "          document.querySelector('#df-129903b6-8e33-47a4-b1fc-385a464f6d21 button.colab-df-convert');\n",
              "        buttonEl.style.display =\n",
              "          google.colab.kernel.accessAllowed ? 'block' : 'none';\n",
              "\n",
              "        async function convertToInteractive(key) {\n",
              "          const element = document.querySelector('#df-129903b6-8e33-47a4-b1fc-385a464f6d21');\n",
              "          const dataTable =\n",
              "            await google.colab.kernel.invokeFunction('convertToInteractive',\n",
              "                                                     [key], {});\n",
              "          if (!dataTable) return;\n",
              "\n",
              "          const docLinkHtml = 'Like what you see? Visit the ' +\n",
              "            '<a target=\"_blank\" href=https://colab.research.google.com/notebooks/data_table.ipynb>data table notebook</a>'\n",
              "            + ' to learn more about interactive tables.';\n",
              "          element.innerHTML = '';\n",
              "          dataTable['output_type'] = 'display_data';\n",
              "          await google.colab.output.renderOutput(dataTable, element);\n",
              "          const docLink = document.createElement('div');\n",
              "          docLink.innerHTML = docLinkHtml;\n",
              "          element.appendChild(docLink);\n",
              "        }\n",
              "      </script>\n",
              "    </div>\n",
              "  </div>\n",
              "  "
            ]
          },
          "metadata": {}
        },
        {
          "output_type": "stream",
          "name": "stdout",
          "text": [
            "<class 'pandas.core.frame.DataFrame'>\n",
            "RangeIndex: 3129 entries, 0 to 3128\n",
            "Data columns (total 16 columns):\n",
            " #   Column   Non-Null Count  Dtype \n",
            "---  ------   --------------  ----- \n",
            " 0   key      3129 non-null   int64 \n",
            " 1   Bulk 1   252 non-null    object\n",
            " 2   Bulk 2   22 non-null     object\n",
            " 3   Bulk 3   1298 non-null   object\n",
            " 4   Bulk 4   1014 non-null   object\n",
            " 5   Bulk 5   77 non-null     object\n",
            " 6   Bulk 6   576 non-null    object\n",
            " 7   Bulk 7   25 non-null     object\n",
            " 8   Bulk 8   1 non-null      object\n",
            " 9   Bulk 9   19 non-null     object\n",
            " 10  Bulk 10  176 non-null    object\n",
            " 11  Bulk 11  177 non-null    object\n",
            " 12  Bulk 12  2450 non-null   object\n",
            " 13  Bulk 13  18 non-null     object\n",
            " 14  Bulk 14  2806 non-null   object\n",
            " 15  Bulk 15  2248 non-null   object\n",
            "dtypes: int64(1), object(15)\n",
            "memory usage: 391.2+ KB\n"
          ]
        },
        {
          "output_type": "display_data",
          "data": {
            "text/plain": [
              "None"
            ]
          },
          "metadata": {}
        },
        {
          "output_type": "display_data",
          "data": {
            "text/plain": [
              "               key\n",
              "count  3129.000000\n",
              "mean   1624.383509\n",
              "std     933.337642\n",
              "min       1.000000\n",
              "25%     816.000000\n",
              "50%    1622.000000\n",
              "75%    2431.000000\n",
              "max    3241.000000"
            ],
            "text/html": [
              "\n",
              "  <div id=\"df-90159e7f-0155-446d-afb5-f61d0445c5e2\">\n",
              "    <div class=\"colab-df-container\">\n",
              "      <div>\n",
              "<style scoped>\n",
              "    .dataframe tbody tr th:only-of-type {\n",
              "        vertical-align: middle;\n",
              "    }\n",
              "\n",
              "    .dataframe tbody tr th {\n",
              "        vertical-align: top;\n",
              "    }\n",
              "\n",
              "    .dataframe thead th {\n",
              "        text-align: right;\n",
              "    }\n",
              "</style>\n",
              "<table border=\"1\" class=\"dataframe\">\n",
              "  <thead>\n",
              "    <tr style=\"text-align: right;\">\n",
              "      <th></th>\n",
              "      <th>key</th>\n",
              "    </tr>\n",
              "  </thead>\n",
              "  <tbody>\n",
              "    <tr>\n",
              "      <th>count</th>\n",
              "      <td>3129.000000</td>\n",
              "    </tr>\n",
              "    <tr>\n",
              "      <th>mean</th>\n",
              "      <td>1624.383509</td>\n",
              "    </tr>\n",
              "    <tr>\n",
              "      <th>std</th>\n",
              "      <td>933.337642</td>\n",
              "    </tr>\n",
              "    <tr>\n",
              "      <th>min</th>\n",
              "      <td>1.000000</td>\n",
              "    </tr>\n",
              "    <tr>\n",
              "      <th>25%</th>\n",
              "      <td>816.000000</td>\n",
              "    </tr>\n",
              "    <tr>\n",
              "      <th>50%</th>\n",
              "      <td>1622.000000</td>\n",
              "    </tr>\n",
              "    <tr>\n",
              "      <th>75%</th>\n",
              "      <td>2431.000000</td>\n",
              "    </tr>\n",
              "    <tr>\n",
              "      <th>max</th>\n",
              "      <td>3241.000000</td>\n",
              "    </tr>\n",
              "  </tbody>\n",
              "</table>\n",
              "</div>\n",
              "      <button class=\"colab-df-convert\" onclick=\"convertToInteractive('df-90159e7f-0155-446d-afb5-f61d0445c5e2')\"\n",
              "              title=\"Convert this dataframe to an interactive table.\"\n",
              "              style=\"display:none;\">\n",
              "        \n",
              "  <svg xmlns=\"http://www.w3.org/2000/svg\" height=\"24px\"viewBox=\"0 0 24 24\"\n",
              "       width=\"24px\">\n",
              "    <path d=\"M0 0h24v24H0V0z\" fill=\"none\"/>\n",
              "    <path d=\"M18.56 5.44l.94 2.06.94-2.06 2.06-.94-2.06-.94-.94-2.06-.94 2.06-2.06.94zm-11 1L8.5 8.5l.94-2.06 2.06-.94-2.06-.94L8.5 2.5l-.94 2.06-2.06.94zm10 10l.94 2.06.94-2.06 2.06-.94-2.06-.94-.94-2.06-.94 2.06-2.06.94z\"/><path d=\"M17.41 7.96l-1.37-1.37c-.4-.4-.92-.59-1.43-.59-.52 0-1.04.2-1.43.59L10.3 9.45l-7.72 7.72c-.78.78-.78 2.05 0 2.83L4 21.41c.39.39.9.59 1.41.59.51 0 1.02-.2 1.41-.59l7.78-7.78 2.81-2.81c.8-.78.8-2.07 0-2.86zM5.41 20L4 18.59l7.72-7.72 1.47 1.35L5.41 20z\"/>\n",
              "  </svg>\n",
              "      </button>\n",
              "      \n",
              "  <style>\n",
              "    .colab-df-container {\n",
              "      display:flex;\n",
              "      flex-wrap:wrap;\n",
              "      gap: 12px;\n",
              "    }\n",
              "\n",
              "    .colab-df-convert {\n",
              "      background-color: #E8F0FE;\n",
              "      border: none;\n",
              "      border-radius: 50%;\n",
              "      cursor: pointer;\n",
              "      display: none;\n",
              "      fill: #1967D2;\n",
              "      height: 32px;\n",
              "      padding: 0 0 0 0;\n",
              "      width: 32px;\n",
              "    }\n",
              "\n",
              "    .colab-df-convert:hover {\n",
              "      background-color: #E2EBFA;\n",
              "      box-shadow: 0px 1px 2px rgba(60, 64, 67, 0.3), 0px 1px 3px 1px rgba(60, 64, 67, 0.15);\n",
              "      fill: #174EA6;\n",
              "    }\n",
              "\n",
              "    [theme=dark] .colab-df-convert {\n",
              "      background-color: #3B4455;\n",
              "      fill: #D2E3FC;\n",
              "    }\n",
              "\n",
              "    [theme=dark] .colab-df-convert:hover {\n",
              "      background-color: #434B5C;\n",
              "      box-shadow: 0px 1px 3px 1px rgba(0, 0, 0, 0.15);\n",
              "      filter: drop-shadow(0px 1px 2px rgba(0, 0, 0, 0.3));\n",
              "      fill: #FFFFFF;\n",
              "    }\n",
              "  </style>\n",
              "\n",
              "      <script>\n",
              "        const buttonEl =\n",
              "          document.querySelector('#df-90159e7f-0155-446d-afb5-f61d0445c5e2 button.colab-df-convert');\n",
              "        buttonEl.style.display =\n",
              "          google.colab.kernel.accessAllowed ? 'block' : 'none';\n",
              "\n",
              "        async function convertToInteractive(key) {\n",
              "          const element = document.querySelector('#df-90159e7f-0155-446d-afb5-f61d0445c5e2');\n",
              "          const dataTable =\n",
              "            await google.colab.kernel.invokeFunction('convertToInteractive',\n",
              "                                                     [key], {});\n",
              "          if (!dataTable) return;\n",
              "\n",
              "          const docLinkHtml = 'Like what you see? Visit the ' +\n",
              "            '<a target=\"_blank\" href=https://colab.research.google.com/notebooks/data_table.ipynb>data table notebook</a>'\n",
              "            + ' to learn more about interactive tables.';\n",
              "          element.innerHTML = '';\n",
              "          dataTable['output_type'] = 'display_data';\n",
              "          await google.colab.output.renderOutput(dataTable, element);\n",
              "          const docLink = document.createElement('div');\n",
              "          docLink.innerHTML = docLinkHtml;\n",
              "          element.appendChild(docLink);\n",
              "        }\n",
              "      </script>\n",
              "    </div>\n",
              "  </div>\n",
              "  "
            ]
          },
          "metadata": {}
        }
      ],
      "source": [
        "data_bulk_time = read_file(path + 'data_bulk_time.csv')"
      ]
    },
    {
      "cell_type": "code",
      "execution_count": null,
      "metadata": {
        "colab": {
          "base_uri": "https://localhost:8080/"
        },
        "id": "8472r6w9GSEl",
        "outputId": "e80f862a-c16b-45b3-d35a-9878f9ad0604"
      },
      "outputs": [
        {
          "output_type": "stream",
          "name": "stdout",
          "text": [
            "Количество уникальных ключей в таблице: 3129\n",
            "Размер множества ключей, для которых есть записи во всех таблицах: 3128\n"
          ]
        }
      ],
      "source": [
        "key_set = count_keys(data_bulk_time, key_set)"
      ]
    },
    {
      "cell_type": "code",
      "execution_count": null,
      "metadata": {
        "colab": {
          "base_uri": "https://localhost:8080/"
        },
        "id": "3P0PplTOGZDy",
        "outputId": "49b8fa50-c847-4894-ae12-835c23696cdb"
      },
      "outputs": [
        {
          "output_type": "execute_result",
          "data": {
            "text/plain": [
              "key        0\n",
              "Bulk 1     0\n",
              "Bulk 2     0\n",
              "Bulk 3     0\n",
              "Bulk 4     0\n",
              "Bulk 5     0\n",
              "Bulk 6     0\n",
              "Bulk 7     0\n",
              "Bulk 8     0\n",
              "Bulk 9     0\n",
              "Bulk 10    0\n",
              "Bulk 11    0\n",
              "Bulk 12    0\n",
              "Bulk 13    0\n",
              "Bulk 14    0\n",
              "Bulk 15    0\n",
              "dtype: int64"
            ]
          },
          "metadata": {},
          "execution_count": 18
        }
      ],
      "source": [
        "# Посчитаем количество несовпадающих пропусков в таблицах data_bulk и data_bulk_time\n",
        "(~(data_bulk.isna() == data_bulk_time.isna())).sum()"
      ]
    },
    {
      "cell_type": "markdown",
      "metadata": {
        "id": "k_SEEGSDHB8N"
      },
      "source": [
        "Все пропуски соответсствуют друг другу в двух таблицах"
      ]
    },
    {
      "cell_type": "markdown",
      "metadata": {
        "id": "caUhgYxaCuhf"
      },
      "source": [
        "<font color='steelblue'><b>Комментарий тимлида</b></font><br>\n",
        "<font color='green'> ✔️ Хорошо.</font>"
      ]
    },
    {
      "cell_type": "markdown",
      "metadata": {
        "id": "w4bbc8KAHHl5"
      },
      "source": [
        "### Вопросы\n",
        "\n",
        "Эта таблица нужна, чтоб мы понимали последовательность добавления добавок?"
      ]
    },
    {
      "cell_type": "markdown",
      "metadata": {
        "id": "kNVEtSOPCuhf"
      },
      "source": [
        "<font color='steelblue'><b>Комментарий тимлида</b><br>\n",
        "Нет, имеются некоторые сложности с синхронностью снятия времени с разных датчиков, эта таблица нужна для проверки адекватности данных, например, чтобы проверить, что нет наблюдений из другого года.</font>"
      ]
    },
    {
      "cell_type": "markdown",
      "metadata": {
        "id": "OMklfrwOHYKY"
      },
      "source": [
        "### data_gas\n"
      ]
    },
    {
      "cell_type": "code",
      "execution_count": null,
      "metadata": {
        "colab": {
          "base_uri": "https://localhost:8080/",
          "height": 668
        },
        "id": "aXtzfoy1Pcyx",
        "outputId": "35d70a0c-b79a-42cb-c65a-2b0a96481ff1"
      },
      "outputs": [
        {
          "output_type": "display_data",
          "data": {
            "text/plain": [
              "   key      Газ 1\n",
              "0    1  29.749986\n",
              "1    2  12.555561\n",
              "2    3  28.554793\n",
              "3    4  18.841219\n",
              "4    5   5.413692"
            ],
            "text/html": [
              "\n",
              "  <div id=\"df-57c139e4-e746-4fe9-85f6-d5365899e191\">\n",
              "    <div class=\"colab-df-container\">\n",
              "      <div>\n",
              "<style scoped>\n",
              "    .dataframe tbody tr th:only-of-type {\n",
              "        vertical-align: middle;\n",
              "    }\n",
              "\n",
              "    .dataframe tbody tr th {\n",
              "        vertical-align: top;\n",
              "    }\n",
              "\n",
              "    .dataframe thead th {\n",
              "        text-align: right;\n",
              "    }\n",
              "</style>\n",
              "<table border=\"1\" class=\"dataframe\">\n",
              "  <thead>\n",
              "    <tr style=\"text-align: right;\">\n",
              "      <th></th>\n",
              "      <th>key</th>\n",
              "      <th>Газ 1</th>\n",
              "    </tr>\n",
              "  </thead>\n",
              "  <tbody>\n",
              "    <tr>\n",
              "      <th>0</th>\n",
              "      <td>1</td>\n",
              "      <td>29.749986</td>\n",
              "    </tr>\n",
              "    <tr>\n",
              "      <th>1</th>\n",
              "      <td>2</td>\n",
              "      <td>12.555561</td>\n",
              "    </tr>\n",
              "    <tr>\n",
              "      <th>2</th>\n",
              "      <td>3</td>\n",
              "      <td>28.554793</td>\n",
              "    </tr>\n",
              "    <tr>\n",
              "      <th>3</th>\n",
              "      <td>4</td>\n",
              "      <td>18.841219</td>\n",
              "    </tr>\n",
              "    <tr>\n",
              "      <th>4</th>\n",
              "      <td>5</td>\n",
              "      <td>5.413692</td>\n",
              "    </tr>\n",
              "  </tbody>\n",
              "</table>\n",
              "</div>\n",
              "      <button class=\"colab-df-convert\" onclick=\"convertToInteractive('df-57c139e4-e746-4fe9-85f6-d5365899e191')\"\n",
              "              title=\"Convert this dataframe to an interactive table.\"\n",
              "              style=\"display:none;\">\n",
              "        \n",
              "  <svg xmlns=\"http://www.w3.org/2000/svg\" height=\"24px\"viewBox=\"0 0 24 24\"\n",
              "       width=\"24px\">\n",
              "    <path d=\"M0 0h24v24H0V0z\" fill=\"none\"/>\n",
              "    <path d=\"M18.56 5.44l.94 2.06.94-2.06 2.06-.94-2.06-.94-.94-2.06-.94 2.06-2.06.94zm-11 1L8.5 8.5l.94-2.06 2.06-.94-2.06-.94L8.5 2.5l-.94 2.06-2.06.94zm10 10l.94 2.06.94-2.06 2.06-.94-2.06-.94-.94-2.06-.94 2.06-2.06.94z\"/><path d=\"M17.41 7.96l-1.37-1.37c-.4-.4-.92-.59-1.43-.59-.52 0-1.04.2-1.43.59L10.3 9.45l-7.72 7.72c-.78.78-.78 2.05 0 2.83L4 21.41c.39.39.9.59 1.41.59.51 0 1.02-.2 1.41-.59l7.78-7.78 2.81-2.81c.8-.78.8-2.07 0-2.86zM5.41 20L4 18.59l7.72-7.72 1.47 1.35L5.41 20z\"/>\n",
              "  </svg>\n",
              "      </button>\n",
              "      \n",
              "  <style>\n",
              "    .colab-df-container {\n",
              "      display:flex;\n",
              "      flex-wrap:wrap;\n",
              "      gap: 12px;\n",
              "    }\n",
              "\n",
              "    .colab-df-convert {\n",
              "      background-color: #E8F0FE;\n",
              "      border: none;\n",
              "      border-radius: 50%;\n",
              "      cursor: pointer;\n",
              "      display: none;\n",
              "      fill: #1967D2;\n",
              "      height: 32px;\n",
              "      padding: 0 0 0 0;\n",
              "      width: 32px;\n",
              "    }\n",
              "\n",
              "    .colab-df-convert:hover {\n",
              "      background-color: #E2EBFA;\n",
              "      box-shadow: 0px 1px 2px rgba(60, 64, 67, 0.3), 0px 1px 3px 1px rgba(60, 64, 67, 0.15);\n",
              "      fill: #174EA6;\n",
              "    }\n",
              "\n",
              "    [theme=dark] .colab-df-convert {\n",
              "      background-color: #3B4455;\n",
              "      fill: #D2E3FC;\n",
              "    }\n",
              "\n",
              "    [theme=dark] .colab-df-convert:hover {\n",
              "      background-color: #434B5C;\n",
              "      box-shadow: 0px 1px 3px 1px rgba(0, 0, 0, 0.15);\n",
              "      filter: drop-shadow(0px 1px 2px rgba(0, 0, 0, 0.3));\n",
              "      fill: #FFFFFF;\n",
              "    }\n",
              "  </style>\n",
              "\n",
              "      <script>\n",
              "        const buttonEl =\n",
              "          document.querySelector('#df-57c139e4-e746-4fe9-85f6-d5365899e191 button.colab-df-convert');\n",
              "        buttonEl.style.display =\n",
              "          google.colab.kernel.accessAllowed ? 'block' : 'none';\n",
              "\n",
              "        async function convertToInteractive(key) {\n",
              "          const element = document.querySelector('#df-57c139e4-e746-4fe9-85f6-d5365899e191');\n",
              "          const dataTable =\n",
              "            await google.colab.kernel.invokeFunction('convertToInteractive',\n",
              "                                                     [key], {});\n",
              "          if (!dataTable) return;\n",
              "\n",
              "          const docLinkHtml = 'Like what you see? Visit the ' +\n",
              "            '<a target=\"_blank\" href=https://colab.research.google.com/notebooks/data_table.ipynb>data table notebook</a>'\n",
              "            + ' to learn more about interactive tables.';\n",
              "          element.innerHTML = '';\n",
              "          dataTable['output_type'] = 'display_data';\n",
              "          await google.colab.output.renderOutput(dataTable, element);\n",
              "          const docLink = document.createElement('div');\n",
              "          docLink.innerHTML = docLinkHtml;\n",
              "          element.appendChild(docLink);\n",
              "        }\n",
              "      </script>\n",
              "    </div>\n",
              "  </div>\n",
              "  "
            ]
          },
          "metadata": {}
        },
        {
          "output_type": "stream",
          "name": "stdout",
          "text": [
            "<class 'pandas.core.frame.DataFrame'>\n",
            "RangeIndex: 3239 entries, 0 to 3238\n",
            "Data columns (total 2 columns):\n",
            " #   Column  Non-Null Count  Dtype  \n",
            "---  ------  --------------  -----  \n",
            " 0   key     3239 non-null   int64  \n",
            " 1   Газ 1   3239 non-null   float64\n",
            "dtypes: float64(1), int64(1)\n",
            "memory usage: 50.7 KB\n"
          ]
        },
        {
          "output_type": "display_data",
          "data": {
            "text/plain": [
              "None"
            ]
          },
          "metadata": {}
        },
        {
          "output_type": "display_data",
          "data": {
            "text/plain": [
              "               key        Газ 1\n",
              "count  3239.000000  3239.000000\n",
              "mean   1621.861377    11.002062\n",
              "std     935.386334     6.220327\n",
              "min       1.000000     0.008399\n",
              "25%     812.500000     7.043089\n",
              "50%    1622.000000     9.836267\n",
              "75%    2431.500000    13.769915\n",
              "max    3241.000000    77.995040"
            ],
            "text/html": [
              "\n",
              "  <div id=\"df-2bd1a0cd-0704-45f4-8776-a99470a642ca\">\n",
              "    <div class=\"colab-df-container\">\n",
              "      <div>\n",
              "<style scoped>\n",
              "    .dataframe tbody tr th:only-of-type {\n",
              "        vertical-align: middle;\n",
              "    }\n",
              "\n",
              "    .dataframe tbody tr th {\n",
              "        vertical-align: top;\n",
              "    }\n",
              "\n",
              "    .dataframe thead th {\n",
              "        text-align: right;\n",
              "    }\n",
              "</style>\n",
              "<table border=\"1\" class=\"dataframe\">\n",
              "  <thead>\n",
              "    <tr style=\"text-align: right;\">\n",
              "      <th></th>\n",
              "      <th>key</th>\n",
              "      <th>Газ 1</th>\n",
              "    </tr>\n",
              "  </thead>\n",
              "  <tbody>\n",
              "    <tr>\n",
              "      <th>count</th>\n",
              "      <td>3239.000000</td>\n",
              "      <td>3239.000000</td>\n",
              "    </tr>\n",
              "    <tr>\n",
              "      <th>mean</th>\n",
              "      <td>1621.861377</td>\n",
              "      <td>11.002062</td>\n",
              "    </tr>\n",
              "    <tr>\n",
              "      <th>std</th>\n",
              "      <td>935.386334</td>\n",
              "      <td>6.220327</td>\n",
              "    </tr>\n",
              "    <tr>\n",
              "      <th>min</th>\n",
              "      <td>1.000000</td>\n",
              "      <td>0.008399</td>\n",
              "    </tr>\n",
              "    <tr>\n",
              "      <th>25%</th>\n",
              "      <td>812.500000</td>\n",
              "      <td>7.043089</td>\n",
              "    </tr>\n",
              "    <tr>\n",
              "      <th>50%</th>\n",
              "      <td>1622.000000</td>\n",
              "      <td>9.836267</td>\n",
              "    </tr>\n",
              "    <tr>\n",
              "      <th>75%</th>\n",
              "      <td>2431.500000</td>\n",
              "      <td>13.769915</td>\n",
              "    </tr>\n",
              "    <tr>\n",
              "      <th>max</th>\n",
              "      <td>3241.000000</td>\n",
              "      <td>77.995040</td>\n",
              "    </tr>\n",
              "  </tbody>\n",
              "</table>\n",
              "</div>\n",
              "      <button class=\"colab-df-convert\" onclick=\"convertToInteractive('df-2bd1a0cd-0704-45f4-8776-a99470a642ca')\"\n",
              "              title=\"Convert this dataframe to an interactive table.\"\n",
              "              style=\"display:none;\">\n",
              "        \n",
              "  <svg xmlns=\"http://www.w3.org/2000/svg\" height=\"24px\"viewBox=\"0 0 24 24\"\n",
              "       width=\"24px\">\n",
              "    <path d=\"M0 0h24v24H0V0z\" fill=\"none\"/>\n",
              "    <path d=\"M18.56 5.44l.94 2.06.94-2.06 2.06-.94-2.06-.94-.94-2.06-.94 2.06-2.06.94zm-11 1L8.5 8.5l.94-2.06 2.06-.94-2.06-.94L8.5 2.5l-.94 2.06-2.06.94zm10 10l.94 2.06.94-2.06 2.06-.94-2.06-.94-.94-2.06-.94 2.06-2.06.94z\"/><path d=\"M17.41 7.96l-1.37-1.37c-.4-.4-.92-.59-1.43-.59-.52 0-1.04.2-1.43.59L10.3 9.45l-7.72 7.72c-.78.78-.78 2.05 0 2.83L4 21.41c.39.39.9.59 1.41.59.51 0 1.02-.2 1.41-.59l7.78-7.78 2.81-2.81c.8-.78.8-2.07 0-2.86zM5.41 20L4 18.59l7.72-7.72 1.47 1.35L5.41 20z\"/>\n",
              "  </svg>\n",
              "      </button>\n",
              "      \n",
              "  <style>\n",
              "    .colab-df-container {\n",
              "      display:flex;\n",
              "      flex-wrap:wrap;\n",
              "      gap: 12px;\n",
              "    }\n",
              "\n",
              "    .colab-df-convert {\n",
              "      background-color: #E8F0FE;\n",
              "      border: none;\n",
              "      border-radius: 50%;\n",
              "      cursor: pointer;\n",
              "      display: none;\n",
              "      fill: #1967D2;\n",
              "      height: 32px;\n",
              "      padding: 0 0 0 0;\n",
              "      width: 32px;\n",
              "    }\n",
              "\n",
              "    .colab-df-convert:hover {\n",
              "      background-color: #E2EBFA;\n",
              "      box-shadow: 0px 1px 2px rgba(60, 64, 67, 0.3), 0px 1px 3px 1px rgba(60, 64, 67, 0.15);\n",
              "      fill: #174EA6;\n",
              "    }\n",
              "\n",
              "    [theme=dark] .colab-df-convert {\n",
              "      background-color: #3B4455;\n",
              "      fill: #D2E3FC;\n",
              "    }\n",
              "\n",
              "    [theme=dark] .colab-df-convert:hover {\n",
              "      background-color: #434B5C;\n",
              "      box-shadow: 0px 1px 3px 1px rgba(0, 0, 0, 0.15);\n",
              "      filter: drop-shadow(0px 1px 2px rgba(0, 0, 0, 0.3));\n",
              "      fill: #FFFFFF;\n",
              "    }\n",
              "  </style>\n",
              "\n",
              "      <script>\n",
              "        const buttonEl =\n",
              "          document.querySelector('#df-2bd1a0cd-0704-45f4-8776-a99470a642ca button.colab-df-convert');\n",
              "        buttonEl.style.display =\n",
              "          google.colab.kernel.accessAllowed ? 'block' : 'none';\n",
              "\n",
              "        async function convertToInteractive(key) {\n",
              "          const element = document.querySelector('#df-2bd1a0cd-0704-45f4-8776-a99470a642ca');\n",
              "          const dataTable =\n",
              "            await google.colab.kernel.invokeFunction('convertToInteractive',\n",
              "                                                     [key], {});\n",
              "          if (!dataTable) return;\n",
              "\n",
              "          const docLinkHtml = 'Like what you see? Visit the ' +\n",
              "            '<a target=\"_blank\" href=https://colab.research.google.com/notebooks/data_table.ipynb>data table notebook</a>'\n",
              "            + ' to learn more about interactive tables.';\n",
              "          element.innerHTML = '';\n",
              "          dataTable['output_type'] = 'display_data';\n",
              "          await google.colab.output.renderOutput(dataTable, element);\n",
              "          const docLink = document.createElement('div');\n",
              "          docLink.innerHTML = docLinkHtml;\n",
              "          element.appendChild(docLink);\n",
              "        }\n",
              "      </script>\n",
              "    </div>\n",
              "  </div>\n",
              "  "
            ]
          },
          "metadata": {}
        }
      ],
      "source": [
        "data_gas = read_file(path + 'data_gas.csv')"
      ]
    },
    {
      "cell_type": "markdown",
      "metadata": {
        "id": "OnbMi3exCuhg"
      },
      "source": [
        "<font color='steelblue'><b>Комментарий тимлида</b></font><br>\n",
        "<font color='crimson'> ❌ Пожалуйста, поправь пути, чтобы я могла дальше проверить твой проект.</font>"
      ]
    },
    {
      "cell_type": "markdown",
      "metadata": {
        "id": "PZk3RvUdCuhg"
      },
      "source": [
        "<font color='Salmon'><b>Комментарий студента</b></font>\n",
        "\n",
        "Поправила путь, теперь должно работать"
      ]
    },
    {
      "cell_type": "markdown",
      "metadata": {
        "id": "eIvo7d9rCuhg"
      },
      "source": [
        "<font color='steelblue'><b>Комментарий тимлида v2</b></font><br>\n",
        "<font color='green'> ✔️ 👍🏼</font>"
      ]
    },
    {
      "cell_type": "code",
      "execution_count": null,
      "metadata": {
        "colab": {
          "base_uri": "https://localhost:8080/"
        },
        "id": "i-T4MfktHjmO",
        "outputId": "18784b34-f7f2-4941-bd57-dd3e47f5e236"
      },
      "outputs": [
        {
          "output_type": "stream",
          "name": "stdout",
          "text": [
            "Количество уникальных ключей в таблице: 3239\n",
            "Размер множества ключей, для которых есть записи во всех таблицах: 3126\n"
          ]
        }
      ],
      "source": [
        "key_set = count_keys(data_gas, key_set)"
      ]
    },
    {
      "cell_type": "code",
      "execution_count": null,
      "metadata": {
        "colab": {
          "base_uri": "https://localhost:8080/",
          "height": 283
        },
        "id": "OCeU2m79Htjr",
        "outputId": "3e0c6392-014a-469e-d139-bf73d2d304b0"
      },
      "outputs": [
        {
          "output_type": "execute_result",
          "data": {
            "text/plain": [
              "<matplotlib.axes._subplots.AxesSubplot at 0x7f4fce286950>"
            ]
          },
          "metadata": {},
          "execution_count": 21
        },
        {
          "output_type": "display_data",
          "data": {
            "text/plain": [
              "<Figure size 432x288 with 1 Axes>"
            ],
            "image/png": "[encoded data removed]"
          },
          "metadata": {
            "needs_background": "light"
          }
        }
      ],
      "source": [
        "data_gas['Газ 1'].hist(bins=50)"
      ]
    },
    {
      "cell_type": "markdown",
      "metadata": {
        "id": "9POB1YNDH-cU"
      },
      "source": [
        " Распределение с правым хвостом"
      ]
    },
    {
      "cell_type": "markdown",
      "metadata": {
        "id": "0c9Hxp7WCuhg"
      },
      "source": [
        "<font color='steelblue'><b>Комментарий тимлида v2</b></font><br>\n",
        "<font color='green'> ✔️ Согласна.</font>"
      ]
    },
    {
      "cell_type": "markdown",
      "metadata": {
        "id": "cCQ25TJwIDEl"
      },
      "source": [
        "### Вопросы\n",
        "\n",
        "\n",
        "Что означает столбец? Это время продувки/объем/масса газа?"
      ]
    },
    {
      "cell_type": "markdown",
      "metadata": {
        "id": "UnENGLXRCuhg"
      },
      "source": [
        "<font color='steelblue'><b>Комментарий тимлида v2</b><br>\n",
        "Объем газа.</font>"
      ]
    },
    {
      "cell_type": "markdown",
      "metadata": {
        "id": "G4XSTPlOLEOr"
      },
      "source": [
        "### data_temp"
      ]
    },
    {
      "cell_type": "code",
      "execution_count": null,
      "metadata": {
        "colab": {
          "base_uri": "https://localhost:8080/",
          "height": 686
        },
        "id": "VqoVtP10PyWc",
        "outputId": "34525e84-8ae6-4419-d280-7ad31c491cc1"
      },
      "outputs": [
        {
          "output_type": "display_data",
          "data": {
            "text/plain": [
              "   key         Время замера  Температура\n",
              "0    1  2019-05-03 11:16:18       1571.0\n",
              "1    1  2019-05-03 11:25:53       1604.0\n",
              "2    1  2019-05-03 11:29:11       1618.0\n",
              "3    1  2019-05-03 11:30:01       1601.0\n",
              "4    1  2019-05-03 11:30:39       1613.0"
            ],
            "text/html": [
              "\n",
              "  <div id=\"df-c6b43d7f-1e54-43d5-a1f4-79f7fc0c77c2\">\n",
              "    <div class=\"colab-df-container\">\n",
              "      <div>\n",
              "<style scoped>\n",
              "    .dataframe tbody tr th:only-of-type {\n",
              "        vertical-align: middle;\n",
              "    }\n",
              "\n",
              "    .dataframe tbody tr th {\n",
              "        vertical-align: top;\n",
              "    }\n",
              "\n",
              "    .dataframe thead th {\n",
              "        text-align: right;\n",
              "    }\n",
              "</style>\n",
              "<table border=\"1\" class=\"dataframe\">\n",
              "  <thead>\n",
              "    <tr style=\"text-align: right;\">\n",
              "      <th></th>\n",
              "      <th>key</th>\n",
              "      <th>Время замера</th>\n",
              "      <th>Температура</th>\n",
              "    </tr>\n",
              "  </thead>\n",
              "  <tbody>\n",
              "    <tr>\n",
              "      <th>0</th>\n",
              "      <td>1</td>\n",
              "      <td>2019-05-03 11:16:18</td>\n",
              "      <td>1571.0</td>\n",
              "    </tr>\n",
              "    <tr>\n",
              "      <th>1</th>\n",
              "      <td>1</td>\n",
              "      <td>2019-05-03 11:25:53</td>\n",
              "      <td>1604.0</td>\n",
              "    </tr>\n",
              "    <tr>\n",
              "      <th>2</th>\n",
              "      <td>1</td>\n",
              "      <td>2019-05-03 11:29:11</td>\n",
              "      <td>1618.0</td>\n",
              "    </tr>\n",
              "    <tr>\n",
              "      <th>3</th>\n",
              "      <td>1</td>\n",
              "      <td>2019-05-03 11:30:01</td>\n",
              "      <td>1601.0</td>\n",
              "    </tr>\n",
              "    <tr>\n",
              "      <th>4</th>\n",
              "      <td>1</td>\n",
              "      <td>2019-05-03 11:30:39</td>\n",
              "      <td>1613.0</td>\n",
              "    </tr>\n",
              "  </tbody>\n",
              "</table>\n",
              "</div>\n",
              "      <button class=\"colab-df-convert\" onclick=\"convertToInteractive('df-c6b43d7f-1e54-43d5-a1f4-79f7fc0c77c2')\"\n",
              "              title=\"Convert this dataframe to an interactive table.\"\n",
              "              style=\"display:none;\">\n",
              "        \n",
              "  <svg xmlns=\"http://www.w3.org/2000/svg\" height=\"24px\"viewBox=\"0 0 24 24\"\n",
              "       width=\"24px\">\n",
              "    <path d=\"M0 0h24v24H0V0z\" fill=\"none\"/>\n",
              "    <path d=\"M18.56 5.44l.94 2.06.94-2.06 2.06-.94-2.06-.94-.94-2.06-.94 2.06-2.06.94zm-11 1L8.5 8.5l.94-2.06 2.06-.94-2.06-.94L8.5 2.5l-.94 2.06-2.06.94zm10 10l.94 2.06.94-2.06 2.06-.94-2.06-.94-.94-2.06-.94 2.06-2.06.94z\"/><path d=\"M17.41 7.96l-1.37-1.37c-.4-.4-.92-.59-1.43-.59-.52 0-1.04.2-1.43.59L10.3 9.45l-7.72 7.72c-.78.78-.78 2.05 0 2.83L4 21.41c.39.39.9.59 1.41.59.51 0 1.02-.2 1.41-.59l7.78-7.78 2.81-2.81c.8-.78.8-2.07 0-2.86zM5.41 20L4 18.59l7.72-7.72 1.47 1.35L5.41 20z\"/>\n",
              "  </svg>\n",
              "      </button>\n",
              "      \n",
              "  <style>\n",
              "    .colab-df-container {\n",
              "      display:flex;\n",
              "      flex-wrap:wrap;\n",
              "      gap: 12px;\n",
              "    }\n",
              "\n",
              "    .colab-df-convert {\n",
              "      background-color: #E8F0FE;\n",
              "      border: none;\n",
              "      border-radius: 50%;\n",
              "      cursor: pointer;\n",
              "      display: none;\n",
              "      fill: #1967D2;\n",
              "      height: 32px;\n",
              "      padding: 0 0 0 0;\n",
              "      width: 32px;\n",
              "    }\n",
              "\n",
              "    .colab-df-convert:hover {\n",
              "      background-color: #E2EBFA;\n",
              "      box-shadow: 0px 1px 2px rgba(60, 64, 67, 0.3), 0px 1px 3px 1px rgba(60, 64, 67, 0.15);\n",
              "      fill: #174EA6;\n",
              "    }\n",
              "\n",
              "    [theme=dark] .colab-df-convert {\n",
              "      background-color: #3B4455;\n",
              "      fill: #D2E3FC;\n",
              "    }\n",
              "\n",
              "    [theme=dark] .colab-df-convert:hover {\n",
              "      background-color: #434B5C;\n",
              "      box-shadow: 0px 1px 3px 1px rgba(0, 0, 0, 0.15);\n",
              "      filter: drop-shadow(0px 1px 2px rgba(0, 0, 0, 0.3));\n",
              "      fill: #FFFFFF;\n",
              "    }\n",
              "  </style>\n",
              "\n",
              "      <script>\n",
              "        const buttonEl =\n",
              "          document.querySelector('#df-c6b43d7f-1e54-43d5-a1f4-79f7fc0c77c2 button.colab-df-convert');\n",
              "        buttonEl.style.display =\n",
              "          google.colab.kernel.accessAllowed ? 'block' : 'none';\n",
              "\n",
              "        async function convertToInteractive(key) {\n",
              "          const element = document.querySelector('#df-c6b43d7f-1e54-43d5-a1f4-79f7fc0c77c2');\n",
              "          const dataTable =\n",
              "            await google.colab.kernel.invokeFunction('convertToInteractive',\n",
              "                                                     [key], {});\n",
              "          if (!dataTable) return;\n",
              "\n",
              "          const docLinkHtml = 'Like what you see? Visit the ' +\n",
              "            '<a target=\"_blank\" href=https://colab.research.google.com/notebooks/data_table.ipynb>data table notebook</a>'\n",
              "            + ' to learn more about interactive tables.';\n",
              "          element.innerHTML = '';\n",
              "          dataTable['output_type'] = 'display_data';\n",
              "          await google.colab.output.renderOutput(dataTable, element);\n",
              "          const docLink = document.createElement('div');\n",
              "          docLink.innerHTML = docLinkHtml;\n",
              "          element.appendChild(docLink);\n",
              "        }\n",
              "      </script>\n",
              "    </div>\n",
              "  </div>\n",
              "  "
            ]
          },
          "metadata": {}
        },
        {
          "output_type": "stream",
          "name": "stdout",
          "text": [
            "<class 'pandas.core.frame.DataFrame'>\n",
            "RangeIndex: 15907 entries, 0 to 15906\n",
            "Data columns (total 3 columns):\n",
            " #   Column        Non-Null Count  Dtype  \n",
            "---  ------        --------------  -----  \n",
            " 0   key           15907 non-null  int64  \n",
            " 1   Время замера  15907 non-null  object \n",
            " 2   Температура   13006 non-null  float64\n",
            "dtypes: float64(1), int64(1), object(1)\n",
            "memory usage: 372.9+ KB\n"
          ]
        },
        {
          "output_type": "display_data",
          "data": {
            "text/plain": [
              "None"
            ]
          },
          "metadata": {}
        },
        {
          "output_type": "display_data",
          "data": {
            "text/plain": [
              "                key   Температура\n",
              "count  15907.000000  13006.000000\n",
              "mean    1607.880870   1591.840920\n",
              "std      942.212073     21.375851\n",
              "min        1.000000   1191.000000\n",
              "25%      790.000000   1581.000000\n",
              "50%     1618.000000   1591.000000\n",
              "75%     2427.000000   1601.000000\n",
              "max     3241.000000   1705.000000"
            ],
            "text/html": [
              "\n",
              "  <div id=\"df-b0be8cff-9ae5-4598-b7d7-7545d831412b\">\n",
              "    <div class=\"colab-df-container\">\n",
              "      <div>\n",
              "<style scoped>\n",
              "    .dataframe tbody tr th:only-of-type {\n",
              "        vertical-align: middle;\n",
              "    }\n",
              "\n",
              "    .dataframe tbody tr th {\n",
              "        vertical-align: top;\n",
              "    }\n",
              "\n",
              "    .dataframe thead th {\n",
              "        text-align: right;\n",
              "    }\n",
              "</style>\n",
              "<table border=\"1\" class=\"dataframe\">\n",
              "  <thead>\n",
              "    <tr style=\"text-align: right;\">\n",
              "      <th></th>\n",
              "      <th>key</th>\n",
              "      <th>Температура</th>\n",
              "    </tr>\n",
              "  </thead>\n",
              "  <tbody>\n",
              "    <tr>\n",
              "      <th>count</th>\n",
              "      <td>15907.000000</td>\n",
              "      <td>13006.000000</td>\n",
              "    </tr>\n",
              "    <tr>\n",
              "      <th>mean</th>\n",
              "      <td>1607.880870</td>\n",
              "      <td>1591.840920</td>\n",
              "    </tr>\n",
              "    <tr>\n",
              "      <th>std</th>\n",
              "      <td>942.212073</td>\n",
              "      <td>21.375851</td>\n",
              "    </tr>\n",
              "    <tr>\n",
              "      <th>min</th>\n",
              "      <td>1.000000</td>\n",
              "      <td>1191.000000</td>\n",
              "    </tr>\n",
              "    <tr>\n",
              "      <th>25%</th>\n",
              "      <td>790.000000</td>\n",
              "      <td>1581.000000</td>\n",
              "    </tr>\n",
              "    <tr>\n",
              "      <th>50%</th>\n",
              "      <td>1618.000000</td>\n",
              "      <td>1591.000000</td>\n",
              "    </tr>\n",
              "    <tr>\n",
              "      <th>75%</th>\n",
              "      <td>2427.000000</td>\n",
              "      <td>1601.000000</td>\n",
              "    </tr>\n",
              "    <tr>\n",
              "      <th>max</th>\n",
              "      <td>3241.000000</td>\n",
              "      <td>1705.000000</td>\n",
              "    </tr>\n",
              "  </tbody>\n",
              "</table>\n",
              "</div>\n",
              "      <button class=\"colab-df-convert\" onclick=\"convertToInteractive('df-b0be8cff-9ae5-4598-b7d7-7545d831412b')\"\n",
              "              title=\"Convert this dataframe to an interactive table.\"\n",
              "              style=\"display:none;\">\n",
              "        \n",
              "  <svg xmlns=\"http://www.w3.org/2000/svg\" height=\"24px\"viewBox=\"0 0 24 24\"\n",
              "       width=\"24px\">\n",
              "    <path d=\"M0 0h24v24H0V0z\" fill=\"none\"/>\n",
              "    <path d=\"M18.56 5.44l.94 2.06.94-2.06 2.06-.94-2.06-.94-.94-2.06-.94 2.06-2.06.94zm-11 1L8.5 8.5l.94-2.06 2.06-.94-2.06-.94L8.5 2.5l-.94 2.06-2.06.94zm10 10l.94 2.06.94-2.06 2.06-.94-2.06-.94-.94-2.06-.94 2.06-2.06.94z\"/><path d=\"M17.41 7.96l-1.37-1.37c-.4-.4-.92-.59-1.43-.59-.52 0-1.04.2-1.43.59L10.3 9.45l-7.72 7.72c-.78.78-.78 2.05 0 2.83L4 21.41c.39.39.9.59 1.41.59.51 0 1.02-.2 1.41-.59l7.78-7.78 2.81-2.81c.8-.78.8-2.07 0-2.86zM5.41 20L4 18.59l7.72-7.72 1.47 1.35L5.41 20z\"/>\n",
              "  </svg>\n",
              "      </button>\n",
              "      \n",
              "  <style>\n",
              "    .colab-df-container {\n",
              "      display:flex;\n",
              "      flex-wrap:wrap;\n",
              "      gap: 12px;\n",
              "    }\n",
              "\n",
              "    .colab-df-convert {\n",
              "      background-color: #E8F0FE;\n",
              "      border: none;\n",
              "      border-radius: 50%;\n",
              "      cursor: pointer;\n",
              "      display: none;\n",
              "      fill: #1967D2;\n",
              "      height: 32px;\n",
              "      padding: 0 0 0 0;\n",
              "      width: 32px;\n",
              "    }\n",
              "\n",
              "    .colab-df-convert:hover {\n",
              "      background-color: #E2EBFA;\n",
              "      box-shadow: 0px 1px 2px rgba(60, 64, 67, 0.3), 0px 1px 3px 1px rgba(60, 64, 67, 0.15);\n",
              "      fill: #174EA6;\n",
              "    }\n",
              "\n",
              "    [theme=dark] .colab-df-convert {\n",
              "      background-color: #3B4455;\n",
              "      fill: #D2E3FC;\n",
              "    }\n",
              "\n",
              "    [theme=dark] .colab-df-convert:hover {\n",
              "      background-color: #434B5C;\n",
              "      box-shadow: 0px 1px 3px 1px rgba(0, 0, 0, 0.15);\n",
              "      filter: drop-shadow(0px 1px 2px rgba(0, 0, 0, 0.3));\n",
              "      fill: #FFFFFF;\n",
              "    }\n",
              "  </style>\n",
              "\n",
              "      <script>\n",
              "        const buttonEl =\n",
              "          document.querySelector('#df-b0be8cff-9ae5-4598-b7d7-7545d831412b button.colab-df-convert');\n",
              "        buttonEl.style.display =\n",
              "          google.colab.kernel.accessAllowed ? 'block' : 'none';\n",
              "\n",
              "        async function convertToInteractive(key) {\n",
              "          const element = document.querySelector('#df-b0be8cff-9ae5-4598-b7d7-7545d831412b');\n",
              "          const dataTable =\n",
              "            await google.colab.kernel.invokeFunction('convertToInteractive',\n",
              "                                                     [key], {});\n",
              "          if (!dataTable) return;\n",
              "\n",
              "          const docLinkHtml = 'Like what you see? Visit the ' +\n",
              "            '<a target=\"_blank\" href=https://colab.research.google.com/notebooks/data_table.ipynb>data table notebook</a>'\n",
              "            + ' to learn more about interactive tables.';\n",
              "          element.innerHTML = '';\n",
              "          dataTable['output_type'] = 'display_data';\n",
              "          await google.colab.output.renderOutput(dataTable, element);\n",
              "          const docLink = document.createElement('div');\n",
              "          docLink.innerHTML = docLinkHtml;\n",
              "          element.appendChild(docLink);\n",
              "        }\n",
              "      </script>\n",
              "    </div>\n",
              "  </div>\n",
              "  "
            ]
          },
          "metadata": {}
        }
      ],
      "source": [
        "data_temp = read_file(path + 'data_temp.csv')"
      ]
    },
    {
      "cell_type": "code",
      "execution_count": null,
      "metadata": {
        "colab": {
          "base_uri": "https://localhost:8080/"
        },
        "id": "n-xDLR3dLSp4",
        "outputId": "4d252a23-1f31-4926-e99e-1b07fa74aad0"
      },
      "outputs": [
        {
          "output_type": "stream",
          "name": "stdout",
          "text": [
            "Количество уникальных ключей в таблице: 3216\n",
            "Размер множества ключей, для которых есть записи во всех таблицах: 3126\n"
          ]
        }
      ],
      "source": [
        "key_set = count_keys(data_temp, key_set)"
      ]
    },
    {
      "cell_type": "markdown",
      "metadata": {
        "id": "WA2F_FFRLiOg"
      },
      "source": [
        "Записи в таблице есть только для 3216 ключей "
      ]
    },
    {
      "cell_type": "code",
      "execution_count": null,
      "metadata": {
        "colab": {
          "base_uri": "https://localhost:8080/"
        },
        "id": "gaBUBjv4Lq4m",
        "outputId": "f751cacd-5007-42f9-dc9f-dcf34e44f526"
      },
      "outputs": [
        {
          "output_type": "execute_result",
          "data": {
            "text/plain": [
              "0"
            ]
          },
          "metadata": {},
          "execution_count": 24
        }
      ],
      "source": [
        "# проверим, для есть ли ключи, для которых все значения температуры пустые\n",
        "(data_temp.groupby(['key'])['Температура'].count() == 0).sum()"
      ]
    },
    {
      "cell_type": "markdown",
      "metadata": {
        "id": "1miRUs6vMiQN"
      },
      "source": [
        "Таких ключей нет"
      ]
    },
    {
      "cell_type": "markdown",
      "metadata": {
        "id": "7qL6drThNN2Q"
      },
      "source": [
        " Есть ключи с низкими значениями температуры"
      ]
    },
    {
      "cell_type": "code",
      "execution_count": null,
      "metadata": {
        "colab": {
          "base_uri": "https://localhost:8080/",
          "height": 286
        },
        "id": "iKUnbEvcCuhh",
        "outputId": "73c51399-9177-402b-e4e4-13b2816887e7"
      },
      "outputs": [
        {
          "output_type": "execute_result",
          "data": {
            "text/plain": [
              "<matplotlib.axes._subplots.AxesSubplot at 0x7f4fce1d7790>"
            ]
          },
          "metadata": {},
          "execution_count": 25
        },
        {
          "output_type": "display_data",
          "data": {
            "text/plain": [
              "<Figure size 432x288 with 1 Axes>"
            ],
            "image/png": "[encoded data removed]"
          },
          "metadata": {
            "needs_background": "light"
          }
        }
      ],
      "source": [
        "data_temp['Температура'].hist(bins=200)"
      ]
    },
    {
      "cell_type": "markdown",
      "metadata": {
        "id": "BU_I-QjdCuhh"
      },
      "source": [
        "<font color='Salmon'><b>Комментарий студента</b></font>\n",
        "\n",
        "Из семинара неясно, что значит \"низкие температуры\". Как мне кажется, есть 2 подхода для определения пороговой температуры: \n",
        "\n",
        "1) Чисто визуально \"низкие\" - это те температуры, которые меньше 1500 градусов, т.е. порог - 1500 градусов\n",
        "\n",
        "2) Можно применить грубый 3-сигма критерий, чтобы определить пороговую температуру"
      ]
    },
    {
      "cell_type": "markdown",
      "metadata": {
        "id": "pQ6nDBf5Cuhh"
      },
      "source": [
        "<font color='steelblue'><b>Комментарий тимлида v3</b><br>\n",
        "Мы можем удалить ключи, у которых одна из двух температур ниже 1500 градусов.</font>"
      ]
    },
    {
      "cell_type": "markdown",
      "metadata": {
        "id": "dCIoTnNHCuhh"
      },
      "source": [
        "**Визуальный подход**"
      ]
    },
    {
      "cell_type": "code",
      "execution_count": null,
      "metadata": {
        "colab": {
          "base_uri": "https://localhost:8080/",
          "height": 269
        },
        "id": "1bB7TdesCuhh",
        "outputId": "f3dbce34-f568-4fcd-80a2-f2b69b8788ef"
      },
      "outputs": [
        {
          "output_type": "execute_result",
          "data": {
            "text/plain": [
              "        key         Время замера  Температура\n",
              "4350    867  2019-06-04 14:21:00       1191.0\n",
              "5978   1214  2019-06-16 05:32:00       1208.0\n",
              "7958   1619  2019-06-30 11:03:54       1218.0\n",
              "8913   1818  2019-07-07 00:30:49       1383.0\n",
              "8914   1818  2019-07-07 00:31:40       1383.0\n",
              "10127  2052  2019-07-21 14:51:40       1227.0\n",
              "12564  2561  2019-08-08 07:34:15       1204.0"
            ],
            "text/html": [
              "\n",
              "  <div id=\"df-a8063580-d6bd-4d39-add9-47e534864282\">\n",
              "    <div class=\"colab-df-container\">\n",
              "      <div>\n",
              "<style scoped>\n",
              "    .dataframe tbody tr th:only-of-type {\n",
              "        vertical-align: middle;\n",
              "    }\n",
              "\n",
              "    .dataframe tbody tr th {\n",
              "        vertical-align: top;\n",
              "    }\n",
              "\n",
              "    .dataframe thead th {\n",
              "        text-align: right;\n",
              "    }\n",
              "</style>\n",
              "<table border=\"1\" class=\"dataframe\">\n",
              "  <thead>\n",
              "    <tr style=\"text-align: right;\">\n",
              "      <th></th>\n",
              "      <th>key</th>\n",
              "      <th>Время замера</th>\n",
              "      <th>Температура</th>\n",
              "    </tr>\n",
              "  </thead>\n",
              "  <tbody>\n",
              "    <tr>\n",
              "      <th>4350</th>\n",
              "      <td>867</td>\n",
              "      <td>2019-06-04 14:21:00</td>\n",
              "      <td>1191.0</td>\n",
              "    </tr>\n",
              "    <tr>\n",
              "      <th>5978</th>\n",
              "      <td>1214</td>\n",
              "      <td>2019-06-16 05:32:00</td>\n",
              "      <td>1208.0</td>\n",
              "    </tr>\n",
              "    <tr>\n",
              "      <th>7958</th>\n",
              "      <td>1619</td>\n",
              "      <td>2019-06-30 11:03:54</td>\n",
              "      <td>1218.0</td>\n",
              "    </tr>\n",
              "    <tr>\n",
              "      <th>8913</th>\n",
              "      <td>1818</td>\n",
              "      <td>2019-07-07 00:30:49</td>\n",
              "      <td>1383.0</td>\n",
              "    </tr>\n",
              "    <tr>\n",
              "      <th>8914</th>\n",
              "      <td>1818</td>\n",
              "      <td>2019-07-07 00:31:40</td>\n",
              "      <td>1383.0</td>\n",
              "    </tr>\n",
              "    <tr>\n",
              "      <th>10127</th>\n",
              "      <td>2052</td>\n",
              "      <td>2019-07-21 14:51:40</td>\n",
              "      <td>1227.0</td>\n",
              "    </tr>\n",
              "    <tr>\n",
              "      <th>12564</th>\n",
              "      <td>2561</td>\n",
              "      <td>2019-08-08 07:34:15</td>\n",
              "      <td>1204.0</td>\n",
              "    </tr>\n",
              "  </tbody>\n",
              "</table>\n",
              "</div>\n",
              "      <button class=\"colab-df-convert\" onclick=\"convertToInteractive('df-a8063580-d6bd-4d39-add9-47e534864282')\"\n",
              "              title=\"Convert this dataframe to an interactive table.\"\n",
              "              style=\"display:none;\">\n",
              "        \n",
              "  <svg xmlns=\"http://www.w3.org/2000/svg\" height=\"24px\"viewBox=\"0 0 24 24\"\n",
              "       width=\"24px\">\n",
              "    <path d=\"M0 0h24v24H0V0z\" fill=\"none\"/>\n",
              "    <path d=\"M18.56 5.44l.94 2.06.94-2.06 2.06-.94-2.06-.94-.94-2.06-.94 2.06-2.06.94zm-11 1L8.5 8.5l.94-2.06 2.06-.94-2.06-.94L8.5 2.5l-.94 2.06-2.06.94zm10 10l.94 2.06.94-2.06 2.06-.94-2.06-.94-.94-2.06-.94 2.06-2.06.94z\"/><path d=\"M17.41 7.96l-1.37-1.37c-.4-.4-.92-.59-1.43-.59-.52 0-1.04.2-1.43.59L10.3 9.45l-7.72 7.72c-.78.78-.78 2.05 0 2.83L4 21.41c.39.39.9.59 1.41.59.51 0 1.02-.2 1.41-.59l7.78-7.78 2.81-2.81c.8-.78.8-2.07 0-2.86zM5.41 20L4 18.59l7.72-7.72 1.47 1.35L5.41 20z\"/>\n",
              "  </svg>\n",
              "      </button>\n",
              "      \n",
              "  <style>\n",
              "    .colab-df-container {\n",
              "      display:flex;\n",
              "      flex-wrap:wrap;\n",
              "      gap: 12px;\n",
              "    }\n",
              "\n",
              "    .colab-df-convert {\n",
              "      background-color: #E8F0FE;\n",
              "      border: none;\n",
              "      border-radius: 50%;\n",
              "      cursor: pointer;\n",
              "      display: none;\n",
              "      fill: #1967D2;\n",
              "      height: 32px;\n",
              "      padding: 0 0 0 0;\n",
              "      width: 32px;\n",
              "    }\n",
              "\n",
              "    .colab-df-convert:hover {\n",
              "      background-color: #E2EBFA;\n",
              "      box-shadow: 0px 1px 2px rgba(60, 64, 67, 0.3), 0px 1px 3px 1px rgba(60, 64, 67, 0.15);\n",
              "      fill: #174EA6;\n",
              "    }\n",
              "\n",
              "    [theme=dark] .colab-df-convert {\n",
              "      background-color: #3B4455;\n",
              "      fill: #D2E3FC;\n",
              "    }\n",
              "\n",
              "    [theme=dark] .colab-df-convert:hover {\n",
              "      background-color: #434B5C;\n",
              "      box-shadow: 0px 1px 3px 1px rgba(0, 0, 0, 0.15);\n",
              "      filter: drop-shadow(0px 1px 2px rgba(0, 0, 0, 0.3));\n",
              "      fill: #FFFFFF;\n",
              "    }\n",
              "  </style>\n",
              "\n",
              "      <script>\n",
              "        const buttonEl =\n",
              "          document.querySelector('#df-a8063580-d6bd-4d39-add9-47e534864282 button.colab-df-convert');\n",
              "        buttonEl.style.display =\n",
              "          google.colab.kernel.accessAllowed ? 'block' : 'none';\n",
              "\n",
              "        async function convertToInteractive(key) {\n",
              "          const element = document.querySelector('#df-a8063580-d6bd-4d39-add9-47e534864282');\n",
              "          const dataTable =\n",
              "            await google.colab.kernel.invokeFunction('convertToInteractive',\n",
              "                                                     [key], {});\n",
              "          if (!dataTable) return;\n",
              "\n",
              "          const docLinkHtml = 'Like what you see? Visit the ' +\n",
              "            '<a target=\"_blank\" href=https://colab.research.google.com/notebooks/data_table.ipynb>data table notebook</a>'\n",
              "            + ' to learn more about interactive tables.';\n",
              "          element.innerHTML = '';\n",
              "          dataTable['output_type'] = 'display_data';\n",
              "          await google.colab.output.renderOutput(dataTable, element);\n",
              "          const docLink = document.createElement('div');\n",
              "          docLink.innerHTML = docLinkHtml;\n",
              "          element.appendChild(docLink);\n",
              "        }\n",
              "      </script>\n",
              "    </div>\n",
              "  </div>\n",
              "  "
            ]
          },
          "metadata": {},
          "execution_count": 26
        }
      ],
      "source": [
        "data_temp[data_temp['Температура'] < 1500]"
      ]
    },
    {
      "cell_type": "markdown",
      "metadata": {
        "id": "CRDVe1SjCuhh"
      },
      "source": [
        "6 ключей с низкими темепартурами"
      ]
    },
    {
      "cell_type": "markdown",
      "metadata": {
        "id": "1HSBDEQ4Cuhh"
      },
      "source": [
        "**3 сигма подход**"
      ]
    },
    {
      "cell_type": "code",
      "execution_count": null,
      "metadata": {
        "colab": {
          "base_uri": "https://localhost:8080/"
        },
        "id": "09RpOjFOCuhh",
        "outputId": "acad2dd2-0cc6-42f0-e39c-abe91a70b099"
      },
      "outputs": [
        {
          "output_type": "execute_result",
          "data": {
            "text/plain": [
              "1527.7133657667073"
            ]
          },
          "metadata": {},
          "execution_count": 27
        }
      ],
      "source": [
        "min_temp = data_temp['Температура'].mean() - 3 * data_temp['Температура'].std()\n",
        "min_temp"
      ]
    },
    {
      "cell_type": "code",
      "execution_count": null,
      "metadata": {
        "colab": {
          "base_uri": "https://localhost:8080/",
          "height": 614
        },
        "id": "ayJfRV_8NTur",
        "outputId": "dbb8aa07-4e25-416a-9a4b-bc8c588d63cb"
      },
      "outputs": [
        {
          "output_type": "execute_result",
          "data": {
            "text/plain": [
              "        key         Время замера  Температура\n",
              "502      88  2019-05-06 11:28:10       1526.0\n",
              "2675    512  2019-05-22 11:08:02       1520.0\n",
              "4350    867  2019-06-04 14:21:00       1191.0\n",
              "4561    908  2019-06-05 19:56:25       1520.0\n",
              "5978   1214  2019-06-16 05:32:00       1208.0\n",
              "6913   1400  2019-06-22 20:33:52       1527.0\n",
              "7388   1503  2019-06-26 12:37:20       1525.0\n",
              "7389   1503  2019-06-26 12:50:52       1525.0\n",
              "7958   1619  2019-06-30 11:03:54       1218.0\n",
              "8206   1671  2019-07-02 00:28:59       1519.0\n",
              "8210   1672  2019-07-02 01:18:17       1526.0\n",
              "8314   1689  2019-07-02 18:47:06       1526.0\n",
              "8913   1818  2019-07-07 00:30:49       1383.0\n",
              "8914   1818  2019-07-07 00:31:40       1383.0\n",
              "9695   1966  2019-07-18 10:59:37       1527.0\n",
              "10127  2052  2019-07-21 14:51:40       1227.0\n",
              "11897  2419  2019-08-03 07:37:11       1526.0\n",
              "12564  2561  2019-08-08 07:34:15       1204.0"
            ],
            "text/html": [
              "\n",
              "  <div id=\"df-c9d550a5-908d-429c-b3d7-dab396c9d2b1\">\n",
              "    <div class=\"colab-df-container\">\n",
              "      <div>\n",
              "<style scoped>\n",
              "    .dataframe tbody tr th:only-of-type {\n",
              "        vertical-align: middle;\n",
              "    }\n",
              "\n",
              "    .dataframe tbody tr th {\n",
              "        vertical-align: top;\n",
              "    }\n",
              "\n",
              "    .dataframe thead th {\n",
              "        text-align: right;\n",
              "    }\n",
              "</style>\n",
              "<table border=\"1\" class=\"dataframe\">\n",
              "  <thead>\n",
              "    <tr style=\"text-align: right;\">\n",
              "      <th></th>\n",
              "      <th>key</th>\n",
              "      <th>Время замера</th>\n",
              "      <th>Температура</th>\n",
              "    </tr>\n",
              "  </thead>\n",
              "  <tbody>\n",
              "    <tr>\n",
              "      <th>502</th>\n",
              "      <td>88</td>\n",
              "      <td>2019-05-06 11:28:10</td>\n",
              "      <td>1526.0</td>\n",
              "    </tr>\n",
              "    <tr>\n",
              "      <th>2675</th>\n",
              "      <td>512</td>\n",
              "      <td>2019-05-22 11:08:02</td>\n",
              "      <td>1520.0</td>\n",
              "    </tr>\n",
              "    <tr>\n",
              "      <th>4350</th>\n",
              "      <td>867</td>\n",
              "      <td>2019-06-04 14:21:00</td>\n",
              "      <td>1191.0</td>\n",
              "    </tr>\n",
              "    <tr>\n",
              "      <th>4561</th>\n",
              "      <td>908</td>\n",
              "      <td>2019-06-05 19:56:25</td>\n",
              "      <td>1520.0</td>\n",
              "    </tr>\n",
              "    <tr>\n",
              "      <th>5978</th>\n",
              "      <td>1214</td>\n",
              "      <td>2019-06-16 05:32:00</td>\n",
              "      <td>1208.0</td>\n",
              "    </tr>\n",
              "    <tr>\n",
              "      <th>6913</th>\n",
              "      <td>1400</td>\n",
              "      <td>2019-06-22 20:33:52</td>\n",
              "      <td>1527.0</td>\n",
              "    </tr>\n",
              "    <tr>\n",
              "      <th>7388</th>\n",
              "      <td>1503</td>\n",
              "      <td>2019-06-26 12:37:20</td>\n",
              "      <td>1525.0</td>\n",
              "    </tr>\n",
              "    <tr>\n",
              "      <th>7389</th>\n",
              "      <td>1503</td>\n",
              "      <td>2019-06-26 12:50:52</td>\n",
              "      <td>1525.0</td>\n",
              "    </tr>\n",
              "    <tr>\n",
              "      <th>7958</th>\n",
              "      <td>1619</td>\n",
              "      <td>2019-06-30 11:03:54</td>\n",
              "      <td>1218.0</td>\n",
              "    </tr>\n",
              "    <tr>\n",
              "      <th>8206</th>\n",
              "      <td>1671</td>\n",
              "      <td>2019-07-02 00:28:59</td>\n",
              "      <td>1519.0</td>\n",
              "    </tr>\n",
              "    <tr>\n",
              "      <th>8210</th>\n",
              "      <td>1672</td>\n",
              "      <td>2019-07-02 01:18:17</td>\n",
              "      <td>1526.0</td>\n",
              "    </tr>\n",
              "    <tr>\n",
              "      <th>8314</th>\n",
              "      <td>1689</td>\n",
              "      <td>2019-07-02 18:47:06</td>\n",
              "      <td>1526.0</td>\n",
              "    </tr>\n",
              "    <tr>\n",
              "      <th>8913</th>\n",
              "      <td>1818</td>\n",
              "      <td>2019-07-07 00:30:49</td>\n",
              "      <td>1383.0</td>\n",
              "    </tr>\n",
              "    <tr>\n",
              "      <th>8914</th>\n",
              "      <td>1818</td>\n",
              "      <td>2019-07-07 00:31:40</td>\n",
              "      <td>1383.0</td>\n",
              "    </tr>\n",
              "    <tr>\n",
              "      <th>9695</th>\n",
              "      <td>1966</td>\n",
              "      <td>2019-07-18 10:59:37</td>\n",
              "      <td>1527.0</td>\n",
              "    </tr>\n",
              "    <tr>\n",
              "      <th>10127</th>\n",
              "      <td>2052</td>\n",
              "      <td>2019-07-21 14:51:40</td>\n",
              "      <td>1227.0</td>\n",
              "    </tr>\n",
              "    <tr>\n",
              "      <th>11897</th>\n",
              "      <td>2419</td>\n",
              "      <td>2019-08-03 07:37:11</td>\n",
              "      <td>1526.0</td>\n",
              "    </tr>\n",
              "    <tr>\n",
              "      <th>12564</th>\n",
              "      <td>2561</td>\n",
              "      <td>2019-08-08 07:34:15</td>\n",
              "      <td>1204.0</td>\n",
              "    </tr>\n",
              "  </tbody>\n",
              "</table>\n",
              "</div>\n",
              "      <button class=\"colab-df-convert\" onclick=\"convertToInteractive('df-c9d550a5-908d-429c-b3d7-dab396c9d2b1')\"\n",
              "              title=\"Convert this dataframe to an interactive table.\"\n",
              "              style=\"display:none;\">\n",
              "        \n",
              "  <svg xmlns=\"http://www.w3.org/2000/svg\" height=\"24px\"viewBox=\"0 0 24 24\"\n",
              "       width=\"24px\">\n",
              "    <path d=\"M0 0h24v24H0V0z\" fill=\"none\"/>\n",
              "    <path d=\"M18.56 5.44l.94 2.06.94-2.06 2.06-.94-2.06-.94-.94-2.06-.94 2.06-2.06.94zm-11 1L8.5 8.5l.94-2.06 2.06-.94-2.06-.94L8.5 2.5l-.94 2.06-2.06.94zm10 10l.94 2.06.94-2.06 2.06-.94-2.06-.94-.94-2.06-.94 2.06-2.06.94z\"/><path d=\"M17.41 7.96l-1.37-1.37c-.4-.4-.92-.59-1.43-.59-.52 0-1.04.2-1.43.59L10.3 9.45l-7.72 7.72c-.78.78-.78 2.05 0 2.83L4 21.41c.39.39.9.59 1.41.59.51 0 1.02-.2 1.41-.59l7.78-7.78 2.81-2.81c.8-.78.8-2.07 0-2.86zM5.41 20L4 18.59l7.72-7.72 1.47 1.35L5.41 20z\"/>\n",
              "  </svg>\n",
              "      </button>\n",
              "      \n",
              "  <style>\n",
              "    .colab-df-container {\n",
              "      display:flex;\n",
              "      flex-wrap:wrap;\n",
              "      gap: 12px;\n",
              "    }\n",
              "\n",
              "    .colab-df-convert {\n",
              "      background-color: #E8F0FE;\n",
              "      border: none;\n",
              "      border-radius: 50%;\n",
              "      cursor: pointer;\n",
              "      display: none;\n",
              "      fill: #1967D2;\n",
              "      height: 32px;\n",
              "      padding: 0 0 0 0;\n",
              "      width: 32px;\n",
              "    }\n",
              "\n",
              "    .colab-df-convert:hover {\n",
              "      background-color: #E2EBFA;\n",
              "      box-shadow: 0px 1px 2px rgba(60, 64, 67, 0.3), 0px 1px 3px 1px rgba(60, 64, 67, 0.15);\n",
              "      fill: #174EA6;\n",
              "    }\n",
              "\n",
              "    [theme=dark] .colab-df-convert {\n",
              "      background-color: #3B4455;\n",
              "      fill: #D2E3FC;\n",
              "    }\n",
              "\n",
              "    [theme=dark] .colab-df-convert:hover {\n",
              "      background-color: #434B5C;\n",
              "      box-shadow: 0px 1px 3px 1px rgba(0, 0, 0, 0.15);\n",
              "      filter: drop-shadow(0px 1px 2px rgba(0, 0, 0, 0.3));\n",
              "      fill: #FFFFFF;\n",
              "    }\n",
              "  </style>\n",
              "\n",
              "      <script>\n",
              "        const buttonEl =\n",
              "          document.querySelector('#df-c9d550a5-908d-429c-b3d7-dab396c9d2b1 button.colab-df-convert');\n",
              "        buttonEl.style.display =\n",
              "          google.colab.kernel.accessAllowed ? 'block' : 'none';\n",
              "\n",
              "        async function convertToInteractive(key) {\n",
              "          const element = document.querySelector('#df-c9d550a5-908d-429c-b3d7-dab396c9d2b1');\n",
              "          const dataTable =\n",
              "            await google.colab.kernel.invokeFunction('convertToInteractive',\n",
              "                                                     [key], {});\n",
              "          if (!dataTable) return;\n",
              "\n",
              "          const docLinkHtml = 'Like what you see? Visit the ' +\n",
              "            '<a target=\"_blank\" href=https://colab.research.google.com/notebooks/data_table.ipynb>data table notebook</a>'\n",
              "            + ' to learn more about interactive tables.';\n",
              "          element.innerHTML = '';\n",
              "          dataTable['output_type'] = 'display_data';\n",
              "          await google.colab.output.renderOutput(dataTable, element);\n",
              "          const docLink = document.createElement('div');\n",
              "          docLink.innerHTML = docLinkHtml;\n",
              "          element.appendChild(docLink);\n",
              "        }\n",
              "      </script>\n",
              "    </div>\n",
              "  </div>\n",
              "  "
            ]
          },
          "metadata": {},
          "execution_count": 28
        }
      ],
      "source": [
        "data_temp[data_temp['Температура'] < min_temp]"
      ]
    },
    {
      "cell_type": "markdown",
      "metadata": {
        "id": "7Fn8JOoyCuhh"
      },
      "source": [
        "16 ключей с низкими температурами"
      ]
    },
    {
      "cell_type": "markdown",
      "metadata": {
        "id": "4KdfMvRdCuhi"
      },
      "source": [
        "Как по мне подход визаульный дает найти действительно далеко отстоящие выбросы, в то время как 3-сигма предлагает не рассматривать пороговые значения "
      ]
    },
    {
      "cell_type": "code",
      "execution_count": null,
      "metadata": {
        "colab": {
          "base_uri": "https://localhost:8080/"
        },
        "id": "5cuQLztxCuhi",
        "outputId": "a570e1af-53c7-425f-9e5f-9f7dae50c751"
      },
      "outputs": [
        {
          "output_type": "execute_result",
          "data": {
            "text/plain": [
              "3121"
            ]
          },
          "metadata": {},
          "execution_count": 29
        }
      ],
      "source": [
        "key_set = key_set - set(data_temp[data_temp['Температура'] < 1500]['key'])\n",
        "len(key_set)"
      ]
    },
    {
      "cell_type": "markdown",
      "metadata": {
        "id": "GP9iq9e-Naw2"
      },
      "source": [
        "Убрали из сета ключи с низкими температруами (ниже 1500) "
      ]
    },
    {
      "cell_type": "markdown",
      "metadata": {
        "id": "gxT3kawPCuhi"
      },
      "source": [
        "<font color='steelblue'><b>Комментарий тимлида v2</b></font><br>\n",
        "<font color='crimson'> ❌ Тут ты смотришь не ключи, у которых есть низкие температуры, а ключи, у которых среднее значение температуры ниже 1500.</font>"
      ]
    },
    {
      "cell_type": "markdown",
      "metadata": {
        "id": "fg5XFVW0Cuhi"
      },
      "source": [
        "<font color='Salmon'><b>Комментарий студента</b></font>\n",
        "\n",
        "Поправила выше"
      ]
    },
    {
      "cell_type": "markdown",
      "metadata": {
        "id": "RZF_IDohCuhi"
      },
      "source": [
        "**Убираем ключи, для которых нет первого и последнего замера темепартуры**"
      ]
    },
    {
      "cell_type": "code",
      "execution_count": null,
      "metadata": {
        "colab": {
          "base_uri": "https://localhost:8080/"
        },
        "id": "dJTXq9DBCuhi",
        "outputId": "d11ddd35-cffe-4d65-920c-fa27ea45f2fa"
      },
      "outputs": [
        {
          "output_type": "execute_result",
          "data": {
            "text/plain": [
              "2401"
            ]
          },
          "metadata": {},
          "execution_count": 30
        }
      ],
      "source": [
        "# посмотрим на количество записей по колонкам\n",
        "key_set = key_set - set(data_temp.dropna().groupby('key').last()[~(data_temp.dropna().groupby('key').last()['Время замера'] \n",
        "                                           == data_temp.groupby('key').last()['Время замера'])].index)\n",
        "len(key_set)"
      ]
    },
    {
      "cell_type": "markdown",
      "metadata": {
        "id": "dRMJVy6tCuhi"
      },
      "source": [
        "Видим, что есть ключи, для которых количество измерений температуры равно единице"
      ]
    },
    {
      "cell_type": "code",
      "execution_count": null,
      "metadata": {
        "id": "2P-rl14KCuhi"
      },
      "outputs": [],
      "source": [
        "# оставляем ключи, для которых число замеров строго больше одного\n",
        "# key_set = set(data_temp.groupby('key').count()[data_temp.groupby('key').count()['Температура'] > 1].index)\n",
        "# len(key_set)"
      ]
    },
    {
      "cell_type": "markdown",
      "metadata": {
        "id": "GNdD_4fhQLeY"
      },
      "source": [
        "### Вопросы\n",
        "Есть пропуски в данных\n",
        "\n",
        "Что означают пропуски? Не проводились измерения/реальное значение температуры лежало за границей пределов измерения прибора? Что с ними можно сделать?\n",
        "\n",
        "Что делать с выбросом? Его хочется удалить"
      ]
    },
    {
      "cell_type": "markdown",
      "metadata": {
        "id": "tsWdgffFCuhi"
      },
      "source": [
        "<font color='steelblue'><b>Комментарий тимлида v2</b><br>\n",
        "Вероятно, заказчик удадил часть наблюдений, чтобы потом проверить качество модели, так получились пропуски. На вебинаре я говорила, что ключи с низкими значениями температур можно удалить. Так же я говорила, что нужно взять только те ключи, у которых есть первый и последний замеры температуры, рекомендую вебинар к просмотру.</font>"
      ]
    },
    {
      "cell_type": "markdown",
      "metadata": {
        "id": "nctH8k9KCuhi"
      },
      "source": [
        "<font color='Salmon'><b>Комментарий студента</b></font>\n",
        "\n",
        "Пересмотрела вебинар, постаралась все сделать в соответсвие с требованиями, получилось, что работаем с 2475 ключами"
      ]
    },
    {
      "cell_type": "markdown",
      "metadata": {
        "id": "HO0hdVY6Cuhi"
      },
      "source": [
        "<font color='steelblue'><b>Комментарий тимлида v3</b><br>\n",
        "2475 ключей у температуры, потом их станет меньше, так как мы можем использовать только те ключи, которые есть во всех датафреймах.</font>"
      ]
    },
    {
      "cell_type": "markdown",
      "metadata": {
        "id": "HkvSnkA8OFKt"
      },
      "source": [
        "### data_wire"
      ]
    },
    {
      "cell_type": "code",
      "execution_count": null,
      "metadata": {
        "colab": {
          "base_uri": "https://localhost:8080/",
          "height": 811
        },
        "id": "gkqx_Rr5QFfc",
        "outputId": "ff050f41-fbbc-4709-c360-fe152327bc16"
      },
      "outputs": [
        {
          "output_type": "display_data",
          "data": {
            "text/plain": [
              "   key     Wire 1   Wire 2  Wire 3  Wire 4  Wire 5  Wire 6  Wire 7  Wire 8  \\\n",
              "0    1  60.059998      NaN     NaN     NaN     NaN     NaN     NaN     NaN   \n",
              "1    2  96.052315      NaN     NaN     NaN     NaN     NaN     NaN     NaN   \n",
              "2    3  91.160157      NaN     NaN     NaN     NaN     NaN     NaN     NaN   \n",
              "3    4  89.063515      NaN     NaN     NaN     NaN     NaN     NaN     NaN   \n",
              "4    5  89.238236  9.11456     NaN     NaN     NaN     NaN     NaN     NaN   \n",
              "\n",
              "   Wire 9  \n",
              "0     NaN  \n",
              "1     NaN  \n",
              "2     NaN  \n",
              "3     NaN  \n",
              "4     NaN  "
            ],
            "text/html": [
              "\n",
              "  <div id=\"df-a03b7d98-f8a7-490f-a4dd-ab6b4c4cf332\">\n",
              "    <div class=\"colab-df-container\">\n",
              "      <div>\n",
              "<style scoped>\n",
              "    .dataframe tbody tr th:only-of-type {\n",
              "        vertical-align: middle;\n",
              "    }\n",
              "\n",
              "    .dataframe tbody tr th {\n",
              "        vertical-align: top;\n",
              "    }\n",
              "\n",
              "    .dataframe thead th {\n",
              "        text-align: right;\n",
              "    }\n",
              "</style>\n",
              "<table border=\"1\" class=\"dataframe\">\n",
              "  <thead>\n",
              "    <tr style=\"text-align: right;\">\n",
              "      <th></th>\n",
              "      <th>key</th>\n",
              "      <th>Wire 1</th>\n",
              "      <th>Wire 2</th>\n",
              "      <th>Wire 3</th>\n",
              "      <th>Wire 4</th>\n",
              "      <th>Wire 5</th>\n",
              "      <th>Wire 6</th>\n",
              "      <th>Wire 7</th>\n",
              "      <th>Wire 8</th>\n",
              "      <th>Wire 9</th>\n",
              "    </tr>\n",
              "  </thead>\n",
              "  <tbody>\n",
              "    <tr>\n",
              "      <th>0</th>\n",
              "      <td>1</td>\n",
              "      <td>60.059998</td>\n",
              "      <td>NaN</td>\n",
              "      <td>NaN</td>\n",
              "      <td>NaN</td>\n",
              "      <td>NaN</td>\n",
              "      <td>NaN</td>\n",
              "      <td>NaN</td>\n",
              "      <td>NaN</td>\n",
              "      <td>NaN</td>\n",
              "    </tr>\n",
              "    <tr>\n",
              "      <th>1</th>\n",
              "      <td>2</td>\n",
              "      <td>96.052315</td>\n",
              "      <td>NaN</td>\n",
              "      <td>NaN</td>\n",
              "      <td>NaN</td>\n",
              "      <td>NaN</td>\n",
              "      <td>NaN</td>\n",
              "      <td>NaN</td>\n",
              "      <td>NaN</td>\n",
              "      <td>NaN</td>\n",
              "    </tr>\n",
              "    <tr>\n",
              "      <th>2</th>\n",
              "      <td>3</td>\n",
              "      <td>91.160157</td>\n",
              "      <td>NaN</td>\n",
              "      <td>NaN</td>\n",
              "      <td>NaN</td>\n",
              "      <td>NaN</td>\n",
              "      <td>NaN</td>\n",
              "      <td>NaN</td>\n",
              "      <td>NaN</td>\n",
              "      <td>NaN</td>\n",
              "    </tr>\n",
              "    <tr>\n",
              "      <th>3</th>\n",
              "      <td>4</td>\n",
              "      <td>89.063515</td>\n",
              "      <td>NaN</td>\n",
              "      <td>NaN</td>\n",
              "      <td>NaN</td>\n",
              "      <td>NaN</td>\n",
              "      <td>NaN</td>\n",
              "      <td>NaN</td>\n",
              "      <td>NaN</td>\n",
              "      <td>NaN</td>\n",
              "    </tr>\n",
              "    <tr>\n",
              "      <th>4</th>\n",
              "      <td>5</td>\n",
              "      <td>89.238236</td>\n",
              "      <td>9.11456</td>\n",
              "      <td>NaN</td>\n",
              "      <td>NaN</td>\n",
              "      <td>NaN</td>\n",
              "      <td>NaN</td>\n",
              "      <td>NaN</td>\n",
              "      <td>NaN</td>\n",
              "      <td>NaN</td>\n",
              "    </tr>\n",
              "  </tbody>\n",
              "</table>\n",
              "</div>\n",
              "      <button class=\"colab-df-convert\" onclick=\"convertToInteractive('df-a03b7d98-f8a7-490f-a4dd-ab6b4c4cf332')\"\n",
              "              title=\"Convert this dataframe to an interactive table.\"\n",
              "              style=\"display:none;\">\n",
              "        \n",
              "  <svg xmlns=\"http://www.w3.org/2000/svg\" height=\"24px\"viewBox=\"0 0 24 24\"\n",
              "       width=\"24px\">\n",
              "    <path d=\"M0 0h24v24H0V0z\" fill=\"none\"/>\n",
              "    <path d=\"M18.56 5.44l.94 2.06.94-2.06 2.06-.94-2.06-.94-.94-2.06-.94 2.06-2.06.94zm-11 1L8.5 8.5l.94-2.06 2.06-.94-2.06-.94L8.5 2.5l-.94 2.06-2.06.94zm10 10l.94 2.06.94-2.06 2.06-.94-2.06-.94-.94-2.06-.94 2.06-2.06.94z\"/><path d=\"M17.41 7.96l-1.37-1.37c-.4-.4-.92-.59-1.43-.59-.52 0-1.04.2-1.43.59L10.3 9.45l-7.72 7.72c-.78.78-.78 2.05 0 2.83L4 21.41c.39.39.9.59 1.41.59.51 0 1.02-.2 1.41-.59l7.78-7.78 2.81-2.81c.8-.78.8-2.07 0-2.86zM5.41 20L4 18.59l7.72-7.72 1.47 1.35L5.41 20z\"/>\n",
              "  </svg>\n",
              "      </button>\n",
              "      \n",
              "  <style>\n",
              "    .colab-df-container {\n",
              "      display:flex;\n",
              "      flex-wrap:wrap;\n",
              "      gap: 12px;\n",
              "    }\n",
              "\n",
              "    .colab-df-convert {\n",
              "      background-color: #E8F0FE;\n",
              "      border: none;\n",
              "      border-radius: 50%;\n",
              "      cursor: pointer;\n",
              "      display: none;\n",
              "      fill: #1967D2;\n",
              "      height: 32px;\n",
              "      padding: 0 0 0 0;\n",
              "      width: 32px;\n",
              "    }\n",
              "\n",
              "    .colab-df-convert:hover {\n",
              "      background-color: #E2EBFA;\n",
              "      box-shadow: 0px 1px 2px rgba(60, 64, 67, 0.3), 0px 1px 3px 1px rgba(60, 64, 67, 0.15);\n",
              "      fill: #174EA6;\n",
              "    }\n",
              "\n",
              "    [theme=dark] .colab-df-convert {\n",
              "      background-color: #3B4455;\n",
              "      fill: #D2E3FC;\n",
              "    }\n",
              "\n",
              "    [theme=dark] .colab-df-convert:hover {\n",
              "      background-color: #434B5C;\n",
              "      box-shadow: 0px 1px 3px 1px rgba(0, 0, 0, 0.15);\n",
              "      filter: drop-shadow(0px 1px 2px rgba(0, 0, 0, 0.3));\n",
              "      fill: #FFFFFF;\n",
              "    }\n",
              "  </style>\n",
              "\n",
              "      <script>\n",
              "        const buttonEl =\n",
              "          document.querySelector('#df-a03b7d98-f8a7-490f-a4dd-ab6b4c4cf332 button.colab-df-convert');\n",
              "        buttonEl.style.display =\n",
              "          google.colab.kernel.accessAllowed ? 'block' : 'none';\n",
              "\n",
              "        async function convertToInteractive(key) {\n",
              "          const element = document.querySelector('#df-a03b7d98-f8a7-490f-a4dd-ab6b4c4cf332');\n",
              "          const dataTable =\n",
              "            await google.colab.kernel.invokeFunction('convertToInteractive',\n",
              "                                                     [key], {});\n",
              "          if (!dataTable) return;\n",
              "\n",
              "          const docLinkHtml = 'Like what you see? Visit the ' +\n",
              "            '<a target=\"_blank\" href=https://colab.research.google.com/notebooks/data_table.ipynb>data table notebook</a>'\n",
              "            + ' to learn more about interactive tables.';\n",
              "          element.innerHTML = '';\n",
              "          dataTable['output_type'] = 'display_data';\n",
              "          await google.colab.output.renderOutput(dataTable, element);\n",
              "          const docLink = document.createElement('div');\n",
              "          docLink.innerHTML = docLinkHtml;\n",
              "          element.appendChild(docLink);\n",
              "        }\n",
              "      </script>\n",
              "    </div>\n",
              "  </div>\n",
              "  "
            ]
          },
          "metadata": {}
        },
        {
          "output_type": "stream",
          "name": "stdout",
          "text": [
            "<class 'pandas.core.frame.DataFrame'>\n",
            "RangeIndex: 3081 entries, 0 to 3080\n",
            "Data columns (total 10 columns):\n",
            " #   Column  Non-Null Count  Dtype  \n",
            "---  ------  --------------  -----  \n",
            " 0   key     3081 non-null   int64  \n",
            " 1   Wire 1  3055 non-null   float64\n",
            " 2   Wire 2  1079 non-null   float64\n",
            " 3   Wire 3  63 non-null     float64\n",
            " 4   Wire 4  14 non-null     float64\n",
            " 5   Wire 5  1 non-null      float64\n",
            " 6   Wire 6  73 non-null     float64\n",
            " 7   Wire 7  11 non-null     float64\n",
            " 8   Wire 8  19 non-null     float64\n",
            " 9   Wire 9  29 non-null     float64\n",
            "dtypes: float64(9), int64(1)\n",
            "memory usage: 240.8 KB\n"
          ]
        },
        {
          "output_type": "display_data",
          "data": {
            "text/plain": [
              "None"
            ]
          },
          "metadata": {}
        },
        {
          "output_type": "display_data",
          "data": {
            "text/plain": [
              "               key       Wire 1       Wire 2      Wire 3      Wire 4  Wire 5  \\\n",
              "count  3081.000000  3055.000000  1079.000000   63.000000   14.000000   1.000   \n",
              "mean   1623.426485   100.895853    50.577323  189.482681   57.442841  15.132   \n",
              "std     932.996726    42.012518    39.320216   99.513444   28.824667     NaN   \n",
              "min       1.000000     1.918800     0.030160    0.144144   24.148801  15.132   \n",
              "25%     823.000000    72.115684    20.193680   95.135044   40.807002  15.132   \n",
              "50%    1619.000000   100.158234    40.142956  235.194977   45.234282  15.132   \n",
              "75%    2434.000000   126.060483    70.227558  276.252014   76.124619  15.132   \n",
              "max    3241.000000   330.314424   282.780152  385.008668  113.231044  15.132   \n",
              "\n",
              "           Wire 6     Wire 7      Wire 8     Wire 9  \n",
              "count   73.000000  11.000000   19.000000  29.000000  \n",
              "mean    48.016974  10.039007   53.625193  34.155752  \n",
              "std     33.919845   8.610584   16.881728  19.931616  \n",
              "min      0.034320   0.234208   45.076721   4.622800  \n",
              "25%     25.053600   6.762756   46.094879  22.058401  \n",
              "50%     42.076324   9.017009   46.279999  30.066399  \n",
              "75%     64.212723  11.886057   48.089603  43.862003  \n",
              "max    180.454575  32.847674  102.762401  90.053604  "
            ],
            "text/html": [
              "\n",
              "  <div id=\"df-458aef6c-0f63-4b7c-a4c9-0ef4996d7685\">\n",
              "    <div class=\"colab-df-container\">\n",
              "      <div>\n",
              "<style scoped>\n",
              "    .dataframe tbody tr th:only-of-type {\n",
              "        vertical-align: middle;\n",
              "    }\n",
              "\n",
              "    .dataframe tbody tr th {\n",
              "        vertical-align: top;\n",
              "    }\n",
              "\n",
              "    .dataframe thead th {\n",
              "        text-align: right;\n",
              "    }\n",
              "</style>\n",
              "<table border=\"1\" class=\"dataframe\">\n",
              "  <thead>\n",
              "    <tr style=\"text-align: right;\">\n",
              "      <th></th>\n",
              "      <th>key</th>\n",
              "      <th>Wire 1</th>\n",
              "      <th>Wire 2</th>\n",
              "      <th>Wire 3</th>\n",
              "      <th>Wire 4</th>\n",
              "      <th>Wire 5</th>\n",
              "      <th>Wire 6</th>\n",
              "      <th>Wire 7</th>\n",
              "      <th>Wire 8</th>\n",
              "      <th>Wire 9</th>\n",
              "    </tr>\n",
              "  </thead>\n",
              "  <tbody>\n",
              "    <tr>\n",
              "      <th>count</th>\n",
              "      <td>3081.000000</td>\n",
              "      <td>3055.000000</td>\n",
              "      <td>1079.000000</td>\n",
              "      <td>63.000000</td>\n",
              "      <td>14.000000</td>\n",
              "      <td>1.000</td>\n",
              "      <td>73.000000</td>\n",
              "      <td>11.000000</td>\n",
              "      <td>19.000000</td>\n",
              "      <td>29.000000</td>\n",
              "    </tr>\n",
              "    <tr>\n",
              "      <th>mean</th>\n",
              "      <td>1623.426485</td>\n",
              "      <td>100.895853</td>\n",
              "      <td>50.577323</td>\n",
              "      <td>189.482681</td>\n",
              "      <td>57.442841</td>\n",
              "      <td>15.132</td>\n",
              "      <td>48.016974</td>\n",
              "      <td>10.039007</td>\n",
              "      <td>53.625193</td>\n",
              "      <td>34.155752</td>\n",
              "    </tr>\n",
              "    <tr>\n",
              "      <th>std</th>\n",
              "      <td>932.996726</td>\n",
              "      <td>42.012518</td>\n",
              "      <td>39.320216</td>\n",
              "      <td>99.513444</td>\n",
              "      <td>28.824667</td>\n",
              "      <td>NaN</td>\n",
              "      <td>33.919845</td>\n",
              "      <td>8.610584</td>\n",
              "      <td>16.881728</td>\n",
              "      <td>19.931616</td>\n",
              "    </tr>\n",
              "    <tr>\n",
              "      <th>min</th>\n",
              "      <td>1.000000</td>\n",
              "      <td>1.918800</td>\n",
              "      <td>0.030160</td>\n",
              "      <td>0.144144</td>\n",
              "      <td>24.148801</td>\n",
              "      <td>15.132</td>\n",
              "      <td>0.034320</td>\n",
              "      <td>0.234208</td>\n",
              "      <td>45.076721</td>\n",
              "      <td>4.622800</td>\n",
              "    </tr>\n",
              "    <tr>\n",
              "      <th>25%</th>\n",
              "      <td>823.000000</td>\n",
              "      <td>72.115684</td>\n",
              "      <td>20.193680</td>\n",
              "      <td>95.135044</td>\n",
              "      <td>40.807002</td>\n",
              "      <td>15.132</td>\n",
              "      <td>25.053600</td>\n",
              "      <td>6.762756</td>\n",
              "      <td>46.094879</td>\n",
              "      <td>22.058401</td>\n",
              "    </tr>\n",
              "    <tr>\n",
              "      <th>50%</th>\n",
              "      <td>1619.000000</td>\n",
              "      <td>100.158234</td>\n",
              "      <td>40.142956</td>\n",
              "      <td>235.194977</td>\n",
              "      <td>45.234282</td>\n",
              "      <td>15.132</td>\n",
              "      <td>42.076324</td>\n",
              "      <td>9.017009</td>\n",
              "      <td>46.279999</td>\n",
              "      <td>30.066399</td>\n",
              "    </tr>\n",
              "    <tr>\n",
              "      <th>75%</th>\n",
              "      <td>2434.000000</td>\n",
              "      <td>126.060483</td>\n",
              "      <td>70.227558</td>\n",
              "      <td>276.252014</td>\n",
              "      <td>76.124619</td>\n",
              "      <td>15.132</td>\n",
              "      <td>64.212723</td>\n",
              "      <td>11.886057</td>\n",
              "      <td>48.089603</td>\n",
              "      <td>43.862003</td>\n",
              "    </tr>\n",
              "    <tr>\n",
              "      <th>max</th>\n",
              "      <td>3241.000000</td>\n",
              "      <td>330.314424</td>\n",
              "      <td>282.780152</td>\n",
              "      <td>385.008668</td>\n",
              "      <td>113.231044</td>\n",
              "      <td>15.132</td>\n",
              "      <td>180.454575</td>\n",
              "      <td>32.847674</td>\n",
              "      <td>102.762401</td>\n",
              "      <td>90.053604</td>\n",
              "    </tr>\n",
              "  </tbody>\n",
              "</table>\n",
              "</div>\n",
              "      <button class=\"colab-df-convert\" onclick=\"convertToInteractive('df-458aef6c-0f63-4b7c-a4c9-0ef4996d7685')\"\n",
              "              title=\"Convert this dataframe to an interactive table.\"\n",
              "              style=\"display:none;\">\n",
              "        \n",
              "  <svg xmlns=\"http://www.w3.org/2000/svg\" height=\"24px\"viewBox=\"0 0 24 24\"\n",
              "       width=\"24px\">\n",
              "    <path d=\"M0 0h24v24H0V0z\" fill=\"none\"/>\n",
              "    <path d=\"M18.56 5.44l.94 2.06.94-2.06 2.06-.94-2.06-.94-.94-2.06-.94 2.06-2.06.94zm-11 1L8.5 8.5l.94-2.06 2.06-.94-2.06-.94L8.5 2.5l-.94 2.06-2.06.94zm10 10l.94 2.06.94-2.06 2.06-.94-2.06-.94-.94-2.06-.94 2.06-2.06.94z\"/><path d=\"M17.41 7.96l-1.37-1.37c-.4-.4-.92-.59-1.43-.59-.52 0-1.04.2-1.43.59L10.3 9.45l-7.72 7.72c-.78.78-.78 2.05 0 2.83L4 21.41c.39.39.9.59 1.41.59.51 0 1.02-.2 1.41-.59l7.78-7.78 2.81-2.81c.8-.78.8-2.07 0-2.86zM5.41 20L4 18.59l7.72-7.72 1.47 1.35L5.41 20z\"/>\n",
              "  </svg>\n",
              "      </button>\n",
              "      \n",
              "  <style>\n",
              "    .colab-df-container {\n",
              "      display:flex;\n",
              "      flex-wrap:wrap;\n",
              "      gap: 12px;\n",
              "    }\n",
              "\n",
              "    .colab-df-convert {\n",
              "      background-color: #E8F0FE;\n",
              "      border: none;\n",
              "      border-radius: 50%;\n",
              "      cursor: pointer;\n",
              "      display: none;\n",
              "      fill: #1967D2;\n",
              "      height: 32px;\n",
              "      padding: 0 0 0 0;\n",
              "      width: 32px;\n",
              "    }\n",
              "\n",
              "    .colab-df-convert:hover {\n",
              "      background-color: #E2EBFA;\n",
              "      box-shadow: 0px 1px 2px rgba(60, 64, 67, 0.3), 0px 1px 3px 1px rgba(60, 64, 67, 0.15);\n",
              "      fill: #174EA6;\n",
              "    }\n",
              "\n",
              "    [theme=dark] .colab-df-convert {\n",
              "      background-color: #3B4455;\n",
              "      fill: #D2E3FC;\n",
              "    }\n",
              "\n",
              "    [theme=dark] .colab-df-convert:hover {\n",
              "      background-color: #434B5C;\n",
              "      box-shadow: 0px 1px 3px 1px rgba(0, 0, 0, 0.15);\n",
              "      filter: drop-shadow(0px 1px 2px rgba(0, 0, 0, 0.3));\n",
              "      fill: #FFFFFF;\n",
              "    }\n",
              "  </style>\n",
              "\n",
              "      <script>\n",
              "        const buttonEl =\n",
              "          document.querySelector('#df-458aef6c-0f63-4b7c-a4c9-0ef4996d7685 button.colab-df-convert');\n",
              "        buttonEl.style.display =\n",
              "          google.colab.kernel.accessAllowed ? 'block' : 'none';\n",
              "\n",
              "        async function convertToInteractive(key) {\n",
              "          const element = document.querySelector('#df-458aef6c-0f63-4b7c-a4c9-0ef4996d7685');\n",
              "          const dataTable =\n",
              "            await google.colab.kernel.invokeFunction('convertToInteractive',\n",
              "                                                     [key], {});\n",
              "          if (!dataTable) return;\n",
              "\n",
              "          const docLinkHtml = 'Like what you see? Visit the ' +\n",
              "            '<a target=\"_blank\" href=https://colab.research.google.com/notebooks/data_table.ipynb>data table notebook</a>'\n",
              "            + ' to learn more about interactive tables.';\n",
              "          element.innerHTML = '';\n",
              "          dataTable['output_type'] = 'display_data';\n",
              "          await google.colab.output.renderOutput(dataTable, element);\n",
              "          const docLink = document.createElement('div');\n",
              "          docLink.innerHTML = docLinkHtml;\n",
              "          element.appendChild(docLink);\n",
              "        }\n",
              "      </script>\n",
              "    </div>\n",
              "  </div>\n",
              "  "
            ]
          },
          "metadata": {}
        }
      ],
      "source": [
        "data_wire = read_file(path + 'data_wire.csv')"
      ]
    },
    {
      "cell_type": "code",
      "execution_count": null,
      "metadata": {
        "colab": {
          "base_uri": "https://localhost:8080/"
        },
        "id": "WivPh8i0OS1H",
        "outputId": "ad5af493-7bd9-4417-cd00-6144548b6fc9"
      },
      "outputs": [
        {
          "output_type": "stream",
          "name": "stdout",
          "text": [
            "Количество уникальных ключей в таблице: 3081\n",
            "Размер множества ключей, для которых есть записи во всех таблицах: 2325\n"
          ]
        }
      ],
      "source": [
        "key_set = count_keys(data_wire, key_set)"
      ]
    },
    {
      "cell_type": "code",
      "execution_count": null,
      "metadata": {
        "colab": {
          "base_uri": "https://localhost:8080/",
          "height": 607
        },
        "id": "YZCq5xSKOqzS",
        "outputId": "7449103c-b2d8-4176-f8f5-b8df2a7f9c95"
      },
      "outputs": [
        {
          "output_type": "display_data",
          "data": {
            "text/plain": [
              "<Figure size 1080x720 with 9 Axes>"
            ],
            "image/png": "[encoded data removed]"
          },
          "metadata": {
            "needs_background": "light"
          }
        }
      ],
      "source": [
        "fig, axes = plt.subplots(ncols=3, nrows=3, figsize=(15, 10))\n",
        "fig\n",
        "for i in range(9):\n",
        "    axes[i // 3][i % 3].hist(data_wire[f'Wire {i + 1}'], bins=20)\n",
        "    axes[i // 3][i % 3].title.set_text(f'Wire {i + 1}')"
      ]
    },
    {
      "cell_type": "markdown",
      "metadata": {
        "id": "Ix4QtNDPO5Sb"
      },
      "source": [
        "Wire 5 не константный, он просто только один раз прибавлялся"
      ]
    },
    {
      "cell_type": "markdown",
      "metadata": {
        "id": "WAIjtFm0Cuhj"
      },
      "source": [
        "<font color='steelblue'><b>Комментарий тимлида v2</b></font><br>\n",
        "<font color='green'> ✔️ Согласна.</font>"
      ]
    },
    {
      "cell_type": "code",
      "execution_count": null,
      "metadata": {
        "colab": {
          "base_uri": "https://localhost:8080/"
        },
        "id": "Dn6dvrQkCuhj",
        "outputId": "9499d60d-23cc-4ae2-e081-5efbbc30e312"
      },
      "outputs": [
        {
          "output_type": "execute_result",
          "data": {
            "text/plain": [
              "0"
            ]
          },
          "metadata": {},
          "execution_count": 35
        }
      ],
      "source": [
        "(data_wire.groupby('key').count().sum(axis=1) == 0).sum()"
      ]
    },
    {
      "cell_type": "markdown",
      "metadata": {
        "id": "Ip_klT0zQtKU"
      },
      "source": [
        "### Вопросы\n",
        "Тут та же ситуация, отсутствие записей в таблице по ключам означает, что мы выбрасываем ключи из рассмотрения или же это означает, что просто к образцам с отсутсвующими в этой таблице ключами ничего не добавлялось?\n"
      ]
    },
    {
      "cell_type": "markdown",
      "metadata": {
        "id": "vBR4AuUkCuhj"
      },
      "source": [
        "<font color='steelblue'><b>Комментарий тимлида v2</b><br>\n",
        "Это означает, что записи утеряны. Мы можем использовать только те ключи, которые есть во всех датафреймах.</font>"
      ]
    },
    {
      "cell_type": "markdown",
      "metadata": {
        "id": "U11mPve5PYYT"
      },
      "source": [
        "### data_wire_time"
      ]
    },
    {
      "cell_type": "code",
      "execution_count": null,
      "metadata": {
        "colab": {
          "base_uri": "https://localhost:8080/",
          "height": 811
        },
        "id": "GcjBvqP9QgqM",
        "outputId": "7a26ac41-7766-4979-8c32-945456f5ab9c"
      },
      "outputs": [
        {
          "output_type": "display_data",
          "data": {
            "text/plain": [
              "   key               Wire 1               Wire 2 Wire 3 Wire 4 Wire 5 Wire 6  \\\n",
              "0    1  2019-05-03 11:11:41                  NaN    NaN    NaN    NaN    NaN   \n",
              "1    2  2019-05-03 11:46:10                  NaN    NaN    NaN    NaN    NaN   \n",
              "2    3  2019-05-03 12:13:47                  NaN    NaN    NaN    NaN    NaN   \n",
              "3    4  2019-05-03 12:48:05                  NaN    NaN    NaN    NaN    NaN   \n",
              "4    5  2019-05-03 13:18:15  2019-05-03 13:32:06    NaN    NaN    NaN    NaN   \n",
              "\n",
              "  Wire 7 Wire 8 Wire 9  \n",
              "0    NaN    NaN    NaN  \n",
              "1    NaN    NaN    NaN  \n",
              "2    NaN    NaN    NaN  \n",
              "3    NaN    NaN    NaN  \n",
              "4    NaN    NaN    NaN  "
            ],
            "text/html": [
              "\n",
              "  <div id=\"df-a13f35a8-4ed9-4769-bc6a-ff55643a3da3\">\n",
              "    <div class=\"colab-df-container\">\n",
              "      <div>\n",
              "<style scoped>\n",
              "    .dataframe tbody tr th:only-of-type {\n",
              "        vertical-align: middle;\n",
              "    }\n",
              "\n",
              "    .dataframe tbody tr th {\n",
              "        vertical-align: top;\n",
              "    }\n",
              "\n",
              "    .dataframe thead th {\n",
              "        text-align: right;\n",
              "    }\n",
              "</style>\n",
              "<table border=\"1\" class=\"dataframe\">\n",
              "  <thead>\n",
              "    <tr style=\"text-align: right;\">\n",
              "      <th></th>\n",
              "      <th>key</th>\n",
              "      <th>Wire 1</th>\n",
              "      <th>Wire 2</th>\n",
              "      <th>Wire 3</th>\n",
              "      <th>Wire 4</th>\n",
              "      <th>Wire 5</th>\n",
              "      <th>Wire 6</th>\n",
              "      <th>Wire 7</th>\n",
              "      <th>Wire 8</th>\n",
              "      <th>Wire 9</th>\n",
              "    </tr>\n",
              "  </thead>\n",
              "  <tbody>\n",
              "    <tr>\n",
              "      <th>0</th>\n",
              "      <td>1</td>\n",
              "      <td>2019-05-03 11:11:41</td>\n",
              "      <td>NaN</td>\n",
              "      <td>NaN</td>\n",
              "      <td>NaN</td>\n",
              "      <td>NaN</td>\n",
              "      <td>NaN</td>\n",
              "      <td>NaN</td>\n",
              "      <td>NaN</td>\n",
              "      <td>NaN</td>\n",
              "    </tr>\n",
              "    <tr>\n",
              "      <th>1</th>\n",
              "      <td>2</td>\n",
              "      <td>2019-05-03 11:46:10</td>\n",
              "      <td>NaN</td>\n",
              "      <td>NaN</td>\n",
              "      <td>NaN</td>\n",
              "      <td>NaN</td>\n",
              "      <td>NaN</td>\n",
              "      <td>NaN</td>\n",
              "      <td>NaN</td>\n",
              "      <td>NaN</td>\n",
              "    </tr>\n",
              "    <tr>\n",
              "      <th>2</th>\n",
              "      <td>3</td>\n",
              "      <td>2019-05-03 12:13:47</td>\n",
              "      <td>NaN</td>\n",
              "      <td>NaN</td>\n",
              "      <td>NaN</td>\n",
              "      <td>NaN</td>\n",
              "      <td>NaN</td>\n",
              "      <td>NaN</td>\n",
              "      <td>NaN</td>\n",
              "      <td>NaN</td>\n",
              "    </tr>\n",
              "    <tr>\n",
              "      <th>3</th>\n",
              "      <td>4</td>\n",
              "      <td>2019-05-03 12:48:05</td>\n",
              "      <td>NaN</td>\n",
              "      <td>NaN</td>\n",
              "      <td>NaN</td>\n",
              "      <td>NaN</td>\n",
              "      <td>NaN</td>\n",
              "      <td>NaN</td>\n",
              "      <td>NaN</td>\n",
              "      <td>NaN</td>\n",
              "    </tr>\n",
              "    <tr>\n",
              "      <th>4</th>\n",
              "      <td>5</td>\n",
              "      <td>2019-05-03 13:18:15</td>\n",
              "      <td>2019-05-03 13:32:06</td>\n",
              "      <td>NaN</td>\n",
              "      <td>NaN</td>\n",
              "      <td>NaN</td>\n",
              "      <td>NaN</td>\n",
              "      <td>NaN</td>\n",
              "      <td>NaN</td>\n",
              "      <td>NaN</td>\n",
              "    </tr>\n",
              "  </tbody>\n",
              "</table>\n",
              "</div>\n",
              "      <button class=\"colab-df-convert\" onclick=\"convertToInteractive('df-a13f35a8-4ed9-4769-bc6a-ff55643a3da3')\"\n",
              "              title=\"Convert this dataframe to an interactive table.\"\n",
              "              style=\"display:none;\">\n",
              "        \n",
              "  <svg xmlns=\"http://www.w3.org/2000/svg\" height=\"24px\"viewBox=\"0 0 24 24\"\n",
              "       width=\"24px\">\n",
              "    <path d=\"M0 0h24v24H0V0z\" fill=\"none\"/>\n",
              "    <path d=\"M18.56 5.44l.94 2.06.94-2.06 2.06-.94-2.06-.94-.94-2.06-.94 2.06-2.06.94zm-11 1L8.5 8.5l.94-2.06 2.06-.94-2.06-.94L8.5 2.5l-.94 2.06-2.06.94zm10 10l.94 2.06.94-2.06 2.06-.94-2.06-.94-.94-2.06-.94 2.06-2.06.94z\"/><path d=\"M17.41 7.96l-1.37-1.37c-.4-.4-.92-.59-1.43-.59-.52 0-1.04.2-1.43.59L10.3 9.45l-7.72 7.72c-.78.78-.78 2.05 0 2.83L4 21.41c.39.39.9.59 1.41.59.51 0 1.02-.2 1.41-.59l7.78-7.78 2.81-2.81c.8-.78.8-2.07 0-2.86zM5.41 20L4 18.59l7.72-7.72 1.47 1.35L5.41 20z\"/>\n",
              "  </svg>\n",
              "      </button>\n",
              "      \n",
              "  <style>\n",
              "    .colab-df-container {\n",
              "      display:flex;\n",
              "      flex-wrap:wrap;\n",
              "      gap: 12px;\n",
              "    }\n",
              "\n",
              "    .colab-df-convert {\n",
              "      background-color: #E8F0FE;\n",
              "      border: none;\n",
              "      border-radius: 50%;\n",
              "      cursor: pointer;\n",
              "      display: none;\n",
              "      fill: #1967D2;\n",
              "      height: 32px;\n",
              "      padding: 0 0 0 0;\n",
              "      width: 32px;\n",
              "    }\n",
              "\n",
              "    .colab-df-convert:hover {\n",
              "      background-color: #E2EBFA;\n",
              "      box-shadow: 0px 1px 2px rgba(60, 64, 67, 0.3), 0px 1px 3px 1px rgba(60, 64, 67, 0.15);\n",
              "      fill: #174EA6;\n",
              "    }\n",
              "\n",
              "    [theme=dark] .colab-df-convert {\n",
              "      background-color: #3B4455;\n",
              "      fill: #D2E3FC;\n",
              "    }\n",
              "\n",
              "    [theme=dark] .colab-df-convert:hover {\n",
              "      background-color: #434B5C;\n",
              "      box-shadow: 0px 1px 3px 1px rgba(0, 0, 0, 0.15);\n",
              "      filter: drop-shadow(0px 1px 2px rgba(0, 0, 0, 0.3));\n",
              "      fill: #FFFFFF;\n",
              "    }\n",
              "  </style>\n",
              "\n",
              "      <script>\n",
              "        const buttonEl =\n",
              "          document.querySelector('#df-a13f35a8-4ed9-4769-bc6a-ff55643a3da3 button.colab-df-convert');\n",
              "        buttonEl.style.display =\n",
              "          google.colab.kernel.accessAllowed ? 'block' : 'none';\n",
              "\n",
              "        async function convertToInteractive(key) {\n",
              "          const element = document.querySelector('#df-a13f35a8-4ed9-4769-bc6a-ff55643a3da3');\n",
              "          const dataTable =\n",
              "            await google.colab.kernel.invokeFunction('convertToInteractive',\n",
              "                                                     [key], {});\n",
              "          if (!dataTable) return;\n",
              "\n",
              "          const docLinkHtml = 'Like what you see? Visit the ' +\n",
              "            '<a target=\"_blank\" href=https://colab.research.google.com/notebooks/data_table.ipynb>data table notebook</a>'\n",
              "            + ' to learn more about interactive tables.';\n",
              "          element.innerHTML = '';\n",
              "          dataTable['output_type'] = 'display_data';\n",
              "          await google.colab.output.renderOutput(dataTable, element);\n",
              "          const docLink = document.createElement('div');\n",
              "          docLink.innerHTML = docLinkHtml;\n",
              "          element.appendChild(docLink);\n",
              "        }\n",
              "      </script>\n",
              "    </div>\n",
              "  </div>\n",
              "  "
            ]
          },
          "metadata": {}
        },
        {
          "output_type": "stream",
          "name": "stdout",
          "text": [
            "<class 'pandas.core.frame.DataFrame'>\n",
            "RangeIndex: 3081 entries, 0 to 3080\n",
            "Data columns (total 10 columns):\n",
            " #   Column  Non-Null Count  Dtype \n",
            "---  ------  --------------  ----- \n",
            " 0   key     3081 non-null   int64 \n",
            " 1   Wire 1  3055 non-null   object\n",
            " 2   Wire 2  1079 non-null   object\n",
            " 3   Wire 3  63 non-null     object\n",
            " 4   Wire 4  14 non-null     object\n",
            " 5   Wire 5  1 non-null      object\n",
            " 6   Wire 6  73 non-null     object\n",
            " 7   Wire 7  11 non-null     object\n",
            " 8   Wire 8  19 non-null     object\n",
            " 9   Wire 9  29 non-null     object\n",
            "dtypes: int64(1), object(9)\n",
            "memory usage: 240.8+ KB\n"
          ]
        },
        {
          "output_type": "display_data",
          "data": {
            "text/plain": [
              "None"
            ]
          },
          "metadata": {}
        },
        {
          "output_type": "display_data",
          "data": {
            "text/plain": [
              "               key\n",
              "count  3081.000000\n",
              "mean   1623.426485\n",
              "std     932.996726\n",
              "min       1.000000\n",
              "25%     823.000000\n",
              "50%    1619.000000\n",
              "75%    2434.000000\n",
              "max    3241.000000"
            ],
            "text/html": [
              "\n",
              "  <div id=\"df-e19f8d16-d584-46d4-8978-5b9c691b1b38\">\n",
              "    <div class=\"colab-df-container\">\n",
              "      <div>\n",
              "<style scoped>\n",
              "    .dataframe tbody tr th:only-of-type {\n",
              "        vertical-align: middle;\n",
              "    }\n",
              "\n",
              "    .dataframe tbody tr th {\n",
              "        vertical-align: top;\n",
              "    }\n",
              "\n",
              "    .dataframe thead th {\n",
              "        text-align: right;\n",
              "    }\n",
              "</style>\n",
              "<table border=\"1\" class=\"dataframe\">\n",
              "  <thead>\n",
              "    <tr style=\"text-align: right;\">\n",
              "      <th></th>\n",
              "      <th>key</th>\n",
              "    </tr>\n",
              "  </thead>\n",
              "  <tbody>\n",
              "    <tr>\n",
              "      <th>count</th>\n",
              "      <td>3081.000000</td>\n",
              "    </tr>\n",
              "    <tr>\n",
              "      <th>mean</th>\n",
              "      <td>1623.426485</td>\n",
              "    </tr>\n",
              "    <tr>\n",
              "      <th>std</th>\n",
              "      <td>932.996726</td>\n",
              "    </tr>\n",
              "    <tr>\n",
              "      <th>min</th>\n",
              "      <td>1.000000</td>\n",
              "    </tr>\n",
              "    <tr>\n",
              "      <th>25%</th>\n",
              "      <td>823.000000</td>\n",
              "    </tr>\n",
              "    <tr>\n",
              "      <th>50%</th>\n",
              "      <td>1619.000000</td>\n",
              "    </tr>\n",
              "    <tr>\n",
              "      <th>75%</th>\n",
              "      <td>2434.000000</td>\n",
              "    </tr>\n",
              "    <tr>\n",
              "      <th>max</th>\n",
              "      <td>3241.000000</td>\n",
              "    </tr>\n",
              "  </tbody>\n",
              "</table>\n",
              "</div>\n",
              "      <button class=\"colab-df-convert\" onclick=\"convertToInteractive('df-e19f8d16-d584-46d4-8978-5b9c691b1b38')\"\n",
              "              title=\"Convert this dataframe to an interactive table.\"\n",
              "              style=\"display:none;\">\n",
              "        \n",
              "  <svg xmlns=\"http://www.w3.org/2000/svg\" height=\"24px\"viewBox=\"0 0 24 24\"\n",
              "       width=\"24px\">\n",
              "    <path d=\"M0 0h24v24H0V0z\" fill=\"none\"/>\n",
              "    <path d=\"M18.56 5.44l.94 2.06.94-2.06 2.06-.94-2.06-.94-.94-2.06-.94 2.06-2.06.94zm-11 1L8.5 8.5l.94-2.06 2.06-.94-2.06-.94L8.5 2.5l-.94 2.06-2.06.94zm10 10l.94 2.06.94-2.06 2.06-.94-2.06-.94-.94-2.06-.94 2.06-2.06.94z\"/><path d=\"M17.41 7.96l-1.37-1.37c-.4-.4-.92-.59-1.43-.59-.52 0-1.04.2-1.43.59L10.3 9.45l-7.72 7.72c-.78.78-.78 2.05 0 2.83L4 21.41c.39.39.9.59 1.41.59.51 0 1.02-.2 1.41-.59l7.78-7.78 2.81-2.81c.8-.78.8-2.07 0-2.86zM5.41 20L4 18.59l7.72-7.72 1.47 1.35L5.41 20z\"/>\n",
              "  </svg>\n",
              "      </button>\n",
              "      \n",
              "  <style>\n",
              "    .colab-df-container {\n",
              "      display:flex;\n",
              "      flex-wrap:wrap;\n",
              "      gap: 12px;\n",
              "    }\n",
              "\n",
              "    .colab-df-convert {\n",
              "      background-color: #E8F0FE;\n",
              "      border: none;\n",
              "      border-radius: 50%;\n",
              "      cursor: pointer;\n",
              "      display: none;\n",
              "      fill: #1967D2;\n",
              "      height: 32px;\n",
              "      padding: 0 0 0 0;\n",
              "      width: 32px;\n",
              "    }\n",
              "\n",
              "    .colab-df-convert:hover {\n",
              "      background-color: #E2EBFA;\n",
              "      box-shadow: 0px 1px 2px rgba(60, 64, 67, 0.3), 0px 1px 3px 1px rgba(60, 64, 67, 0.15);\n",
              "      fill: #174EA6;\n",
              "    }\n",
              "\n",
              "    [theme=dark] .colab-df-convert {\n",
              "      background-color: #3B4455;\n",
              "      fill: #D2E3FC;\n",
              "    }\n",
              "\n",
              "    [theme=dark] .colab-df-convert:hover {\n",
              "      background-color: #434B5C;\n",
              "      box-shadow: 0px 1px 3px 1px rgba(0, 0, 0, 0.15);\n",
              "      filter: drop-shadow(0px 1px 2px rgba(0, 0, 0, 0.3));\n",
              "      fill: #FFFFFF;\n",
              "    }\n",
              "  </style>\n",
              "\n",
              "      <script>\n",
              "        const buttonEl =\n",
              "          document.querySelector('#df-e19f8d16-d584-46d4-8978-5b9c691b1b38 button.colab-df-convert');\n",
              "        buttonEl.style.display =\n",
              "          google.colab.kernel.accessAllowed ? 'block' : 'none';\n",
              "\n",
              "        async function convertToInteractive(key) {\n",
              "          const element = document.querySelector('#df-e19f8d16-d584-46d4-8978-5b9c691b1b38');\n",
              "          const dataTable =\n",
              "            await google.colab.kernel.invokeFunction('convertToInteractive',\n",
              "                                                     [key], {});\n",
              "          if (!dataTable) return;\n",
              "\n",
              "          const docLinkHtml = 'Like what you see? Visit the ' +\n",
              "            '<a target=\"_blank\" href=https://colab.research.google.com/notebooks/data_table.ipynb>data table notebook</a>'\n",
              "            + ' to learn more about interactive tables.';\n",
              "          element.innerHTML = '';\n",
              "          dataTable['output_type'] = 'display_data';\n",
              "          await google.colab.output.renderOutput(dataTable, element);\n",
              "          const docLink = document.createElement('div');\n",
              "          docLink.innerHTML = docLinkHtml;\n",
              "          element.appendChild(docLink);\n",
              "        }\n",
              "      </script>\n",
              "    </div>\n",
              "  </div>\n",
              "  "
            ]
          },
          "metadata": {}
        }
      ],
      "source": [
        "data_wire_time = read_file(path + 'data_wire_time.csv')"
      ]
    },
    {
      "cell_type": "code",
      "execution_count": null,
      "metadata": {
        "colab": {
          "base_uri": "https://localhost:8080/"
        },
        "id": "m3rqK2E9QY63",
        "outputId": "2f247bca-8dad-416b-c9d2-bcb7c33b633f"
      },
      "outputs": [
        {
          "output_type": "stream",
          "name": "stdout",
          "text": [
            "Количество уникальных ключей в таблице: 3081\n",
            "Размер множества ключей, для которых есть записи во всех таблицах: 2325\n"
          ]
        }
      ],
      "source": [
        "key_set = count_keys(data_wire_time, key_set)"
      ]
    },
    {
      "cell_type": "code",
      "execution_count": null,
      "metadata": {
        "colab": {
          "base_uri": "https://localhost:8080/"
        },
        "id": "681T_p-fQjfs",
        "outputId": "dc0db175-b36b-4f3f-a701-9fd736602960"
      },
      "outputs": [
        {
          "output_type": "execute_result",
          "data": {
            "text/plain": [
              "key       0\n",
              "Wire 1    0\n",
              "Wire 2    0\n",
              "Wire 3    0\n",
              "Wire 4    0\n",
              "Wire 5    0\n",
              "Wire 6    0\n",
              "Wire 7    0\n",
              "Wire 8    0\n",
              "Wire 9    0\n",
              "dtype: int64"
            ]
          },
          "metadata": {},
          "execution_count": 38
        }
      ],
      "source": [
        "# Посчитаем количество несовпадающих пропусков в таблицах data_wire и data_wire_time\n",
        "(~(data_wire.isna() == data_wire_time.isna())).sum()"
      ]
    },
    {
      "cell_type": "markdown",
      "metadata": {
        "id": "bpI65m-IRKu6"
      },
      "source": [
        "Совпадает с таблицей выше"
      ]
    },
    {
      "cell_type": "markdown",
      "metadata": {
        "id": "nXo1zi0KRQPE"
      },
      "source": [
        "### **ОБЩИЕ ВОПРОСЫ ПО ПРОЕКТУ**\n",
        "\n",
        "1.  \"*Вам предстоит построить модель, которая предскажет температуру стали.*\" - это значит, что надо предсказать температуру **плавления** стали? Или же предскаать значение температуры для конкретного состава и конкретных параметрах графитовых стержней? Зачем присутсвуют несколько измерений температуры для партии? Это связано с тем, что сначала что-то добавлялось/нагревалось, потом проводилось измерение температуры?\n",
        "2. Работать только с ключами, которые есть во всех таблицах (таких я насчитала 3022 штуки)\n",
        "\n",
        "\n",
        "\n",
        "\n",
        "\n"
      ]
    },
    {
      "cell_type": "markdown",
      "metadata": {
        "id": "ZLHxzTHbSZVH"
      },
      "source": [
        "<font color='steelblue'><b>Комментарий тимлида v2</b><br>\n",
        "1. Нужно предсказать последнюю температуру, замеры проводились после нагревов/добавлеия материалов, процесс итеративный и продолжается до достижения требуемого химического состава.\n",
        "2. Да. И с ключами, у которых есть первый и последний замеры температуры.</font>"
      ]
    },
    {
      "cell_type": "markdown",
      "metadata": {
        "id": "UWrKw-2GCuhk"
      },
      "source": [
        "<font color='steelblue' size=4><b>Итоговый комментарий тимлида v2</b></font><br><br>\n",
        "<font color='steelblue'>Пожалуйста, посчитай количество ключей с низкими значениями температур корректно и посмотри вебинар, так тебе будет значительно легче делать проект.</font><br>"
      ]
    },
    {
      "cell_type": "markdown",
      "metadata": {
        "id": "Z8HPzT78Cuhk"
      },
      "source": [
        "<font color='Salmon'><b>Комментарий студента</b></font>\n",
        "\n",
        "Если я правильно поняла вебинар и правильно отсеила ключи, для которых мы не будем делать предсказания, то у меня получилось 2325 ключей\n",
        "\n",
        "Спасибо за ответы на вопросы!"
      ]
    },
    {
      "cell_type": "markdown",
      "metadata": {
        "id": "CYch20MrCuhk"
      },
      "source": [
        "<font color='steelblue'><b>Комментарий тимлида v3</b><br>\n",
        "Нет, их будет меньше. Предполагаю, что ты объединила сыпучие и проволоку, потом заполнила все попуски 0. Если ключ есть только в одном из эих двух датафреймов, мы не используем такой ключ.</font>"
      ]
    },
    {
      "cell_type": "markdown",
      "metadata": {
        "id": "3N9OL81QCuhk"
      },
      "source": [
        "<font color='steelblue' size=4><b>Итоговый комментарий тимлида v3</b></font><br><br>\n",
        "<font color='green'>План и отчёт приняты, спасибо!</font><br>"
      ]
    },
    {
      "cell_type": "markdown",
      "source": [
        "# Part 2"
      ],
      "metadata": {
        "id": "Q6K3QZhTCuhk"
      }
    },
    {
      "cell_type": "code",
      "execution_count": null,
      "metadata": {
        "id": "lk0Cm-6pCuhk"
      },
      "outputs": [],
      "source": []
    },
    {
      "cell_type": "code",
      "execution_count": null,
      "metadata": {
        "colab": {
          "base_uri": "https://localhost:8080/"
        },
        "id": "EpgQ5ELGQ0bF",
        "outputId": "eea7e3b5-a428-45af-8432-05710589f97c"
      },
      "outputs": [
        {
          "output_type": "stream",
          "name": "stdout",
          "text": [
            "Looking in indexes: https://pypi.org/simple, https://us-python.pkg.dev/colab-wheels/public/simple/\n",
            "Requirement already satisfied: catboost in /usr/local/lib/python3.7/dist-packages (1.0.6)\n",
            "Requirement already satisfied: matplotlib in /usr/local/lib/python3.7/dist-packages (from catboost) (3.2.2)\n",
            "Requirement already satisfied: pandas>=0.24.0 in /usr/local/lib/python3.7/dist-packages (from catboost) (1.3.5)\n",
            "Requirement already satisfied: scipy in /usr/local/lib/python3.7/dist-packages (from catboost) (1.7.3)\n",
            "Requirement already satisfied: plotly in /usr/local/lib/python3.7/dist-packages (from catboost) (5.5.0)\n",
            "Requirement already satisfied: six in /usr/local/lib/python3.7/dist-packages (from catboost) (1.15.0)\n",
            "Requirement already satisfied: graphviz in /usr/local/lib/python3.7/dist-packages (from catboost) (0.10.1)\n",
            "Requirement already satisfied: numpy>=1.16.0 in /usr/local/lib/python3.7/dist-packages (from catboost) (1.21.6)\n",
            "Requirement already satisfied: pytz>=2017.3 in /usr/local/lib/python3.7/dist-packages (from pandas>=0.24.0->catboost) (2022.1)\n",
            "Requirement already satisfied: python-dateutil>=2.7.3 in /usr/local/lib/python3.7/dist-packages (from pandas>=0.24.0->catboost) (2.8.2)\n",
            "Requirement already satisfied: pyparsing!=2.0.4,!=2.1.2,!=2.1.6,>=2.0.1 in /usr/local/lib/python3.7/dist-packages (from matplotlib->catboost) (3.0.9)\n",
            "Requirement already satisfied: kiwisolver>=1.0.1 in /usr/local/lib/python3.7/dist-packages (from matplotlib->catboost) (1.4.4)\n",
            "Requirement already satisfied: cycler>=0.10 in /usr/local/lib/python3.7/dist-packages (from matplotlib->catboost) (0.11.0)\n",
            "Requirement already satisfied: typing-extensions in /usr/local/lib/python3.7/dist-packages (from kiwisolver>=1.0.1->matplotlib->catboost) (4.1.1)\n",
            "Requirement already satisfied: tenacity>=6.2.0 in /usr/local/lib/python3.7/dist-packages (from plotly->catboost) (8.0.1)\n"
          ]
        }
      ],
      "source": [
        "!pip install catboost"
      ]
    },
    {
      "cell_type": "markdown",
      "metadata": {
        "id": "EOW76CU8Cuhk"
      },
      "source": [
        "<div style=\"background-color:MintCream; border:solid CadetBlue 2px; padding: 20px\">\n",
        "Привет, Дарья! Меня зовут Панкратова Дарья, и я буду проверять твой выпускной проект. Осталось совсем немного. Давай пройдем этот путь вместе. Предлагаю общаться на «ты» :) Но если это не удобно – дай знать, и мы перейдем на «вы». \n",
        "\n",
        "Я буду использовать Такую цветовую разметку для удобства:\n",
        "<div class=\"alert alert-success\">\n",
        "<b>👍 Успех:</b> Зелёным цветом отмечены удачные и элегантные решения, на которые можно опираться в будущих проектах.\n",
        "</div>\n",
        "<div class=\"alert alert-warning\">\n",
        "<b>🤔 Рекомендация:</b> Жёлтым цветом выделено то, что в следующий раз можно сделать по-другому. Ты можешь учесть эти комментарии при выполнении будущих заданий или доработать проект сейчас (однако это не обязательно).\n",
        "</div>\n",
        "<div class=\"alert alert-danger\">\n",
        "<b>😔 Необходимо исправить:</b> Красным цветом выделены комментарии, без исправления которых, я не смогу принять проект :(    \n",
        "</div>\n",
        "<div class=\"alert alert-info\">\n",
        "<b>👂 Совет:</b> Какие-то дополнительные материалы   \n",
        "</div>\n",
        "Давай работать над проектом в диалоге: если ты что-то меняешь в проекте по моим рекомендациям — пиши об этом. \n",
        "Мне будет легче отследить изменения, если ты выделишь свои комментарии:\n",
        "<div class=\"alert alert-info\"> <b>🎓 Комментарий студента:</b> Например, вот так.</div>\n",
        "Пожалуйста, не перемещай, не изменяй и не удаляй мои комментарии. Всё это поможет выполнить повторную проверку твоего проекта быстрее.\n",
        " </div>"
      ]
    },
    {
      "cell_type": "markdown",
      "metadata": {
        "id": "WnccNlEpCuhk"
      },
      "source": [
        "<div class=\"alert alert-danger\">\n",
        "<b>😔 Необходимо исправить:</b> В работу нужно добавить план, который проверил тимлид. Работа должна быть в 3 частях в одном ноутбуке.\n",
        "</div>"
      ]
    },
    {
      "cell_type": "markdown",
      "metadata": {
        "id": "7uxASDNqz25Q"
      },
      "source": [
        "## Imports "
      ]
    },
    {
      "cell_type": "code",
      "execution_count": null,
      "metadata": {
        "id": "cSuKF7vH-IeT"
      },
      "outputs": [],
      "source": [
        "import pandas as pd\n",
        "import numpy as np\n",
        "from datetime import datetime as dt\n",
        "from sklearn.model_selection import train_test_split, cross_val_score, GridSearchCV, RandomizedSearchCV\n",
        "from sklearn.preprocessing import StandardScaler\n",
        "from sklearn.linear_model import Lasso, Ridge\n",
        "from sklearn.ensemble import RandomForestRegressor\n",
        "from sklearn.metrics import mean_absolute_error as mae\n",
        "from sklearn.dummy import DummyRegressor\n",
        "import catboost as cb\n",
        "import matplotlib.pyplot as plt\n",
        "\n",
        "RANDOM_STATE = 80822"
      ]
    },
    {
      "cell_type": "markdown",
      "metadata": {
        "id": "R49iRR8ez6J6"
      },
      "source": [
        "## Loading data"
      ]
    },
    {
      "cell_type": "code",
      "execution_count": null,
      "metadata": {
        "id": "2Oc5ezFm-Bpm"
      },
      "outputs": [],
      "source": [
        "data_temp = pd.read_csv(path + 'data_temp.csv')\n",
        "data_arc = pd.read_csv(path + 'data_arc.csv')\n",
        "data_bulk = pd.read_csv(path + 'data_bulk.csv')\n",
        "data_bulk_time = pd.read_csv(path + 'data_bulk_time.csv')\n",
        "data_wire = pd.read_csv(path + 'data_wire.csv')\n",
        "data_wire_time = pd.read_csv(path + 'data_wire_time.csv')\n",
        "data_gas = pd.read_csv(path + 'data_gas.csv')"
      ]
    },
    {
      "cell_type": "markdown",
      "metadata": {
        "id": "wbqrZX8g0LmL"
      },
      "source": [
        "### Preprocessing"
      ]
    },
    {
      "cell_type": "code",
      "execution_count": null,
      "metadata": {
        "colab": {
          "base_uri": "https://localhost:8080/",
          "height": 206
        },
        "id": "Dvqa1g3ICuhl",
        "outputId": "1f83e612-f6f2-411d-f1e4-fea49aa39fd1"
      },
      "outputs": [
        {
          "output_type": "execute_result",
          "data": {
            "text/plain": [
              "   key Начало нагрева дугой  Конец нагрева дугой  Активная мощность  \\\n",
              "0    1  2019-05-03 11:02:14  2019-05-03 11:06:02           0.976059   \n",
              "1    1  2019-05-03 11:07:28  2019-05-03 11:10:33           0.805607   \n",
              "2    1  2019-05-03 11:11:44  2019-05-03 11:14:36           0.744363   \n",
              "3    1  2019-05-03 11:18:14  2019-05-03 11:24:19           1.659363   \n",
              "4    1  2019-05-03 11:26:09  2019-05-03 11:28:37           0.692755   \n",
              "\n",
              "   Реактивная мощность  \n",
              "0             0.687084  \n",
              "1             0.520285  \n",
              "2             0.498805  \n",
              "3             1.062669  \n",
              "4             0.414397  "
            ],
            "text/html": [
              "\n",
              "  <div id=\"df-a00a46b5-24b0-4a7a-96dc-2d67a04bef7f\">\n",
              "    <div class=\"colab-df-container\">\n",
              "      <div>\n",
              "<style scoped>\n",
              "    .dataframe tbody tr th:only-of-type {\n",
              "        vertical-align: middle;\n",
              "    }\n",
              "\n",
              "    .dataframe tbody tr th {\n",
              "        vertical-align: top;\n",
              "    }\n",
              "\n",
              "    .dataframe thead th {\n",
              "        text-align: right;\n",
              "    }\n",
              "</style>\n",
              "<table border=\"1\" class=\"dataframe\">\n",
              "  <thead>\n",
              "    <tr style=\"text-align: right;\">\n",
              "      <th></th>\n",
              "      <th>key</th>\n",
              "      <th>Начало нагрева дугой</th>\n",
              "      <th>Конец нагрева дугой</th>\n",
              "      <th>Активная мощность</th>\n",
              "      <th>Реактивная мощность</th>\n",
              "    </tr>\n",
              "  </thead>\n",
              "  <tbody>\n",
              "    <tr>\n",
              "      <th>0</th>\n",
              "      <td>1</td>\n",
              "      <td>2019-05-03 11:02:14</td>\n",
              "      <td>2019-05-03 11:06:02</td>\n",
              "      <td>0.976059</td>\n",
              "      <td>0.687084</td>\n",
              "    </tr>\n",
              "    <tr>\n",
              "      <th>1</th>\n",
              "      <td>1</td>\n",
              "      <td>2019-05-03 11:07:28</td>\n",
              "      <td>2019-05-03 11:10:33</td>\n",
              "      <td>0.805607</td>\n",
              "      <td>0.520285</td>\n",
              "    </tr>\n",
              "    <tr>\n",
              "      <th>2</th>\n",
              "      <td>1</td>\n",
              "      <td>2019-05-03 11:11:44</td>\n",
              "      <td>2019-05-03 11:14:36</td>\n",
              "      <td>0.744363</td>\n",
              "      <td>0.498805</td>\n",
              "    </tr>\n",
              "    <tr>\n",
              "      <th>3</th>\n",
              "      <td>1</td>\n",
              "      <td>2019-05-03 11:18:14</td>\n",
              "      <td>2019-05-03 11:24:19</td>\n",
              "      <td>1.659363</td>\n",
              "      <td>1.062669</td>\n",
              "    </tr>\n",
              "    <tr>\n",
              "      <th>4</th>\n",
              "      <td>1</td>\n",
              "      <td>2019-05-03 11:26:09</td>\n",
              "      <td>2019-05-03 11:28:37</td>\n",
              "      <td>0.692755</td>\n",
              "      <td>0.414397</td>\n",
              "    </tr>\n",
              "  </tbody>\n",
              "</table>\n",
              "</div>\n",
              "      <button class=\"colab-df-convert\" onclick=\"convertToInteractive('df-a00a46b5-24b0-4a7a-96dc-2d67a04bef7f')\"\n",
              "              title=\"Convert this dataframe to an interactive table.\"\n",
              "              style=\"display:none;\">\n",
              "        \n",
              "  <svg xmlns=\"http://www.w3.org/2000/svg\" height=\"24px\"viewBox=\"0 0 24 24\"\n",
              "       width=\"24px\">\n",
              "    <path d=\"M0 0h24v24H0V0z\" fill=\"none\"/>\n",
              "    <path d=\"M18.56 5.44l.94 2.06.94-2.06 2.06-.94-2.06-.94-.94-2.06-.94 2.06-2.06.94zm-11 1L8.5 8.5l.94-2.06 2.06-.94-2.06-.94L8.5 2.5l-.94 2.06-2.06.94zm10 10l.94 2.06.94-2.06 2.06-.94-2.06-.94-.94-2.06-.94 2.06-2.06.94z\"/><path d=\"M17.41 7.96l-1.37-1.37c-.4-.4-.92-.59-1.43-.59-.52 0-1.04.2-1.43.59L10.3 9.45l-7.72 7.72c-.78.78-.78 2.05 0 2.83L4 21.41c.39.39.9.59 1.41.59.51 0 1.02-.2 1.41-.59l7.78-7.78 2.81-2.81c.8-.78.8-2.07 0-2.86zM5.41 20L4 18.59l7.72-7.72 1.47 1.35L5.41 20z\"/>\n",
              "  </svg>\n",
              "      </button>\n",
              "      \n",
              "  <style>\n",
              "    .colab-df-container {\n",
              "      display:flex;\n",
              "      flex-wrap:wrap;\n",
              "      gap: 12px;\n",
              "    }\n",
              "\n",
              "    .colab-df-convert {\n",
              "      background-color: #E8F0FE;\n",
              "      border: none;\n",
              "      border-radius: 50%;\n",
              "      cursor: pointer;\n",
              "      display: none;\n",
              "      fill: #1967D2;\n",
              "      height: 32px;\n",
              "      padding: 0 0 0 0;\n",
              "      width: 32px;\n",
              "    }\n",
              "\n",
              "    .colab-df-convert:hover {\n",
              "      background-color: #E2EBFA;\n",
              "      box-shadow: 0px 1px 2px rgba(60, 64, 67, 0.3), 0px 1px 3px 1px rgba(60, 64, 67, 0.15);\n",
              "      fill: #174EA6;\n",
              "    }\n",
              "\n",
              "    [theme=dark] .colab-df-convert {\n",
              "      background-color: #3B4455;\n",
              "      fill: #D2E3FC;\n",
              "    }\n",
              "\n",
              "    [theme=dark] .colab-df-convert:hover {\n",
              "      background-color: #434B5C;\n",
              "      box-shadow: 0px 1px 3px 1px rgba(0, 0, 0, 0.15);\n",
              "      filter: drop-shadow(0px 1px 2px rgba(0, 0, 0, 0.3));\n",
              "      fill: #FFFFFF;\n",
              "    }\n",
              "  </style>\n",
              "\n",
              "      <script>\n",
              "        const buttonEl =\n",
              "          document.querySelector('#df-a00a46b5-24b0-4a7a-96dc-2d67a04bef7f button.colab-df-convert');\n",
              "        buttonEl.style.display =\n",
              "          google.colab.kernel.accessAllowed ? 'block' : 'none';\n",
              "\n",
              "        async function convertToInteractive(key) {\n",
              "          const element = document.querySelector('#df-a00a46b5-24b0-4a7a-96dc-2d67a04bef7f');\n",
              "          const dataTable =\n",
              "            await google.colab.kernel.invokeFunction('convertToInteractive',\n",
              "                                                     [key], {});\n",
              "          if (!dataTable) return;\n",
              "\n",
              "          const docLinkHtml = 'Like what you see? Visit the ' +\n",
              "            '<a target=\"_blank\" href=https://colab.research.google.com/notebooks/data_table.ipynb>data table notebook</a>'\n",
              "            + ' to learn more about interactive tables.';\n",
              "          element.innerHTML = '';\n",
              "          dataTable['output_type'] = 'display_data';\n",
              "          await google.colab.output.renderOutput(dataTable, element);\n",
              "          const docLink = document.createElement('div');\n",
              "          docLink.innerHTML = docLinkHtml;\n",
              "          element.appendChild(docLink);\n",
              "        }\n",
              "      </script>\n",
              "    </div>\n",
              "  </div>\n",
              "  "
            ]
          },
          "metadata": {},
          "execution_count": 42
        }
      ],
      "source": [
        "data_arc.head()"
      ]
    },
    {
      "cell_type": "code",
      "execution_count": null,
      "metadata": {
        "id": "V4RludTQDk9z"
      },
      "outputs": [],
      "source": [
        "# из предыдушей части помним, что есть выброс. Удалим его\n",
        "data_arc = data_arc.drop(9780, axis=0)"
      ]
    },
    {
      "cell_type": "markdown",
      "metadata": {
        "id": "VEbqnTxJCuhl"
      },
      "source": [
        "<div class=\"alert alert-success\">\n",
        "<b>👍 Успех:</b> Удалено отрицательное значение реактивной мощности\n",
        "</div>"
      ]
    },
    {
      "cell_type": "code",
      "execution_count": null,
      "metadata": {
        "colab": {
          "base_uri": "https://localhost:8080/",
          "height": 362
        },
        "id": "GmKdL-qh0nzO",
        "outputId": "5b9fe954-2a10-4c18-ecc8-1d3425661c73"
      },
      "outputs": [
        {
          "output_type": "execute_result",
          "data": {
            "text/plain": [
              "          key  Bulk 1  Bulk 2  Bulk 3  Bulk 4  Bulk 5  Bulk 6  Bulk 7  Bulk 8  \\\n",
              "count  3129.0   252.0    22.0  1298.0  1014.0    77.0   576.0    25.0     1.0   \n",
              "mean   1970.0  2019.0  2019.0  2019.0  2019.0  2019.0  2019.0  2019.0  2019.0   \n",
              "std       0.0     0.0     0.0     0.0     0.0     0.0     0.0     0.0     NaN   \n",
              "min    1970.0  2019.0  2019.0  2019.0  2019.0  2019.0  2019.0  2019.0  2019.0   \n",
              "25%    1970.0  2019.0  2019.0  2019.0  2019.0  2019.0  2019.0  2019.0  2019.0   \n",
              "50%    1970.0  2019.0  2019.0  2019.0  2019.0  2019.0  2019.0  2019.0  2019.0   \n",
              "75%    1970.0  2019.0  2019.0  2019.0  2019.0  2019.0  2019.0  2019.0  2019.0   \n",
              "max    1970.0  2019.0  2019.0  2019.0  2019.0  2019.0  2019.0  2019.0  2019.0   \n",
              "\n",
              "       Bulk 9  Bulk 10  Bulk 11  Bulk 12  Bulk 13  Bulk 14  Bulk 15  \n",
              "count    19.0    176.0    177.0   2450.0     18.0   2806.0   2248.0  \n",
              "mean   2019.0   2019.0   2019.0   2019.0   2019.0   2019.0   2019.0  \n",
              "std       0.0      0.0      0.0      0.0      0.0      0.0      0.0  \n",
              "min    2019.0   2019.0   2019.0   2019.0   2019.0   2019.0   2019.0  \n",
              "25%    2019.0   2019.0   2019.0   2019.0   2019.0   2019.0   2019.0  \n",
              "50%    2019.0   2019.0   2019.0   2019.0   2019.0   2019.0   2019.0  \n",
              "75%    2019.0   2019.0   2019.0   2019.0   2019.0   2019.0   2019.0  \n",
              "max    2019.0   2019.0   2019.0   2019.0   2019.0   2019.0   2019.0  "
            ],
            "text/html": [
              "\n",
              "  <div id=\"df-23bc1651-d1f7-42e7-95bf-89f8d9244f52\">\n",
              "    <div class=\"colab-df-container\">\n",
              "      <div>\n",
              "<style scoped>\n",
              "    .dataframe tbody tr th:only-of-type {\n",
              "        vertical-align: middle;\n",
              "    }\n",
              "\n",
              "    .dataframe tbody tr th {\n",
              "        vertical-align: top;\n",
              "    }\n",
              "\n",
              "    .dataframe thead th {\n",
              "        text-align: right;\n",
              "    }\n",
              "</style>\n",
              "<table border=\"1\" class=\"dataframe\">\n",
              "  <thead>\n",
              "    <tr style=\"text-align: right;\">\n",
              "      <th></th>\n",
              "      <th>key</th>\n",
              "      <th>Bulk 1</th>\n",
              "      <th>Bulk 2</th>\n",
              "      <th>Bulk 3</th>\n",
              "      <th>Bulk 4</th>\n",
              "      <th>Bulk 5</th>\n",
              "      <th>Bulk 6</th>\n",
              "      <th>Bulk 7</th>\n",
              "      <th>Bulk 8</th>\n",
              "      <th>Bulk 9</th>\n",
              "      <th>Bulk 10</th>\n",
              "      <th>Bulk 11</th>\n",
              "      <th>Bulk 12</th>\n",
              "      <th>Bulk 13</th>\n",
              "      <th>Bulk 14</th>\n",
              "      <th>Bulk 15</th>\n",
              "    </tr>\n",
              "  </thead>\n",
              "  <tbody>\n",
              "    <tr>\n",
              "      <th>count</th>\n",
              "      <td>3129.0</td>\n",
              "      <td>252.0</td>\n",
              "      <td>22.0</td>\n",
              "      <td>1298.0</td>\n",
              "      <td>1014.0</td>\n",
              "      <td>77.0</td>\n",
              "      <td>576.0</td>\n",
              "      <td>25.0</td>\n",
              "      <td>1.0</td>\n",
              "      <td>19.0</td>\n",
              "      <td>176.0</td>\n",
              "      <td>177.0</td>\n",
              "      <td>2450.0</td>\n",
              "      <td>18.0</td>\n",
              "      <td>2806.0</td>\n",
              "      <td>2248.0</td>\n",
              "    </tr>\n",
              "    <tr>\n",
              "      <th>mean</th>\n",
              "      <td>1970.0</td>\n",
              "      <td>2019.0</td>\n",
              "      <td>2019.0</td>\n",
              "      <td>2019.0</td>\n",
              "      <td>2019.0</td>\n",
              "      <td>2019.0</td>\n",
              "      <td>2019.0</td>\n",
              "      <td>2019.0</td>\n",
              "      <td>2019.0</td>\n",
              "      <td>2019.0</td>\n",
              "      <td>2019.0</td>\n",
              "      <td>2019.0</td>\n",
              "      <td>2019.0</td>\n",
              "      <td>2019.0</td>\n",
              "      <td>2019.0</td>\n",
              "      <td>2019.0</td>\n",
              "    </tr>\n",
              "    <tr>\n",
              "      <th>std</th>\n",
              "      <td>0.0</td>\n",
              "      <td>0.0</td>\n",
              "      <td>0.0</td>\n",
              "      <td>0.0</td>\n",
              "      <td>0.0</td>\n",
              "      <td>0.0</td>\n",
              "      <td>0.0</td>\n",
              "      <td>0.0</td>\n",
              "      <td>NaN</td>\n",
              "      <td>0.0</td>\n",
              "      <td>0.0</td>\n",
              "      <td>0.0</td>\n",
              "      <td>0.0</td>\n",
              "      <td>0.0</td>\n",
              "      <td>0.0</td>\n",
              "      <td>0.0</td>\n",
              "    </tr>\n",
              "    <tr>\n",
              "      <th>min</th>\n",
              "      <td>1970.0</td>\n",
              "      <td>2019.0</td>\n",
              "      <td>2019.0</td>\n",
              "      <td>2019.0</td>\n",
              "      <td>2019.0</td>\n",
              "      <td>2019.0</td>\n",
              "      <td>2019.0</td>\n",
              "      <td>2019.0</td>\n",
              "      <td>2019.0</td>\n",
              "      <td>2019.0</td>\n",
              "      <td>2019.0</td>\n",
              "      <td>2019.0</td>\n",
              "      <td>2019.0</td>\n",
              "      <td>2019.0</td>\n",
              "      <td>2019.0</td>\n",
              "      <td>2019.0</td>\n",
              "    </tr>\n",
              "    <tr>\n",
              "      <th>25%</th>\n",
              "      <td>1970.0</td>\n",
              "      <td>2019.0</td>\n",
              "      <td>2019.0</td>\n",
              "      <td>2019.0</td>\n",
              "      <td>2019.0</td>\n",
              "      <td>2019.0</td>\n",
              "      <td>2019.0</td>\n",
              "      <td>2019.0</td>\n",
              "      <td>2019.0</td>\n",
              "      <td>2019.0</td>\n",
              "      <td>2019.0</td>\n",
              "      <td>2019.0</td>\n",
              "      <td>2019.0</td>\n",
              "      <td>2019.0</td>\n",
              "      <td>2019.0</td>\n",
              "      <td>2019.0</td>\n",
              "    </tr>\n",
              "    <tr>\n",
              "      <th>50%</th>\n",
              "      <td>1970.0</td>\n",
              "      <td>2019.0</td>\n",
              "      <td>2019.0</td>\n",
              "      <td>2019.0</td>\n",
              "      <td>2019.0</td>\n",
              "      <td>2019.0</td>\n",
              "      <td>2019.0</td>\n",
              "      <td>2019.0</td>\n",
              "      <td>2019.0</td>\n",
              "      <td>2019.0</td>\n",
              "      <td>2019.0</td>\n",
              "      <td>2019.0</td>\n",
              "      <td>2019.0</td>\n",
              "      <td>2019.0</td>\n",
              "      <td>2019.0</td>\n",
              "      <td>2019.0</td>\n",
              "    </tr>\n",
              "    <tr>\n",
              "      <th>75%</th>\n",
              "      <td>1970.0</td>\n",
              "      <td>2019.0</td>\n",
              "      <td>2019.0</td>\n",
              "      <td>2019.0</td>\n",
              "      <td>2019.0</td>\n",
              "      <td>2019.0</td>\n",
              "      <td>2019.0</td>\n",
              "      <td>2019.0</td>\n",
              "      <td>2019.0</td>\n",
              "      <td>2019.0</td>\n",
              "      <td>2019.0</td>\n",
              "      <td>2019.0</td>\n",
              "      <td>2019.0</td>\n",
              "      <td>2019.0</td>\n",
              "      <td>2019.0</td>\n",
              "      <td>2019.0</td>\n",
              "    </tr>\n",
              "    <tr>\n",
              "      <th>max</th>\n",
              "      <td>1970.0</td>\n",
              "      <td>2019.0</td>\n",
              "      <td>2019.0</td>\n",
              "      <td>2019.0</td>\n",
              "      <td>2019.0</td>\n",
              "      <td>2019.0</td>\n",
              "      <td>2019.0</td>\n",
              "      <td>2019.0</td>\n",
              "      <td>2019.0</td>\n",
              "      <td>2019.0</td>\n",
              "      <td>2019.0</td>\n",
              "      <td>2019.0</td>\n",
              "      <td>2019.0</td>\n",
              "      <td>2019.0</td>\n",
              "      <td>2019.0</td>\n",
              "      <td>2019.0</td>\n",
              "    </tr>\n",
              "  </tbody>\n",
              "</table>\n",
              "</div>\n",
              "      <button class=\"colab-df-convert\" onclick=\"convertToInteractive('df-23bc1651-d1f7-42e7-95bf-89f8d9244f52')\"\n",
              "              title=\"Convert this dataframe to an interactive table.\"\n",
              "              style=\"display:none;\">\n",
              "        \n",
              "  <svg xmlns=\"http://www.w3.org/2000/svg\" height=\"24px\"viewBox=\"0 0 24 24\"\n",
              "       width=\"24px\">\n",
              "    <path d=\"M0 0h24v24H0V0z\" fill=\"none\"/>\n",
              "    <path d=\"M18.56 5.44l.94 2.06.94-2.06 2.06-.94-2.06-.94-.94-2.06-.94 2.06-2.06.94zm-11 1L8.5 8.5l.94-2.06 2.06-.94-2.06-.94L8.5 2.5l-.94 2.06-2.06.94zm10 10l.94 2.06.94-2.06 2.06-.94-2.06-.94-.94-2.06-.94 2.06-2.06.94z\"/><path d=\"M17.41 7.96l-1.37-1.37c-.4-.4-.92-.59-1.43-.59-.52 0-1.04.2-1.43.59L10.3 9.45l-7.72 7.72c-.78.78-.78 2.05 0 2.83L4 21.41c.39.39.9.59 1.41.59.51 0 1.02-.2 1.41-.59l7.78-7.78 2.81-2.81c.8-.78.8-2.07 0-2.86zM5.41 20L4 18.59l7.72-7.72 1.47 1.35L5.41 20z\"/>\n",
              "  </svg>\n",
              "      </button>\n",
              "      \n",
              "  <style>\n",
              "    .colab-df-container {\n",
              "      display:flex;\n",
              "      flex-wrap:wrap;\n",
              "      gap: 12px;\n",
              "    }\n",
              "\n",
              "    .colab-df-convert {\n",
              "      background-color: #E8F0FE;\n",
              "      border: none;\n",
              "      border-radius: 50%;\n",
              "      cursor: pointer;\n",
              "      display: none;\n",
              "      fill: #1967D2;\n",
              "      height: 32px;\n",
              "      padding: 0 0 0 0;\n",
              "      width: 32px;\n",
              "    }\n",
              "\n",
              "    .colab-df-convert:hover {\n",
              "      background-color: #E2EBFA;\n",
              "      box-shadow: 0px 1px 2px rgba(60, 64, 67, 0.3), 0px 1px 3px 1px rgba(60, 64, 67, 0.15);\n",
              "      fill: #174EA6;\n",
              "    }\n",
              "\n",
              "    [theme=dark] .colab-df-convert {\n",
              "      background-color: #3B4455;\n",
              "      fill: #D2E3FC;\n",
              "    }\n",
              "\n",
              "    [theme=dark] .colab-df-convert:hover {\n",
              "      background-color: #434B5C;\n",
              "      box-shadow: 0px 1px 3px 1px rgba(0, 0, 0, 0.15);\n",
              "      filter: drop-shadow(0px 1px 2px rgba(0, 0, 0, 0.3));\n",
              "      fill: #FFFFFF;\n",
              "    }\n",
              "  </style>\n",
              "\n",
              "      <script>\n",
              "        const buttonEl =\n",
              "          document.querySelector('#df-23bc1651-d1f7-42e7-95bf-89f8d9244f52 button.colab-df-convert');\n",
              "        buttonEl.style.display =\n",
              "          google.colab.kernel.accessAllowed ? 'block' : 'none';\n",
              "\n",
              "        async function convertToInteractive(key) {\n",
              "          const element = document.querySelector('#df-23bc1651-d1f7-42e7-95bf-89f8d9244f52');\n",
              "          const dataTable =\n",
              "            await google.colab.kernel.invokeFunction('convertToInteractive',\n",
              "                                                     [key], {});\n",
              "          if (!dataTable) return;\n",
              "\n",
              "          const docLinkHtml = 'Like what you see? Visit the ' +\n",
              "            '<a target=\"_blank\" href=https://colab.research.google.com/notebooks/data_table.ipynb>data table notebook</a>'\n",
              "            + ' to learn more about interactive tables.';\n",
              "          element.innerHTML = '';\n",
              "          dataTable['output_type'] = 'display_data';\n",
              "          await google.colab.output.renderOutput(dataTable, element);\n",
              "          const docLink = document.createElement('div');\n",
              "          docLink.innerHTML = docLinkHtml;\n",
              "          element.appendChild(docLink);\n",
              "        }\n",
              "      </script>\n",
              "    </div>\n",
              "  </div>\n",
              "  "
            ]
          },
          "metadata": {},
          "execution_count": 44
        }
      ],
      "source": [
        "# проверим на адекватность даты измерений\n",
        "data_bulk_time.apply(lambda x: pd.to_datetime(x).dt.year).describe()"
      ]
    },
    {
      "cell_type": "markdown",
      "metadata": {
        "id": "5LTXnr6s1V3k"
      },
      "source": [
        "Судя по std все измерения датируются 2019 годом "
      ]
    },
    {
      "cell_type": "code",
      "execution_count": null,
      "metadata": {
        "colab": {
          "base_uri": "https://localhost:8080/",
          "height": 300
        },
        "id": "NVvNbI3O1jNN",
        "outputId": "e6c1f76d-d7e0-4bd6-bae8-36ead433764d"
      },
      "outputs": [
        {
          "output_type": "execute_result",
          "data": {
            "text/plain": [
              "          key  Wire 1  Wire 2  Wire 3  Wire 4  Wire 5  Wire 6  Wire 7  Wire 8  \\\n",
              "count  3081.0  3055.0  1079.0    63.0    14.0     1.0    73.0    11.0    19.0   \n",
              "mean   1970.0  2019.0  2019.0  2019.0  2019.0  2019.0  2019.0  2019.0  2019.0   \n",
              "std       0.0     0.0     0.0     0.0     0.0     NaN     0.0     0.0     0.0   \n",
              "min    1970.0  2019.0  2019.0  2019.0  2019.0  2019.0  2019.0  2019.0  2019.0   \n",
              "25%    1970.0  2019.0  2019.0  2019.0  2019.0  2019.0  2019.0  2019.0  2019.0   \n",
              "50%    1970.0  2019.0  2019.0  2019.0  2019.0  2019.0  2019.0  2019.0  2019.0   \n",
              "75%    1970.0  2019.0  2019.0  2019.0  2019.0  2019.0  2019.0  2019.0  2019.0   \n",
              "max    1970.0  2019.0  2019.0  2019.0  2019.0  2019.0  2019.0  2019.0  2019.0   \n",
              "\n",
              "       Wire 9  \n",
              "count    29.0  \n",
              "mean   2019.0  \n",
              "std       0.0  \n",
              "min    2019.0  \n",
              "25%    2019.0  \n",
              "50%    2019.0  \n",
              "75%    2019.0  \n",
              "max    2019.0  "
            ],
            "text/html": [
              "\n",
              "  <div id=\"df-acd3519e-32e4-44f7-af76-cff48f339664\">\n",
              "    <div class=\"colab-df-container\">\n",
              "      <div>\n",
              "<style scoped>\n",
              "    .dataframe tbody tr th:only-of-type {\n",
              "        vertical-align: middle;\n",
              "    }\n",
              "\n",
              "    .dataframe tbody tr th {\n",
              "        vertical-align: top;\n",
              "    }\n",
              "\n",
              "    .dataframe thead th {\n",
              "        text-align: right;\n",
              "    }\n",
              "</style>\n",
              "<table border=\"1\" class=\"dataframe\">\n",
              "  <thead>\n",
              "    <tr style=\"text-align: right;\">\n",
              "      <th></th>\n",
              "      <th>key</th>\n",
              "      <th>Wire 1</th>\n",
              "      <th>Wire 2</th>\n",
              "      <th>Wire 3</th>\n",
              "      <th>Wire 4</th>\n",
              "      <th>Wire 5</th>\n",
              "      <th>Wire 6</th>\n",
              "      <th>Wire 7</th>\n",
              "      <th>Wire 8</th>\n",
              "      <th>Wire 9</th>\n",
              "    </tr>\n",
              "  </thead>\n",
              "  <tbody>\n",
              "    <tr>\n",
              "      <th>count</th>\n",
              "      <td>3081.0</td>\n",
              "      <td>3055.0</td>\n",
              "      <td>1079.0</td>\n",
              "      <td>63.0</td>\n",
              "      <td>14.0</td>\n",
              "      <td>1.0</td>\n",
              "      <td>73.0</td>\n",
              "      <td>11.0</td>\n",
              "      <td>19.0</td>\n",
              "      <td>29.0</td>\n",
              "    </tr>\n",
              "    <tr>\n",
              "      <th>mean</th>\n",
              "      <td>1970.0</td>\n",
              "      <td>2019.0</td>\n",
              "      <td>2019.0</td>\n",
              "      <td>2019.0</td>\n",
              "      <td>2019.0</td>\n",
              "      <td>2019.0</td>\n",
              "      <td>2019.0</td>\n",
              "      <td>2019.0</td>\n",
              "      <td>2019.0</td>\n",
              "      <td>2019.0</td>\n",
              "    </tr>\n",
              "    <tr>\n",
              "      <th>std</th>\n",
              "      <td>0.0</td>\n",
              "      <td>0.0</td>\n",
              "      <td>0.0</td>\n",
              "      <td>0.0</td>\n",
              "      <td>0.0</td>\n",
              "      <td>NaN</td>\n",
              "      <td>0.0</td>\n",
              "      <td>0.0</td>\n",
              "      <td>0.0</td>\n",
              "      <td>0.0</td>\n",
              "    </tr>\n",
              "    <tr>\n",
              "      <th>min</th>\n",
              "      <td>1970.0</td>\n",
              "      <td>2019.0</td>\n",
              "      <td>2019.0</td>\n",
              "      <td>2019.0</td>\n",
              "      <td>2019.0</td>\n",
              "      <td>2019.0</td>\n",
              "      <td>2019.0</td>\n",
              "      <td>2019.0</td>\n",
              "      <td>2019.0</td>\n",
              "      <td>2019.0</td>\n",
              "    </tr>\n",
              "    <tr>\n",
              "      <th>25%</th>\n",
              "      <td>1970.0</td>\n",
              "      <td>2019.0</td>\n",
              "      <td>2019.0</td>\n",
              "      <td>2019.0</td>\n",
              "      <td>2019.0</td>\n",
              "      <td>2019.0</td>\n",
              "      <td>2019.0</td>\n",
              "      <td>2019.0</td>\n",
              "      <td>2019.0</td>\n",
              "      <td>2019.0</td>\n",
              "    </tr>\n",
              "    <tr>\n",
              "      <th>50%</th>\n",
              "      <td>1970.0</td>\n",
              "      <td>2019.0</td>\n",
              "      <td>2019.0</td>\n",
              "      <td>2019.0</td>\n",
              "      <td>2019.0</td>\n",
              "      <td>2019.0</td>\n",
              "      <td>2019.0</td>\n",
              "      <td>2019.0</td>\n",
              "      <td>2019.0</td>\n",
              "      <td>2019.0</td>\n",
              "    </tr>\n",
              "    <tr>\n",
              "      <th>75%</th>\n",
              "      <td>1970.0</td>\n",
              "      <td>2019.0</td>\n",
              "      <td>2019.0</td>\n",
              "      <td>2019.0</td>\n",
              "      <td>2019.0</td>\n",
              "      <td>2019.0</td>\n",
              "      <td>2019.0</td>\n",
              "      <td>2019.0</td>\n",
              "      <td>2019.0</td>\n",
              "      <td>2019.0</td>\n",
              "    </tr>\n",
              "    <tr>\n",
              "      <th>max</th>\n",
              "      <td>1970.0</td>\n",
              "      <td>2019.0</td>\n",
              "      <td>2019.0</td>\n",
              "      <td>2019.0</td>\n",
              "      <td>2019.0</td>\n",
              "      <td>2019.0</td>\n",
              "      <td>2019.0</td>\n",
              "      <td>2019.0</td>\n",
              "      <td>2019.0</td>\n",
              "      <td>2019.0</td>\n",
              "    </tr>\n",
              "  </tbody>\n",
              "</table>\n",
              "</div>\n",
              "      <button class=\"colab-df-convert\" onclick=\"convertToInteractive('df-acd3519e-32e4-44f7-af76-cff48f339664')\"\n",
              "              title=\"Convert this dataframe to an interactive table.\"\n",
              "              style=\"display:none;\">\n",
              "        \n",
              "  <svg xmlns=\"http://www.w3.org/2000/svg\" height=\"24px\"viewBox=\"0 0 24 24\"\n",
              "       width=\"24px\">\n",
              "    <path d=\"M0 0h24v24H0V0z\" fill=\"none\"/>\n",
              "    <path d=\"M18.56 5.44l.94 2.06.94-2.06 2.06-.94-2.06-.94-.94-2.06-.94 2.06-2.06.94zm-11 1L8.5 8.5l.94-2.06 2.06-.94-2.06-.94L8.5 2.5l-.94 2.06-2.06.94zm10 10l.94 2.06.94-2.06 2.06-.94-2.06-.94-.94-2.06-.94 2.06-2.06.94z\"/><path d=\"M17.41 7.96l-1.37-1.37c-.4-.4-.92-.59-1.43-.59-.52 0-1.04.2-1.43.59L10.3 9.45l-7.72 7.72c-.78.78-.78 2.05 0 2.83L4 21.41c.39.39.9.59 1.41.59.51 0 1.02-.2 1.41-.59l7.78-7.78 2.81-2.81c.8-.78.8-2.07 0-2.86zM5.41 20L4 18.59l7.72-7.72 1.47 1.35L5.41 20z\"/>\n",
              "  </svg>\n",
              "      </button>\n",
              "      \n",
              "  <style>\n",
              "    .colab-df-container {\n",
              "      display:flex;\n",
              "      flex-wrap:wrap;\n",
              "      gap: 12px;\n",
              "    }\n",
              "\n",
              "    .colab-df-convert {\n",
              "      background-color: #E8F0FE;\n",
              "      border: none;\n",
              "      border-radius: 50%;\n",
              "      cursor: pointer;\n",
              "      display: none;\n",
              "      fill: #1967D2;\n",
              "      height: 32px;\n",
              "      padding: 0 0 0 0;\n",
              "      width: 32px;\n",
              "    }\n",
              "\n",
              "    .colab-df-convert:hover {\n",
              "      background-color: #E2EBFA;\n",
              "      box-shadow: 0px 1px 2px rgba(60, 64, 67, 0.3), 0px 1px 3px 1px rgba(60, 64, 67, 0.15);\n",
              "      fill: #174EA6;\n",
              "    }\n",
              "\n",
              "    [theme=dark] .colab-df-convert {\n",
              "      background-color: #3B4455;\n",
              "      fill: #D2E3FC;\n",
              "    }\n",
              "\n",
              "    [theme=dark] .colab-df-convert:hover {\n",
              "      background-color: #434B5C;\n",
              "      box-shadow: 0px 1px 3px 1px rgba(0, 0, 0, 0.15);\n",
              "      filter: drop-shadow(0px 1px 2px rgba(0, 0, 0, 0.3));\n",
              "      fill: #FFFFFF;\n",
              "    }\n",
              "  </style>\n",
              "\n",
              "      <script>\n",
              "        const buttonEl =\n",
              "          document.querySelector('#df-acd3519e-32e4-44f7-af76-cff48f339664 button.colab-df-convert');\n",
              "        buttonEl.style.display =\n",
              "          google.colab.kernel.accessAllowed ? 'block' : 'none';\n",
              "\n",
              "        async function convertToInteractive(key) {\n",
              "          const element = document.querySelector('#df-acd3519e-32e4-44f7-af76-cff48f339664');\n",
              "          const dataTable =\n",
              "            await google.colab.kernel.invokeFunction('convertToInteractive',\n",
              "                                                     [key], {});\n",
              "          if (!dataTable) return;\n",
              "\n",
              "          const docLinkHtml = 'Like what you see? Visit the ' +\n",
              "            '<a target=\"_blank\" href=https://colab.research.google.com/notebooks/data_table.ipynb>data table notebook</a>'\n",
              "            + ' to learn more about interactive tables.';\n",
              "          element.innerHTML = '';\n",
              "          dataTable['output_type'] = 'display_data';\n",
              "          await google.colab.output.renderOutput(dataTable, element);\n",
              "          const docLink = document.createElement('div');\n",
              "          docLink.innerHTML = docLinkHtml;\n",
              "          element.appendChild(docLink);\n",
              "        }\n",
              "      </script>\n",
              "    </div>\n",
              "  </div>\n",
              "  "
            ]
          },
          "metadata": {},
          "execution_count": 45
        }
      ],
      "source": [
        "# проверим на адекватность даты измерений\n",
        "data_wire_time.apply(lambda x: pd.to_datetime(x).dt.year).describe()"
      ]
    },
    {
      "cell_type": "markdown",
      "metadata": {
        "id": "tOeK6T9U1oPM"
      },
      "source": [
        "Аналогично. На этом роль этих двух датафреймов в данной работе заканчивается"
      ]
    },
    {
      "cell_type": "markdown",
      "metadata": {
        "id": "sTu03BQwCuhl"
      },
      "source": [
        "<div class=\"alert alert-success\">\n",
        "<b>👍 Успех:</b> Отлично\n",
        "</div>"
      ]
    },
    {
      "cell_type": "code",
      "execution_count": null,
      "metadata": {
        "id": "iM7eL_8M0dTN"
      },
      "outputs": [],
      "source": [
        "def merge_df(data_1, data_2):\n",
        "    \"\"\"объединяет датафреймы\"\"\"\n",
        "    return data_1.merge(data_2, on='key', how='inner')"
      ]
    },
    {
      "cell_type": "code",
      "execution_count": null,
      "metadata": {
        "colab": {
          "base_uri": "https://localhost:8080/",
          "height": 317
        },
        "id": "W0Ik6Wkp0gHX",
        "outputId": "6873bfc0-095e-4986-bee3-9ce4ee3e9c5b"
      },
      "outputs": [
        {
          "output_type": "execute_result",
          "data": {
            "text/plain": [
              "   key  Bulk 1  Bulk 2  Bulk 3  Bulk 4  Bulk 5  Bulk 6  Bulk 7  Bulk 8  \\\n",
              "0    1     NaN     NaN     NaN    43.0     NaN     NaN     NaN     NaN   \n",
              "1    2     NaN     NaN     NaN    73.0     NaN     NaN     NaN     NaN   \n",
              "2    3     NaN     NaN     NaN    34.0     NaN     NaN     NaN     NaN   \n",
              "3    4     NaN     NaN     NaN    81.0     NaN     NaN     NaN     NaN   \n",
              "4    5     NaN     NaN     NaN    78.0     NaN     NaN     NaN     NaN   \n",
              "\n",
              "   Bulk 9  ...      Газ 1     Wire 1   Wire 2  Wire 3  Wire 4  Wire 5  Wire 6  \\\n",
              "0     NaN  ...  29.749986  60.059998      NaN     NaN     NaN     NaN     NaN   \n",
              "1     NaN  ...  12.555561  96.052315      NaN     NaN     NaN     NaN     NaN   \n",
              "2     NaN  ...  28.554793  91.160157      NaN     NaN     NaN     NaN     NaN   \n",
              "3     NaN  ...  18.841219  89.063515      NaN     NaN     NaN     NaN     NaN   \n",
              "4     NaN  ...   5.413692  89.238236  9.11456     NaN     NaN     NaN     NaN   \n",
              "\n",
              "   Wire 7  Wire 8  Wire 9  \n",
              "0     NaN     NaN     NaN  \n",
              "1     NaN     NaN     NaN  \n",
              "2     NaN     NaN     NaN  \n",
              "3     NaN     NaN     NaN  \n",
              "4     NaN     NaN     NaN  \n",
              "\n",
              "[5 rows x 26 columns]"
            ],
            "text/html": [
              "\n",
              "  <div id=\"df-100f2412-89cc-49b4-b4f5-d5cef4976ef6\">\n",
              "    <div class=\"colab-df-container\">\n",
              "      <div>\n",
              "<style scoped>\n",
              "    .dataframe tbody tr th:only-of-type {\n",
              "        vertical-align: middle;\n",
              "    }\n",
              "\n",
              "    .dataframe tbody tr th {\n",
              "        vertical-align: top;\n",
              "    }\n",
              "\n",
              "    .dataframe thead th {\n",
              "        text-align: right;\n",
              "    }\n",
              "</style>\n",
              "<table border=\"1\" class=\"dataframe\">\n",
              "  <thead>\n",
              "    <tr style=\"text-align: right;\">\n",
              "      <th></th>\n",
              "      <th>key</th>\n",
              "      <th>Bulk 1</th>\n",
              "      <th>Bulk 2</th>\n",
              "      <th>Bulk 3</th>\n",
              "      <th>Bulk 4</th>\n",
              "      <th>Bulk 5</th>\n",
              "      <th>Bulk 6</th>\n",
              "      <th>Bulk 7</th>\n",
              "      <th>Bulk 8</th>\n",
              "      <th>Bulk 9</th>\n",
              "      <th>...</th>\n",
              "      <th>Газ 1</th>\n",
              "      <th>Wire 1</th>\n",
              "      <th>Wire 2</th>\n",
              "      <th>Wire 3</th>\n",
              "      <th>Wire 4</th>\n",
              "      <th>Wire 5</th>\n",
              "      <th>Wire 6</th>\n",
              "      <th>Wire 7</th>\n",
              "      <th>Wire 8</th>\n",
              "      <th>Wire 9</th>\n",
              "    </tr>\n",
              "  </thead>\n",
              "  <tbody>\n",
              "    <tr>\n",
              "      <th>0</th>\n",
              "      <td>1</td>\n",
              "      <td>NaN</td>\n",
              "      <td>NaN</td>\n",
              "      <td>NaN</td>\n",
              "      <td>43.0</td>\n",
              "      <td>NaN</td>\n",
              "      <td>NaN</td>\n",
              "      <td>NaN</td>\n",
              "      <td>NaN</td>\n",
              "      <td>NaN</td>\n",
              "      <td>...</td>\n",
              "      <td>29.749986</td>\n",
              "      <td>60.059998</td>\n",
              "      <td>NaN</td>\n",
              "      <td>NaN</td>\n",
              "      <td>NaN</td>\n",
              "      <td>NaN</td>\n",
              "      <td>NaN</td>\n",
              "      <td>NaN</td>\n",
              "      <td>NaN</td>\n",
              "      <td>NaN</td>\n",
              "    </tr>\n",
              "    <tr>\n",
              "      <th>1</th>\n",
              "      <td>2</td>\n",
              "      <td>NaN</td>\n",
              "      <td>NaN</td>\n",
              "      <td>NaN</td>\n",
              "      <td>73.0</td>\n",
              "      <td>NaN</td>\n",
              "      <td>NaN</td>\n",
              "      <td>NaN</td>\n",
              "      <td>NaN</td>\n",
              "      <td>NaN</td>\n",
              "      <td>...</td>\n",
              "      <td>12.555561</td>\n",
              "      <td>96.052315</td>\n",
              "      <td>NaN</td>\n",
              "      <td>NaN</td>\n",
              "      <td>NaN</td>\n",
              "      <td>NaN</td>\n",
              "      <td>NaN</td>\n",
              "      <td>NaN</td>\n",
              "      <td>NaN</td>\n",
              "      <td>NaN</td>\n",
              "    </tr>\n",
              "    <tr>\n",
              "      <th>2</th>\n",
              "      <td>3</td>\n",
              "      <td>NaN</td>\n",
              "      <td>NaN</td>\n",
              "      <td>NaN</td>\n",
              "      <td>34.0</td>\n",
              "      <td>NaN</td>\n",
              "      <td>NaN</td>\n",
              "      <td>NaN</td>\n",
              "      <td>NaN</td>\n",
              "      <td>NaN</td>\n",
              "      <td>...</td>\n",
              "      <td>28.554793</td>\n",
              "      <td>91.160157</td>\n",
              "      <td>NaN</td>\n",
              "      <td>NaN</td>\n",
              "      <td>NaN</td>\n",
              "      <td>NaN</td>\n",
              "      <td>NaN</td>\n",
              "      <td>NaN</td>\n",
              "      <td>NaN</td>\n",
              "      <td>NaN</td>\n",
              "    </tr>\n",
              "    <tr>\n",
              "      <th>3</th>\n",
              "      <td>4</td>\n",
              "      <td>NaN</td>\n",
              "      <td>NaN</td>\n",
              "      <td>NaN</td>\n",
              "      <td>81.0</td>\n",
              "      <td>NaN</td>\n",
              "      <td>NaN</td>\n",
              "      <td>NaN</td>\n",
              "      <td>NaN</td>\n",
              "      <td>NaN</td>\n",
              "      <td>...</td>\n",
              "      <td>18.841219</td>\n",
              "      <td>89.063515</td>\n",
              "      <td>NaN</td>\n",
              "      <td>NaN</td>\n",
              "      <td>NaN</td>\n",
              "      <td>NaN</td>\n",
              "      <td>NaN</td>\n",
              "      <td>NaN</td>\n",
              "      <td>NaN</td>\n",
              "      <td>NaN</td>\n",
              "    </tr>\n",
              "    <tr>\n",
              "      <th>4</th>\n",
              "      <td>5</td>\n",
              "      <td>NaN</td>\n",
              "      <td>NaN</td>\n",
              "      <td>NaN</td>\n",
              "      <td>78.0</td>\n",
              "      <td>NaN</td>\n",
              "      <td>NaN</td>\n",
              "      <td>NaN</td>\n",
              "      <td>NaN</td>\n",
              "      <td>NaN</td>\n",
              "      <td>...</td>\n",
              "      <td>5.413692</td>\n",
              "      <td>89.238236</td>\n",
              "      <td>9.11456</td>\n",
              "      <td>NaN</td>\n",
              "      <td>NaN</td>\n",
              "      <td>NaN</td>\n",
              "      <td>NaN</td>\n",
              "      <td>NaN</td>\n",
              "      <td>NaN</td>\n",
              "      <td>NaN</td>\n",
              "    </tr>\n",
              "  </tbody>\n",
              "</table>\n",
              "<p>5 rows × 26 columns</p>\n",
              "</div>\n",
              "      <button class=\"colab-df-convert\" onclick=\"convertToInteractive('df-100f2412-89cc-49b4-b4f5-d5cef4976ef6')\"\n",
              "              title=\"Convert this dataframe to an interactive table.\"\n",
              "              style=\"display:none;\">\n",
              "        \n",
              "  <svg xmlns=\"http://www.w3.org/2000/svg\" height=\"24px\"viewBox=\"0 0 24 24\"\n",
              "       width=\"24px\">\n",
              "    <path d=\"M0 0h24v24H0V0z\" fill=\"none\"/>\n",
              "    <path d=\"M18.56 5.44l.94 2.06.94-2.06 2.06-.94-2.06-.94-.94-2.06-.94 2.06-2.06.94zm-11 1L8.5 8.5l.94-2.06 2.06-.94-2.06-.94L8.5 2.5l-.94 2.06-2.06.94zm10 10l.94 2.06.94-2.06 2.06-.94-2.06-.94-.94-2.06-.94 2.06-2.06.94z\"/><path d=\"M17.41 7.96l-1.37-1.37c-.4-.4-.92-.59-1.43-.59-.52 0-1.04.2-1.43.59L10.3 9.45l-7.72 7.72c-.78.78-.78 2.05 0 2.83L4 21.41c.39.39.9.59 1.41.59.51 0 1.02-.2 1.41-.59l7.78-7.78 2.81-2.81c.8-.78.8-2.07 0-2.86zM5.41 20L4 18.59l7.72-7.72 1.47 1.35L5.41 20z\"/>\n",
              "  </svg>\n",
              "      </button>\n",
              "      \n",
              "  <style>\n",
              "    .colab-df-container {\n",
              "      display:flex;\n",
              "      flex-wrap:wrap;\n",
              "      gap: 12px;\n",
              "    }\n",
              "\n",
              "    .colab-df-convert {\n",
              "      background-color: #E8F0FE;\n",
              "      border: none;\n",
              "      border-radius: 50%;\n",
              "      cursor: pointer;\n",
              "      display: none;\n",
              "      fill: #1967D2;\n",
              "      height: 32px;\n",
              "      padding: 0 0 0 0;\n",
              "      width: 32px;\n",
              "    }\n",
              "\n",
              "    .colab-df-convert:hover {\n",
              "      background-color: #E2EBFA;\n",
              "      box-shadow: 0px 1px 2px rgba(60, 64, 67, 0.3), 0px 1px 3px 1px rgba(60, 64, 67, 0.15);\n",
              "      fill: #174EA6;\n",
              "    }\n",
              "\n",
              "    [theme=dark] .colab-df-convert {\n",
              "      background-color: #3B4455;\n",
              "      fill: #D2E3FC;\n",
              "    }\n",
              "\n",
              "    [theme=dark] .colab-df-convert:hover {\n",
              "      background-color: #434B5C;\n",
              "      box-shadow: 0px 1px 3px 1px rgba(0, 0, 0, 0.15);\n",
              "      filter: drop-shadow(0px 1px 2px rgba(0, 0, 0, 0.3));\n",
              "      fill: #FFFFFF;\n",
              "    }\n",
              "  </style>\n",
              "\n",
              "      <script>\n",
              "        const buttonEl =\n",
              "          document.querySelector('#df-100f2412-89cc-49b4-b4f5-d5cef4976ef6 button.colab-df-convert');\n",
              "        buttonEl.style.display =\n",
              "          google.colab.kernel.accessAllowed ? 'block' : 'none';\n",
              "\n",
              "        async function convertToInteractive(key) {\n",
              "          const element = document.querySelector('#df-100f2412-89cc-49b4-b4f5-d5cef4976ef6');\n",
              "          const dataTable =\n",
              "            await google.colab.kernel.invokeFunction('convertToInteractive',\n",
              "                                                     [key], {});\n",
              "          if (!dataTable) return;\n",
              "\n",
              "          const docLinkHtml = 'Like what you see? Visit the ' +\n",
              "            '<a target=\"_blank\" href=https://colab.research.google.com/notebooks/data_table.ipynb>data table notebook</a>'\n",
              "            + ' to learn more about interactive tables.';\n",
              "          element.innerHTML = '';\n",
              "          dataTable['output_type'] = 'display_data';\n",
              "          await google.colab.output.renderOutput(dataTable, element);\n",
              "          const docLink = document.createElement('div');\n",
              "          docLink.innerHTML = docLinkHtml;\n",
              "          element.appendChild(docLink);\n",
              "        }\n",
              "      </script>\n",
              "    </div>\n",
              "  </div>\n",
              "  "
            ]
          },
          "metadata": {},
          "execution_count": 47
        }
      ],
      "source": [
        "# обхединяем таблицы, в которых не надо агрегировать по ключам\n",
        "df = merge_df(data_bulk, data_gas)\n",
        "df = merge_df(df, data_wire)\n",
        "df.head()"
      ]
    },
    {
      "cell_type": "markdown",
      "metadata": {
        "id": "US84K9on2D-_"
      },
      "source": [
        "Теперь поработаем с таблицей с электродами, добавим пару новых признаков"
      ]
    },
    {
      "cell_type": "code",
      "execution_count": null,
      "metadata": {
        "id": "JCY8B0ys_BUE"
      },
      "outputs": [],
      "source": [
        "# переведем столбцы времени в datetime\n",
        "data_arc[['Начало нагрева дугой', 'Конец нагрева дугой']] = data_arc[['Начало нагрева дугой', 'Конец нагрева дугой']].apply(\n",
        "    lambda x: pd.to_datetime(x))\n",
        "# добавим колонку с полной мощностью и работой\n",
        "data_arc['full_power'] = data_arc['Активная мощность'] ** 2 + data_arc['Реактивная мощность'] ** 2\n",
        "data_arc['energy'] = data_arc['full_power'] ** 0.5 * (data_arc['Конец нагрева дугой'] - data_arc['Начало нагрева дугой']).dt.seconds\n",
        "# избавимся от столбцов с датами\n",
        "data_arc = data_arc.drop(['Начало нагрева дугой', 'Конец нагрева дугой'], axis=1)"
      ]
    },
    {
      "cell_type": "code",
      "execution_count": null,
      "metadata": {
        "colab": {
          "base_uri": "https://localhost:8080/",
          "height": 238
        },
        "id": "yV1uTRffAAE1",
        "outputId": "d9181b7d-b630-4c42-8afe-c16667e93a28",
        "scrolled": true
      },
      "outputs": [
        {
          "output_type": "execute_result",
          "data": {
            "text/plain": [
              "     Активная мощность  Реактивная мощность  full_power       energy\n",
              "key                                                                 \n",
              "1             4.878147             3.183241    7.681743  1442.377754\n",
              "2             3.052598             1.998112    4.035983   881.233565\n",
              "3             2.525882             1.599076    2.381139   525.066777\n",
              "4             3.209250             2.060298    4.108330   796.911309\n",
              "5             3.347173             2.252643    5.580203  1199.137958"
            ],
            "text/html": [
              "\n",
              "  <div id=\"df-90670309-9a2b-4b69-a8de-eeaa86311496\">\n",
              "    <div class=\"colab-df-container\">\n",
              "      <div>\n",
              "<style scoped>\n",
              "    .dataframe tbody tr th:only-of-type {\n",
              "        vertical-align: middle;\n",
              "    }\n",
              "\n",
              "    .dataframe tbody tr th {\n",
              "        vertical-align: top;\n",
              "    }\n",
              "\n",
              "    .dataframe thead th {\n",
              "        text-align: right;\n",
              "    }\n",
              "</style>\n",
              "<table border=\"1\" class=\"dataframe\">\n",
              "  <thead>\n",
              "    <tr style=\"text-align: right;\">\n",
              "      <th></th>\n",
              "      <th>Активная мощность</th>\n",
              "      <th>Реактивная мощность</th>\n",
              "      <th>full_power</th>\n",
              "      <th>energy</th>\n",
              "    </tr>\n",
              "    <tr>\n",
              "      <th>key</th>\n",
              "      <th></th>\n",
              "      <th></th>\n",
              "      <th></th>\n",
              "      <th></th>\n",
              "    </tr>\n",
              "  </thead>\n",
              "  <tbody>\n",
              "    <tr>\n",
              "      <th>1</th>\n",
              "      <td>4.878147</td>\n",
              "      <td>3.183241</td>\n",
              "      <td>7.681743</td>\n",
              "      <td>1442.377754</td>\n",
              "    </tr>\n",
              "    <tr>\n",
              "      <th>2</th>\n",
              "      <td>3.052598</td>\n",
              "      <td>1.998112</td>\n",
              "      <td>4.035983</td>\n",
              "      <td>881.233565</td>\n",
              "    </tr>\n",
              "    <tr>\n",
              "      <th>3</th>\n",
              "      <td>2.525882</td>\n",
              "      <td>1.599076</td>\n",
              "      <td>2.381139</td>\n",
              "      <td>525.066777</td>\n",
              "    </tr>\n",
              "    <tr>\n",
              "      <th>4</th>\n",
              "      <td>3.209250</td>\n",
              "      <td>2.060298</td>\n",
              "      <td>4.108330</td>\n",
              "      <td>796.911309</td>\n",
              "    </tr>\n",
              "    <tr>\n",
              "      <th>5</th>\n",
              "      <td>3.347173</td>\n",
              "      <td>2.252643</td>\n",
              "      <td>5.580203</td>\n",
              "      <td>1199.137958</td>\n",
              "    </tr>\n",
              "  </tbody>\n",
              "</table>\n",
              "</div>\n",
              "      <button class=\"colab-df-convert\" onclick=\"convertToInteractive('df-90670309-9a2b-4b69-a8de-eeaa86311496')\"\n",
              "              title=\"Convert this dataframe to an interactive table.\"\n",
              "              style=\"display:none;\">\n",
              "        \n",
              "  <svg xmlns=\"http://www.w3.org/2000/svg\" height=\"24px\"viewBox=\"0 0 24 24\"\n",
              "       width=\"24px\">\n",
              "    <path d=\"M0 0h24v24H0V0z\" fill=\"none\"/>\n",
              "    <path d=\"M18.56 5.44l.94 2.06.94-2.06 2.06-.94-2.06-.94-.94-2.06-.94 2.06-2.06.94zm-11 1L8.5 8.5l.94-2.06 2.06-.94-2.06-.94L8.5 2.5l-.94 2.06-2.06.94zm10 10l.94 2.06.94-2.06 2.06-.94-2.06-.94-.94-2.06-.94 2.06-2.06.94z\"/><path d=\"M17.41 7.96l-1.37-1.37c-.4-.4-.92-.59-1.43-.59-.52 0-1.04.2-1.43.59L10.3 9.45l-7.72 7.72c-.78.78-.78 2.05 0 2.83L4 21.41c.39.39.9.59 1.41.59.51 0 1.02-.2 1.41-.59l7.78-7.78 2.81-2.81c.8-.78.8-2.07 0-2.86zM5.41 20L4 18.59l7.72-7.72 1.47 1.35L5.41 20z\"/>\n",
              "  </svg>\n",
              "      </button>\n",
              "      \n",
              "  <style>\n",
              "    .colab-df-container {\n",
              "      display:flex;\n",
              "      flex-wrap:wrap;\n",
              "      gap: 12px;\n",
              "    }\n",
              "\n",
              "    .colab-df-convert {\n",
              "      background-color: #E8F0FE;\n",
              "      border: none;\n",
              "      border-radius: 50%;\n",
              "      cursor: pointer;\n",
              "      display: none;\n",
              "      fill: #1967D2;\n",
              "      height: 32px;\n",
              "      padding: 0 0 0 0;\n",
              "      width: 32px;\n",
              "    }\n",
              "\n",
              "    .colab-df-convert:hover {\n",
              "      background-color: #E2EBFA;\n",
              "      box-shadow: 0px 1px 2px rgba(60, 64, 67, 0.3), 0px 1px 3px 1px rgba(60, 64, 67, 0.15);\n",
              "      fill: #174EA6;\n",
              "    }\n",
              "\n",
              "    [theme=dark] .colab-df-convert {\n",
              "      background-color: #3B4455;\n",
              "      fill: #D2E3FC;\n",
              "    }\n",
              "\n",
              "    [theme=dark] .colab-df-convert:hover {\n",
              "      background-color: #434B5C;\n",
              "      box-shadow: 0px 1px 3px 1px rgba(0, 0, 0, 0.15);\n",
              "      filter: drop-shadow(0px 1px 2px rgba(0, 0, 0, 0.3));\n",
              "      fill: #FFFFFF;\n",
              "    }\n",
              "  </style>\n",
              "\n",
              "      <script>\n",
              "        const buttonEl =\n",
              "          document.querySelector('#df-90670309-9a2b-4b69-a8de-eeaa86311496 button.colab-df-convert');\n",
              "        buttonEl.style.display =\n",
              "          google.colab.kernel.accessAllowed ? 'block' : 'none';\n",
              "\n",
              "        async function convertToInteractive(key) {\n",
              "          const element = document.querySelector('#df-90670309-9a2b-4b69-a8de-eeaa86311496');\n",
              "          const dataTable =\n",
              "            await google.colab.kernel.invokeFunction('convertToInteractive',\n",
              "                                                     [key], {});\n",
              "          if (!dataTable) return;\n",
              "\n",
              "          const docLinkHtml = 'Like what you see? Visit the ' +\n",
              "            '<a target=\"_blank\" href=https://colab.research.google.com/notebooks/data_table.ipynb>data table notebook</a>'\n",
              "            + ' to learn more about interactive tables.';\n",
              "          element.innerHTML = '';\n",
              "          dataTable['output_type'] = 'display_data';\n",
              "          await google.colab.output.renderOutput(dataTable, element);\n",
              "          const docLink = document.createElement('div');\n",
              "          docLink.innerHTML = docLinkHtml;\n",
              "          element.appendChild(docLink);\n",
              "        }\n",
              "      </script>\n",
              "    </div>\n",
              "  </div>\n",
              "  "
            ]
          },
          "metadata": {},
          "execution_count": 49
        }
      ],
      "source": [
        "# поскольку работа - величина аддитивная, просуммируем по ключам\n",
        "data_arc_sum = data_arc.groupby('key').sum()\n",
        "\n",
        "data_arc_sum.head()"
      ]
    },
    {
      "cell_type": "markdown",
      "metadata": {
        "id": "IeEhX3l2Cuhm"
      },
      "source": [
        "<div class=\"alert alert-success\">\n",
        "<b>👍 Успех:</b> Данные правильно агрегированы. Признаки хорошо сгенерированы\n",
        "</div>"
      ]
    },
    {
      "cell_type": "markdown",
      "metadata": {
        "id": "afTLR7Qu3O-u"
      },
      "source": [
        "### Target preprocessing"
      ]
    },
    {
      "cell_type": "code",
      "execution_count": null,
      "metadata": {
        "id": "XjPH69qa-WZz"
      },
      "outputs": [],
      "source": [
        "# найдем ключи, у которых нет первого и последнего замера температуры\n",
        "bad_keys = data_temp.dropna().groupby('key').last()[~(data_temp.dropna().groupby('key').last()['Время замера'] \n",
        "                                           == data_temp.groupby('key').last()['Время замера'])].index.values\n",
        "# удаляем ключи\n",
        "data_temp = data_temp[data_temp['key'].apply(lambda x: x not in bad_keys)]\n",
        "# найдем ключи с низкой температурой и удалим\n",
        "high_temp = data_temp[data_temp['Температура'] < 1500]['key'].values\n",
        "data_temp = data_temp[data_temp['key'].apply(lambda x: x not in high_temp)]\n",
        "\n",
        "# найдем первые и последние замеры для каждого ключа и переименуем колонки\n",
        "data_temp = data_temp.groupby('key').agg(['first', 'last']).reset_index()\n",
        "data_temp.columns = data_temp.columns.droplevel(0)\n",
        "data_temp.columns = ['key', 'first_time', 'last_time', 'first_temp', 'last_temp']\n",
        "data_temp = data_temp.drop(['first_time', 'last_time'], axis=1)"
      ]
    },
    {
      "cell_type": "markdown",
      "metadata": {
        "id": "3Jdz62_OCuhm"
      },
      "source": [
        "<div class=\"alert alert-success\">\n",
        "<b>👍 Успех:</b> data_temp хорошо обработан\n",
        "</div>"
      ]
    },
    {
      "cell_type": "code",
      "execution_count": null,
      "metadata": {
        "colab": {
          "base_uri": "https://localhost:8080/",
          "height": 317
        },
        "id": "xOtj1_3BBs4S",
        "outputId": "bef5479d-db68-4c14-f0d6-597bd52db80d"
      },
      "outputs": [
        {
          "output_type": "execute_result",
          "data": {
            "text/plain": [
              "   key  Bulk 1  Bulk 2  Bulk 3  Bulk 4  Bulk 5  Bulk 6  Bulk 7  Bulk 8  \\\n",
              "0    1     0.0     0.0     0.0    43.0     0.0     0.0     0.0     0.0   \n",
              "1    2     0.0     0.0     0.0    73.0     0.0     0.0     0.0     0.0   \n",
              "2    3     0.0     0.0     0.0    34.0     0.0     0.0     0.0     0.0   \n",
              "3    4     0.0     0.0     0.0    81.0     0.0     0.0     0.0     0.0   \n",
              "4    5     0.0     0.0     0.0    78.0     0.0     0.0     0.0     0.0   \n",
              "\n",
              "   Bulk 9  ...  Wire 6  Wire 7  Wire 8  Wire 9  Активная мощность  \\\n",
              "0     0.0  ...     0.0     0.0     0.0     0.0           4.878147   \n",
              "1     0.0  ...     0.0     0.0     0.0     0.0           3.052598   \n",
              "2     0.0  ...     0.0     0.0     0.0     0.0           2.525882   \n",
              "3     0.0  ...     0.0     0.0     0.0     0.0           3.209250   \n",
              "4     0.0  ...     0.0     0.0     0.0     0.0           3.347173   \n",
              "\n",
              "   Реактивная мощность  full_power       energy  first_temp  last_temp  \n",
              "0             3.183241    7.681743  1442.377754      1571.0     1613.0  \n",
              "1             1.998112    4.035983   881.233565      1581.0     1602.0  \n",
              "2             1.599076    2.381139   525.066777      1596.0     1599.0  \n",
              "3             2.060298    4.108330   796.911309      1601.0     1625.0  \n",
              "4             2.252643    5.580203  1199.137958      1576.0     1602.0  \n",
              "\n",
              "[5 rows x 32 columns]"
            ],
            "text/html": [
              "\n",
              "  <div id=\"df-3174a23e-0b5e-4ee8-93c2-644d3179beba\">\n",
              "    <div class=\"colab-df-container\">\n",
              "      <div>\n",
              "<style scoped>\n",
              "    .dataframe tbody tr th:only-of-type {\n",
              "        vertical-align: middle;\n",
              "    }\n",
              "\n",
              "    .dataframe tbody tr th {\n",
              "        vertical-align: top;\n",
              "    }\n",
              "\n",
              "    .dataframe thead th {\n",
              "        text-align: right;\n",
              "    }\n",
              "</style>\n",
              "<table border=\"1\" class=\"dataframe\">\n",
              "  <thead>\n",
              "    <tr style=\"text-align: right;\">\n",
              "      <th></th>\n",
              "      <th>key</th>\n",
              "      <th>Bulk 1</th>\n",
              "      <th>Bulk 2</th>\n",
              "      <th>Bulk 3</th>\n",
              "      <th>Bulk 4</th>\n",
              "      <th>Bulk 5</th>\n",
              "      <th>Bulk 6</th>\n",
              "      <th>Bulk 7</th>\n",
              "      <th>Bulk 8</th>\n",
              "      <th>Bulk 9</th>\n",
              "      <th>...</th>\n",
              "      <th>Wire 6</th>\n",
              "      <th>Wire 7</th>\n",
              "      <th>Wire 8</th>\n",
              "      <th>Wire 9</th>\n",
              "      <th>Активная мощность</th>\n",
              "      <th>Реактивная мощность</th>\n",
              "      <th>full_power</th>\n",
              "      <th>energy</th>\n",
              "      <th>first_temp</th>\n",
              "      <th>last_temp</th>\n",
              "    </tr>\n",
              "  </thead>\n",
              "  <tbody>\n",
              "    <tr>\n",
              "      <th>0</th>\n",
              "      <td>1</td>\n",
              "      <td>0.0</td>\n",
              "      <td>0.0</td>\n",
              "      <td>0.0</td>\n",
              "      <td>43.0</td>\n",
              "      <td>0.0</td>\n",
              "      <td>0.0</td>\n",
              "      <td>0.0</td>\n",
              "      <td>0.0</td>\n",
              "      <td>0.0</td>\n",
              "      <td>...</td>\n",
              "      <td>0.0</td>\n",
              "      <td>0.0</td>\n",
              "      <td>0.0</td>\n",
              "      <td>0.0</td>\n",
              "      <td>4.878147</td>\n",
              "      <td>3.183241</td>\n",
              "      <td>7.681743</td>\n",
              "      <td>1442.377754</td>\n",
              "      <td>1571.0</td>\n",
              "      <td>1613.0</td>\n",
              "    </tr>\n",
              "    <tr>\n",
              "      <th>1</th>\n",
              "      <td>2</td>\n",
              "      <td>0.0</td>\n",
              "      <td>0.0</td>\n",
              "      <td>0.0</td>\n",
              "      <td>73.0</td>\n",
              "      <td>0.0</td>\n",
              "      <td>0.0</td>\n",
              "      <td>0.0</td>\n",
              "      <td>0.0</td>\n",
              "      <td>0.0</td>\n",
              "      <td>...</td>\n",
              "      <td>0.0</td>\n",
              "      <td>0.0</td>\n",
              "      <td>0.0</td>\n",
              "      <td>0.0</td>\n",
              "      <td>3.052598</td>\n",
              "      <td>1.998112</td>\n",
              "      <td>4.035983</td>\n",
              "      <td>881.233565</td>\n",
              "      <td>1581.0</td>\n",
              "      <td>1602.0</td>\n",
              "    </tr>\n",
              "    <tr>\n",
              "      <th>2</th>\n",
              "      <td>3</td>\n",
              "      <td>0.0</td>\n",
              "      <td>0.0</td>\n",
              "      <td>0.0</td>\n",
              "      <td>34.0</td>\n",
              "      <td>0.0</td>\n",
              "      <td>0.0</td>\n",
              "      <td>0.0</td>\n",
              "      <td>0.0</td>\n",
              "      <td>0.0</td>\n",
              "      <td>...</td>\n",
              "      <td>0.0</td>\n",
              "      <td>0.0</td>\n",
              "      <td>0.0</td>\n",
              "      <td>0.0</td>\n",
              "      <td>2.525882</td>\n",
              "      <td>1.599076</td>\n",
              "      <td>2.381139</td>\n",
              "      <td>525.066777</td>\n",
              "      <td>1596.0</td>\n",
              "      <td>1599.0</td>\n",
              "    </tr>\n",
              "    <tr>\n",
              "      <th>3</th>\n",
              "      <td>4</td>\n",
              "      <td>0.0</td>\n",
              "      <td>0.0</td>\n",
              "      <td>0.0</td>\n",
              "      <td>81.0</td>\n",
              "      <td>0.0</td>\n",
              "      <td>0.0</td>\n",
              "      <td>0.0</td>\n",
              "      <td>0.0</td>\n",
              "      <td>0.0</td>\n",
              "      <td>...</td>\n",
              "      <td>0.0</td>\n",
              "      <td>0.0</td>\n",
              "      <td>0.0</td>\n",
              "      <td>0.0</td>\n",
              "      <td>3.209250</td>\n",
              "      <td>2.060298</td>\n",
              "      <td>4.108330</td>\n",
              "      <td>796.911309</td>\n",
              "      <td>1601.0</td>\n",
              "      <td>1625.0</td>\n",
              "    </tr>\n",
              "    <tr>\n",
              "      <th>4</th>\n",
              "      <td>5</td>\n",
              "      <td>0.0</td>\n",
              "      <td>0.0</td>\n",
              "      <td>0.0</td>\n",
              "      <td>78.0</td>\n",
              "      <td>0.0</td>\n",
              "      <td>0.0</td>\n",
              "      <td>0.0</td>\n",
              "      <td>0.0</td>\n",
              "      <td>0.0</td>\n",
              "      <td>...</td>\n",
              "      <td>0.0</td>\n",
              "      <td>0.0</td>\n",
              "      <td>0.0</td>\n",
              "      <td>0.0</td>\n",
              "      <td>3.347173</td>\n",
              "      <td>2.252643</td>\n",
              "      <td>5.580203</td>\n",
              "      <td>1199.137958</td>\n",
              "      <td>1576.0</td>\n",
              "      <td>1602.0</td>\n",
              "    </tr>\n",
              "  </tbody>\n",
              "</table>\n",
              "<p>5 rows × 32 columns</p>\n",
              "</div>\n",
              "      <button class=\"colab-df-convert\" onclick=\"convertToInteractive('df-3174a23e-0b5e-4ee8-93c2-644d3179beba')\"\n",
              "              title=\"Convert this dataframe to an interactive table.\"\n",
              "              style=\"display:none;\">\n",
              "        \n",
              "  <svg xmlns=\"http://www.w3.org/2000/svg\" height=\"24px\"viewBox=\"0 0 24 24\"\n",
              "       width=\"24px\">\n",
              "    <path d=\"M0 0h24v24H0V0z\" fill=\"none\"/>\n",
              "    <path d=\"M18.56 5.44l.94 2.06.94-2.06 2.06-.94-2.06-.94-.94-2.06-.94 2.06-2.06.94zm-11 1L8.5 8.5l.94-2.06 2.06-.94-2.06-.94L8.5 2.5l-.94 2.06-2.06.94zm10 10l.94 2.06.94-2.06 2.06-.94-2.06-.94-.94-2.06-.94 2.06-2.06.94z\"/><path d=\"M17.41 7.96l-1.37-1.37c-.4-.4-.92-.59-1.43-.59-.52 0-1.04.2-1.43.59L10.3 9.45l-7.72 7.72c-.78.78-.78 2.05 0 2.83L4 21.41c.39.39.9.59 1.41.59.51 0 1.02-.2 1.41-.59l7.78-7.78 2.81-2.81c.8-.78.8-2.07 0-2.86zM5.41 20L4 18.59l7.72-7.72 1.47 1.35L5.41 20z\"/>\n",
              "  </svg>\n",
              "      </button>\n",
              "      \n",
              "  <style>\n",
              "    .colab-df-container {\n",
              "      display:flex;\n",
              "      flex-wrap:wrap;\n",
              "      gap: 12px;\n",
              "    }\n",
              "\n",
              "    .colab-df-convert {\n",
              "      background-color: #E8F0FE;\n",
              "      border: none;\n",
              "      border-radius: 50%;\n",
              "      cursor: pointer;\n",
              "      display: none;\n",
              "      fill: #1967D2;\n",
              "      height: 32px;\n",
              "      padding: 0 0 0 0;\n",
              "      width: 32px;\n",
              "    }\n",
              "\n",
              "    .colab-df-convert:hover {\n",
              "      background-color: #E2EBFA;\n",
              "      box-shadow: 0px 1px 2px rgba(60, 64, 67, 0.3), 0px 1px 3px 1px rgba(60, 64, 67, 0.15);\n",
              "      fill: #174EA6;\n",
              "    }\n",
              "\n",
              "    [theme=dark] .colab-df-convert {\n",
              "      background-color: #3B4455;\n",
              "      fill: #D2E3FC;\n",
              "    }\n",
              "\n",
              "    [theme=dark] .colab-df-convert:hover {\n",
              "      background-color: #434B5C;\n",
              "      box-shadow: 0px 1px 3px 1px rgba(0, 0, 0, 0.15);\n",
              "      filter: drop-shadow(0px 1px 2px rgba(0, 0, 0, 0.3));\n",
              "      fill: #FFFFFF;\n",
              "    }\n",
              "  </style>\n",
              "\n",
              "      <script>\n",
              "        const buttonEl =\n",
              "          document.querySelector('#df-3174a23e-0b5e-4ee8-93c2-644d3179beba button.colab-df-convert');\n",
              "        buttonEl.style.display =\n",
              "          google.colab.kernel.accessAllowed ? 'block' : 'none';\n",
              "\n",
              "        async function convertToInteractive(key) {\n",
              "          const element = document.querySelector('#df-3174a23e-0b5e-4ee8-93c2-644d3179beba');\n",
              "          const dataTable =\n",
              "            await google.colab.kernel.invokeFunction('convertToInteractive',\n",
              "                                                     [key], {});\n",
              "          if (!dataTable) return;\n",
              "\n",
              "          const docLinkHtml = 'Like what you see? Visit the ' +\n",
              "            '<a target=\"_blank\" href=https://colab.research.google.com/notebooks/data_table.ipynb>data table notebook</a>'\n",
              "            + ' to learn more about interactive tables.';\n",
              "          element.innerHTML = '';\n",
              "          dataTable['output_type'] = 'display_data';\n",
              "          await google.colab.output.renderOutput(dataTable, element);\n",
              "          const docLink = document.createElement('div');\n",
              "          docLink.innerHTML = docLinkHtml;\n",
              "          element.appendChild(docLink);\n",
              "        }\n",
              "      </script>\n",
              "    </div>\n",
              "  </div>\n",
              "  "
            ]
          },
          "metadata": {},
          "execution_count": 51
        }
      ],
      "source": [
        "# собираем финальный датафрейм\n",
        "df = merge_df(df, data_arc_sum)\n",
        "df = merge_df(df, data_temp)\n",
        "df = df.fillna(0)\n",
        "df.head()"
      ]
    },
    {
      "cell_type": "markdown",
      "metadata": {
        "id": "2-XTdRMRCuhm"
      },
      "source": [
        "<div class=\"alert alert-success\">\n",
        "<b>👍 Успех:</b> Датасеты правильно объеденены. \n",
        "</div>"
      ]
    },
    {
      "cell_type": "code",
      "execution_count": null,
      "metadata": {
        "id": "2SUjFqiX8BOU"
      },
      "outputs": [],
      "source": [
        "# features\n",
        "X = df.drop(['last_temp', 'key'], axis=1)\n",
        "# target\n",
        "y = df['last_temp']\n",
        "\n",
        "X_train, X_test, y_train, y_test = train_test_split(X, y, test_size=0.25, random_state=RANDOM_STATE)"
      ]
    },
    {
      "cell_type": "markdown",
      "metadata": {
        "id": "Kdswnd1jCuhm"
      },
      "source": [
        "<div class=\"alert alert-success\">\n",
        "<b>👍 Успех:</b> Датасет правильно разделен\n",
        "</div>"
      ]
    },
    {
      "cell_type": "markdown",
      "metadata": {
        "id": "MAErvKEZCuhm"
      },
      "source": [
        "<div class=\"alert alert-success\">\n",
        "<b>👍 Успех:</b> key удален\n",
        "</div>"
      ]
    },
    {
      "cell_type": "markdown",
      "metadata": {
        "id": "xnH3O2qAEE7i"
      },
      "source": [
        "## Modeling"
      ]
    },
    {
      "cell_type": "markdown",
      "metadata": {
        "id": "XkfXjEyFCuhm"
      },
      "source": [
        "<div class=\"alert alert-warning\">\n",
        "<b>🤔 Рекомендация:</b>  Было бы хорошо проверить признаки на мультиколлинеарность. Хотя для lasso и Ridge признаки с высокой корреляцией удалять не обязательно\n",
        "</div>"
      ]
    },
    {
      "cell_type": "markdown",
      "metadata": {
        "id": "dBHTz2h-49E0"
      },
      "source": [
        "### Scaling"
      ]
    },
    {
      "cell_type": "code",
      "execution_count": null,
      "metadata": {
        "id": "ZkVAlgOY5Aan"
      },
      "outputs": [],
      "source": [
        "scaler = StandardScaler()\n",
        "X_train_sc = scaler.fit_transform(X_train)\n",
        "X_test_sc = scaler.transform(X_test)"
      ]
    },
    {
      "cell_type": "markdown",
      "metadata": {
        "id": "9lXDcsO-Cuhn"
      },
      "source": [
        "<div class=\"alert alert-success\">\n",
        "<b>👍 Успех:</b> Масштабирование правильно применено\n",
        "</div>"
      ]
    },
    {
      "cell_type": "markdown",
      "metadata": {
        "id": "W8NSuvgzEI6q"
      },
      "source": [
        "### Lasso"
      ]
    },
    {
      "cell_type": "code",
      "execution_count": null,
      "metadata": {
        "colab": {
          "base_uri": "https://localhost:8080/"
        },
        "id": "aQ-Bi7_q8egX",
        "outputId": "b62a6e47-10f2-4ad0-be69-584211496c7a"
      },
      "outputs": [
        {
          "output_type": "execute_result",
          "data": {
            "text/plain": [
              "-6.475652757360457"
            ]
          },
          "metadata": {},
          "execution_count": 54
        }
      ],
      "source": [
        "model_lasso = Lasso()\n",
        "cross_val_score(model_lasso, X_train_sc, y_train, cv=3, scoring='neg_mean_absolute_error').mean()"
      ]
    },
    {
      "cell_type": "markdown",
      "metadata": {
        "id": "VAiSCAhJCuhn"
      },
      "source": [
        "<div class=\"alert alert-warning\">\n",
        "<b>🤔 Рекомендация:</b> Метрики лучше выводить с заданной точностью. Например, 2 знака после запятой\n",
        "</div>"
      ]
    },
    {
      "cell_type": "code",
      "execution_count": null,
      "metadata": {
        "colab": {
          "base_uri": "https://localhost:8080/",
          "height": 269
        },
        "id": "A8H8mRuaEjfW",
        "outputId": "6533d25c-cf46-4442-f424-9c977c9c2d44"
      },
      "outputs": [
        {
          "output_type": "display_data",
          "data": {
            "text/plain": [
              "<Figure size 432x288 with 1 Axes>"
            ],
            "image/png": "[encoded data removed]"
          },
          "metadata": {
            "needs_background": "light"
          }
        }
      ],
      "source": [
        "# подбор гиперпараметров\n",
        "parametrs = {'alpha': [0.005, 0.01, 0.1, 1, 10]}\n",
        "gs = GridSearchCV(Lasso(), parametrs, cv=3, scoring='neg_mean_absolute_error')\n",
        "gs.fit(X_train_sc, y_train)\n",
        "plt.plot(parametrs['alpha'], -1 * gs.cv_results_['mean_test_score'])\n",
        "plt.xscale('log')"
      ]
    },
    {
      "cell_type": "code",
      "execution_count": null,
      "metadata": {
        "colab": {
          "base_uri": "https://localhost:8080/"
        },
        "id": "V94SODoJFLKN",
        "outputId": "9f45e283-e8c0-4969-ddb8-72d62335c1ee"
      },
      "outputs": [
        {
          "output_type": "execute_result",
          "data": {
            "text/plain": [
              "-6.0864036864848075"
            ]
          },
          "metadata": {},
          "execution_count": 56
        }
      ],
      "source": [
        "# лучшие параметры\n",
        "model_lasso = Lasso(alpha=0.1, max_iter=2000)\n",
        "cv_lasso = cross_val_score(model_lasso, X_train_sc, y_train, cv=3, scoring='neg_mean_absolute_error').mean()\n",
        "cv_lasso"
      ]
    },
    {
      "cell_type": "markdown",
      "metadata": {
        "id": "G8X4MoZACuhn"
      },
      "source": [
        "<div class=\"alert alert-success\">\n",
        "<b>👍 Успех:</b> Модель хорошо обучена. Параметры хорошо подобраны.\n",
        "</div>"
      ]
    },
    {
      "cell_type": "markdown",
      "metadata": {
        "id": "crDmem7lHUAr"
      },
      "source": [
        "### Ridge"
      ]
    },
    {
      "cell_type": "code",
      "execution_count": null,
      "metadata": {
        "colab": {
          "base_uri": "https://localhost:8080/"
        },
        "id": "ieJmVWjBHoog",
        "outputId": "b2f18cde-3307-486d-f531-6cc7442f4ee9"
      },
      "outputs": [
        {
          "output_type": "execute_result",
          "data": {
            "text/plain": [
              "-6.128354055346292"
            ]
          },
          "metadata": {},
          "execution_count": 57
        }
      ],
      "source": [
        "model_ridge = Ridge()\n",
        "cross_val_score(model_ridge, X_train_sc, y_train, cv=3, scoring='neg_mean_absolute_error').mean()"
      ]
    },
    {
      "cell_type": "code",
      "execution_count": null,
      "metadata": {
        "colab": {
          "base_uri": "https://localhost:8080/",
          "height": 269
        },
        "id": "31HC2PUqHuJd",
        "outputId": "f93a4156-eabb-4f31-e8f3-5c49a89354fd"
      },
      "outputs": [
        {
          "output_type": "display_data",
          "data": {
            "text/plain": [
              "<Figure size 432x288 with 1 Axes>"
            ],
            "image/png": "[encoded data removed]"
          },
          "metadata": {
            "needs_background": "light"
          }
        }
      ],
      "source": [
        "# подбор гиперпараметров\n",
        "parametrs = {'alpha': [0.01, 0.1, 1, 10, 100]}\n",
        "gs = GridSearchCV(Ridge(), parametrs, cv=3, scoring='neg_mean_absolute_error')\n",
        "gs.fit(X_train_sc, y_train)\n",
        "plt.plot(parametrs['alpha'], -1 * gs.cv_results_['mean_test_score'])\n",
        "plt.xscale('log')"
      ]
    },
    {
      "cell_type": "code",
      "execution_count": null,
      "metadata": {
        "colab": {
          "base_uri": "https://localhost:8080/"
        },
        "id": "UTDLZ-g4H9Ie",
        "outputId": "e4f483f3-5e45-4e82-d745-6c6a568e041d"
      },
      "outputs": [
        {
          "output_type": "execute_result",
          "data": {
            "text/plain": [
              "-6.110223172220561"
            ]
          },
          "metadata": {},
          "execution_count": 59
        }
      ],
      "source": [
        "# лучшие параметры\n",
        "model_ridge = Ridge(alpha=10)\n",
        "cv_ridge = cross_val_score(model_ridge, X_train_sc, y_train, cv=3, scoring='neg_mean_absolute_error').mean()\n",
        "cv_ridge"
      ]
    },
    {
      "cell_type": "markdown",
      "metadata": {
        "id": "AjNvWTFsIDLi"
      },
      "source": [
        "### RandomForest"
      ]
    },
    {
      "cell_type": "code",
      "execution_count": null,
      "metadata": {
        "colab": {
          "base_uri": "https://localhost:8080/"
        },
        "id": "oana0N33JhTR",
        "outputId": "5e4f5819-07d4-4a07-e736-fa4a92db92fd"
      },
      "outputs": [
        {
          "output_type": "execute_result",
          "data": {
            "text/plain": [
              "-6.151543316121628"
            ]
          },
          "metadata": {},
          "execution_count": 60
        }
      ],
      "source": [
        "model_rf = RandomForestRegressor()\n",
        "cross_val_score(model_rf, X_train, y_train, cv=3, scoring='neg_mean_absolute_error').mean()"
      ]
    },
    {
      "cell_type": "code",
      "execution_count": null,
      "metadata": {
        "colab": {
          "base_uri": "https://localhost:8080/"
        },
        "id": "yCTEN_aPJn3R",
        "outputId": "cd908122-caac-49d3-f3ae-e0b7d401d2ac"
      },
      "outputs": [
        {
          "output_type": "execute_result",
          "data": {
            "text/plain": [
              "GridSearchCV(cv=3, estimator=RandomForestRegressor(),\n",
              "             param_grid={'min_samples_split': [2, 4, 6],\n",
              "                         'n_estimators': [10, 50, 100]},\n",
              "             scoring='neg_mean_absolute_error')"
            ]
          },
          "metadata": {},
          "execution_count": 61
        }
      ],
      "source": [
        "# подбор параметров\n",
        "params = {'n_estimators': [10, 50, 100], \n",
        "          #'criterion': ['squared_error', 'absolute_error', 'poisson'],\n",
        "          'min_samples_split': [2, 4, 6]}\n",
        "\n",
        "gs = GridSearchCV(RandomForestRegressor(), params, cv=3, scoring='neg_mean_absolute_error')\n",
        "gs.fit(X_train, y_train)"
      ]
    },
    {
      "cell_type": "code",
      "execution_count": null,
      "metadata": {
        "colab": {
          "base_uri": "https://localhost:8080/"
        },
        "id": "Uv1jTyojL6Js",
        "outputId": "19ca000a-7981-4144-d3d2-de167417fedc"
      },
      "outputs": [
        {
          "output_type": "execute_result",
          "data": {
            "text/plain": [
              "-6.106347309337788"
            ]
          },
          "metadata": {},
          "execution_count": 62
        }
      ],
      "source": [
        "# лучшие параметры\n",
        "model_rf = gs.best_estimator_\n",
        "cv_rf = gs.best_score\n",
        "cv_rf"
      ]
    },
    {
      "cell_type": "markdown",
      "metadata": {
        "id": "LePgmIa0Cuho"
      },
      "source": [
        "<div class=\"alert alert-warning\">\n",
        "<b>🤔 Рекомендация:</b> Можно не обучать модель с лучшими параметрами еще раз, а взять best_score_ из GridSearchCV\n",
        "</div>"
      ]
    },
    {
      "cell_type": "markdown",
      "source": [
        "<font color='Salmon'><b>Комментарий студента</b></font>\n",
        "\n",
        "Спасибо, поправила"
      ],
      "metadata": {
        "id": "43ZEOFJ8Go5b"
      }
    },
    {
      "cell_type": "markdown",
      "metadata": {
        "id": "QbVS5SBqMZrN"
      },
      "source": [
        "### Catboost"
      ]
    },
    {
      "cell_type": "code",
      "execution_count": null,
      "metadata": {
        "colab": {
          "base_uri": "https://localhost:8080/"
        },
        "id": "jYK-bN-oQ90S",
        "outputId": "c7c3885c-2daf-4103-c444-a47d5074146b"
      },
      "outputs": [
        {
          "output_type": "stream",
          "name": "stdout",
          "text": [
            "0:\tlearn: 8.1228476\ttotal: 51.9ms\tremaining: 51.9s\n",
            "250:\tlearn: 4.4555219\ttotal: 1.05s\tremaining: 3.13s\n",
            "500:\tlearn: 3.5458184\ttotal: 2.02s\tremaining: 2.01s\n",
            "750:\tlearn: 3.0631014\ttotal: 2.99s\tremaining: 991ms\n",
            "999:\tlearn: 2.7334166\ttotal: 3.94s\tremaining: 0us\n",
            "0:\tlearn: 7.9645773\ttotal: 5.06ms\tremaining: 5.05s\n",
            "250:\tlearn: 4.5246360\ttotal: 970ms\tremaining: 2.89s\n",
            "500:\tlearn: 3.7578477\ttotal: 1.93s\tremaining: 1.92s\n",
            "750:\tlearn: 3.3361472\ttotal: 2.9s\tremaining: 962ms\n",
            "999:\tlearn: 3.0322241\ttotal: 3.87s\tremaining: 0us\n",
            "0:\tlearn: 7.8473398\ttotal: 4.66ms\tremaining: 4.66s\n",
            "250:\tlearn: 4.4791755\ttotal: 1.01s\tremaining: 3.01s\n",
            "500:\tlearn: 3.6399874\ttotal: 1.99s\tremaining: 1.98s\n",
            "750:\tlearn: 3.1656969\ttotal: 2.96s\tremaining: 982ms\n",
            "999:\tlearn: 2.8760754\ttotal: 3.94s\tremaining: 0us\n"
          ]
        },
        {
          "output_type": "execute_result",
          "data": {
            "text/plain": [
              "array([-5.91839432, -5.72666458, -5.9077411 ])"
            ]
          },
          "metadata": {},
          "execution_count": 63
        }
      ],
      "source": [
        "model_cb = cb.CatBoostRegressor(loss_function='MAE', verbose=250)\n",
        "cross_val_score(model_cb, X_train, y_train, cv=3, scoring='neg_mean_absolute_error')"
      ]
    },
    {
      "cell_type": "code",
      "execution_count": null,
      "metadata": {
        "colab": {
          "base_uri": "https://localhost:8080/"
        },
        "id": "DTqeX2rjRf1t",
        "outputId": "7d709505-0972-4951-9edb-b26bc69729ed"
      },
      "outputs": [
        {
          "output_type": "execute_result",
          "data": {
            "text/plain": [
              "GridSearchCV(cv=3,\n",
              "             estimator=<catboost.core.CatBoostRegressor object at 0x7f4fce2ec390>,\n",
              "             param_grid={'depth': [2, 4, 6], 'l2_leaf_reg': [1, 3, 5, 7, 9],\n",
              "                         'learning_rate': [0.03, 0.01]},\n",
              "             scoring='neg_mean_absolute_error')"
            ]
          },
          "metadata": {},
          "execution_count": 64
        }
      ],
      "source": [
        "# подбор параметров\n",
        "params = {'learning_rate': [0.03, 0.01],\n",
        "          'depth': [2, 4, 6],\n",
        "          'l2_leaf_reg': [1, 3, 5, 7, 9]}\n",
        "\n",
        "model_cb = cb.CatBoostRegressor(verbose=False)\n",
        "gs = GridSearchCV(model_cb, params, cv=3, scoring='neg_mean_absolute_error')\n",
        "gs.fit(X_train, y_train)"
      ]
    },
    {
      "cell_type": "markdown",
      "metadata": {
        "id": "EGwne0h9Cuho"
      },
      "source": [
        "<div class=\"alert alert-warning\">\n",
        "<b>🤔 Рекомендация:</b> Можно воспользоваться <a href = \"https://catboost.ai/en/docs/concepts/python-reference_catboost_grid_search\">grid_search</a> из библиотеки cat boost. Он должен работать быстрее.\n",
        "</div>"
      ]
    },
    {
      "cell_type": "code",
      "execution_count": null,
      "metadata": {
        "colab": {
          "base_uri": "https://localhost:8080/"
        },
        "id": "26j1r8yGRYax",
        "outputId": "722da4f6-55f7-45fc-dddb-96d333f692d6"
      },
      "outputs": [
        {
          "output_type": "execute_result",
          "data": {
            "text/plain": [
              "-5.844648385797132"
            ]
          },
          "metadata": {},
          "execution_count": 65
        }
      ],
      "source": [
        "model_cb = gs.best_estimator_\n",
        "cv_cb = gs.best_score_\n",
        "cv_cb"
      ]
    },
    {
      "cell_type": "markdown",
      "metadata": {
        "id": "NQEmr1Z78oN8"
      },
      "source": [
        "## Comparing"
      ]
    },
    {
      "cell_type": "code",
      "execution_count": null,
      "metadata": {
        "colab": {
          "base_uri": "https://localhost:8080/",
          "height": 175
        },
        "id": "9nt9Ab-68r2g",
        "outputId": "44ab48f8-a304-48d0-b648-80fc1b805faf"
      },
      "outputs": [
        {
          "output_type": "execute_result",
          "data": {
            "text/plain": [
              "       mean_cv_score\n",
              "lasso      -6.086404\n",
              "ridge      -6.110223\n",
              "rf         -6.106347\n",
              "cb         -5.844648"
            ],
            "text/html": [
              "\n",
              "  <div id=\"df-5cbbb2b6-22ca-4db1-bb0c-e45b6190beb7\">\n",
              "    <div class=\"colab-df-container\">\n",
              "      <div>\n",
              "<style scoped>\n",
              "    .dataframe tbody tr th:only-of-type {\n",
              "        vertical-align: middle;\n",
              "    }\n",
              "\n",
              "    .dataframe tbody tr th {\n",
              "        vertical-align: top;\n",
              "    }\n",
              "\n",
              "    .dataframe thead th {\n",
              "        text-align: right;\n",
              "    }\n",
              "</style>\n",
              "<table border=\"1\" class=\"dataframe\">\n",
              "  <thead>\n",
              "    <tr style=\"text-align: right;\">\n",
              "      <th></th>\n",
              "      <th>mean_cv_score</th>\n",
              "    </tr>\n",
              "  </thead>\n",
              "  <tbody>\n",
              "    <tr>\n",
              "      <th>lasso</th>\n",
              "      <td>-6.086404</td>\n",
              "    </tr>\n",
              "    <tr>\n",
              "      <th>ridge</th>\n",
              "      <td>-6.110223</td>\n",
              "    </tr>\n",
              "    <tr>\n",
              "      <th>rf</th>\n",
              "      <td>-6.106347</td>\n",
              "    </tr>\n",
              "    <tr>\n",
              "      <th>cb</th>\n",
              "      <td>-5.844648</td>\n",
              "    </tr>\n",
              "  </tbody>\n",
              "</table>\n",
              "</div>\n",
              "      <button class=\"colab-df-convert\" onclick=\"convertToInteractive('df-5cbbb2b6-22ca-4db1-bb0c-e45b6190beb7')\"\n",
              "              title=\"Convert this dataframe to an interactive table.\"\n",
              "              style=\"display:none;\">\n",
              "        \n",
              "  <svg xmlns=\"http://www.w3.org/2000/svg\" height=\"24px\"viewBox=\"0 0 24 24\"\n",
              "       width=\"24px\">\n",
              "    <path d=\"M0 0h24v24H0V0z\" fill=\"none\"/>\n",
              "    <path d=\"M18.56 5.44l.94 2.06.94-2.06 2.06-.94-2.06-.94-.94-2.06-.94 2.06-2.06.94zm-11 1L8.5 8.5l.94-2.06 2.06-.94-2.06-.94L8.5 2.5l-.94 2.06-2.06.94zm10 10l.94 2.06.94-2.06 2.06-.94-2.06-.94-.94-2.06-.94 2.06-2.06.94z\"/><path d=\"M17.41 7.96l-1.37-1.37c-.4-.4-.92-.59-1.43-.59-.52 0-1.04.2-1.43.59L10.3 9.45l-7.72 7.72c-.78.78-.78 2.05 0 2.83L4 21.41c.39.39.9.59 1.41.59.51 0 1.02-.2 1.41-.59l7.78-7.78 2.81-2.81c.8-.78.8-2.07 0-2.86zM5.41 20L4 18.59l7.72-7.72 1.47 1.35L5.41 20z\"/>\n",
              "  </svg>\n",
              "      </button>\n",
              "      \n",
              "  <style>\n",
              "    .colab-df-container {\n",
              "      display:flex;\n",
              "      flex-wrap:wrap;\n",
              "      gap: 12px;\n",
              "    }\n",
              "\n",
              "    .colab-df-convert {\n",
              "      background-color: #E8F0FE;\n",
              "      border: none;\n",
              "      border-radius: 50%;\n",
              "      cursor: pointer;\n",
              "      display: none;\n",
              "      fill: #1967D2;\n",
              "      height: 32px;\n",
              "      padding: 0 0 0 0;\n",
              "      width: 32px;\n",
              "    }\n",
              "\n",
              "    .colab-df-convert:hover {\n",
              "      background-color: #E2EBFA;\n",
              "      box-shadow: 0px 1px 2px rgba(60, 64, 67, 0.3), 0px 1px 3px 1px rgba(60, 64, 67, 0.15);\n",
              "      fill: #174EA6;\n",
              "    }\n",
              "\n",
              "    [theme=dark] .colab-df-convert {\n",
              "      background-color: #3B4455;\n",
              "      fill: #D2E3FC;\n",
              "    }\n",
              "\n",
              "    [theme=dark] .colab-df-convert:hover {\n",
              "      background-color: #434B5C;\n",
              "      box-shadow: 0px 1px 3px 1px rgba(0, 0, 0, 0.15);\n",
              "      filter: drop-shadow(0px 1px 2px rgba(0, 0, 0, 0.3));\n",
              "      fill: #FFFFFF;\n",
              "    }\n",
              "  </style>\n",
              "\n",
              "      <script>\n",
              "        const buttonEl =\n",
              "          document.querySelector('#df-5cbbb2b6-22ca-4db1-bb0c-e45b6190beb7 button.colab-df-convert');\n",
              "        buttonEl.style.display =\n",
              "          google.colab.kernel.accessAllowed ? 'block' : 'none';\n",
              "\n",
              "        async function convertToInteractive(key) {\n",
              "          const element = document.querySelector('#df-5cbbb2b6-22ca-4db1-bb0c-e45b6190beb7');\n",
              "          const dataTable =\n",
              "            await google.colab.kernel.invokeFunction('convertToInteractive',\n",
              "                                                     [key], {});\n",
              "          if (!dataTable) return;\n",
              "\n",
              "          const docLinkHtml = 'Like what you see? Visit the ' +\n",
              "            '<a target=\"_blank\" href=https://colab.research.google.com/notebooks/data_table.ipynb>data table notebook</a>'\n",
              "            + ' to learn more about interactive tables.';\n",
              "          element.innerHTML = '';\n",
              "          dataTable['output_type'] = 'display_data';\n",
              "          await google.colab.output.renderOutput(dataTable, element);\n",
              "          const docLink = document.createElement('div');\n",
              "          docLink.innerHTML = docLinkHtml;\n",
              "          element.appendChild(docLink);\n",
              "        }\n",
              "      </script>\n",
              "    </div>\n",
              "  </div>\n",
              "  "
            ]
          },
          "metadata": {},
          "execution_count": 66
        }
      ],
      "source": [
        "pd.DataFrame([cv_lasso, cv_ridge, cv_rf, cv_cb], index=['lasso', 'ridge', 'rf', 'cb'], columns=['mean_cv_score'])"
      ]
    },
    {
      "cell_type": "markdown",
      "metadata": {
        "id": "W-pjZ0X49LuX"
      },
      "source": [
        "Для инференса выберем катбуст"
      ]
    },
    {
      "cell_type": "markdown",
      "metadata": {
        "id": "_QJv8rbp9TxX"
      },
      "source": [
        "## Testing"
      ]
    },
    {
      "cell_type": "code",
      "execution_count": null,
      "metadata": {
        "colab": {
          "base_uri": "https://localhost:8080/"
        },
        "id": "-Hif7eG0UjPw",
        "outputId": "81abdbbc-a74e-4eaa-d0a7-09bbc7fc5b7a"
      },
      "outputs": [
        {
          "output_type": "execute_result",
          "data": {
            "text/plain": [
              "5.918516409664864"
            ]
          },
          "metadata": {},
          "execution_count": 67
        }
      ],
      "source": [
        "y_pred = model_cb.predict(X_test)\n",
        "mae(y_pred, y_test)"
      ]
    },
    {
      "cell_type": "markdown",
      "metadata": {
        "id": "N2m0v3DuCuho"
      },
      "source": [
        "<div class=\"alert alert-success\">\n",
        "<b>👍 Успех:</b> Отличный результат.\n",
        "</div>"
      ]
    },
    {
      "cell_type": "markdown",
      "source": [
        "<div class=\"alert alert-danger\">\n",
        "<b>😔 Необходимо исправить:</b> Нужно добавить сравнение с константной моделью. Можно воспользоваться <a href=\"https://scikit-learn.org/stable/modules/generated/sklearn.dummy.DummyRegressor.html\">DummyRegressor</a>\n",
        "</div>"
      ],
      "metadata": {
        "id": "p8i3d6PCGIvA"
      }
    },
    {
      "cell_type": "markdown",
      "source": [
        "## Dummy "
      ],
      "metadata": {
        "id": "l66Dq9dPFiDN"
      }
    },
    {
      "cell_type": "code",
      "source": [
        "dummy = DummyRegressor(strategy='mean')\n",
        "dummy.fit(X_train, y_train)\n",
        "dummy_preds = dummy.predict(X_test)\n",
        "mae(y_test, dummy_preds)"
      ],
      "metadata": {
        "colab": {
          "base_uri": "https://localhost:8080/"
        },
        "id": "otGOEHCbFf9k",
        "outputId": "1dcfc9b5-552a-4ebb-b33f-ccff38c0c277"
      },
      "execution_count": null,
      "outputs": [
        {
          "output_type": "execute_result",
          "data": {
            "text/plain": [
              "8.129119324623002"
            ]
          },
          "metadata": {},
          "execution_count": 68
        }
      ]
    },
    {
      "cell_type": "code",
      "source": [
        "dummy = DummyRegressor(strategy='median')\n",
        "dummy.fit(X_train, y_train)\n",
        "dummy_preds = dummy.predict(X_test)\n",
        "mae(y_test, dummy_preds)"
      ],
      "metadata": {
        "colab": {
          "base_uri": "https://localhost:8080/"
        },
        "id": "a_UU0LTfGQXD",
        "outputId": "c26d8efc-0ed0-4313-fceb-af936ee293d6"
      },
      "execution_count": null,
      "outputs": [
        {
          "output_type": "execute_result",
          "data": {
            "text/plain": [
              "8.058419243986254"
            ]
          },
          "metadata": {},
          "execution_count": 69
        }
      ]
    },
    {
      "cell_type": "markdown",
      "source": [
        "<font color='Salmon'><b>Комментарий студента</b></font>\n",
        "\n",
        "Константная модель показывает результаты заметно хуже"
      ],
      "metadata": {
        "id": "K5X1ijPHGTka"
      }
    },
    {
      "cell_type": "markdown",
      "metadata": {
        "id": "IalGwhzpCuhp"
      },
      "source": [
        "<div style=\"background-color:MintCream; border:solid CadetBlue 2px; padding: 20px\">\n",
        "<b>Итоговый комментарий:</b> У тебя получился отличный проект. Очень лаконичный. Все данные правильно обработаны, модели хорошо обучены. У меня всего пара небольших замечаний:\n",
        "    \n",
        "* нужно вернуть в работу первую часть, которую проверял тимлид\n",
        "* нужно добавить сравнение с константной моделью\n",
        "   \n",
        "В остальном шикарная работа.\n",
        "<div>"
      ]
    },
    {
      "cell_type": "markdown",
      "metadata": {
        "id": "kcga9thtU_06"
      },
      "source": [
        "Получили значением среднего отклонения ниже 6"
      ]
    }
  ],
  "metadata": {
    "ExecuteTimeLog": [
      {
        "duration": 589,
        "start_time": "2022-08-11T10:42:14.680Z"
      },
      {
        "duration": 365,
        "start_time": "2022-08-11T10:42:15.271Z"
      },
      {
        "duration": 2,
        "start_time": "2022-08-11T10:42:15.638Z"
      },
      {
        "duration": 6,
        "start_time": "2022-08-11T10:42:15.642Z"
      },
      {
        "duration": 92,
        "start_time": "2022-08-11T10:42:15.650Z"
      },
      {
        "duration": 4,
        "start_time": "2022-08-11T10:42:15.743Z"
      },
      {
        "duration": 175,
        "start_time": "2022-08-11T10:42:15.748Z"
      },
      {
        "duration": 165,
        "start_time": "2022-08-11T10:42:15.924Z"
      },
      {
        "duration": 10,
        "start_time": "2022-08-11T10:42:16.090Z"
      },
      {
        "duration": 7,
        "start_time": "2022-08-11T10:42:16.102Z"
      },
      {
        "duration": 8,
        "start_time": "2022-08-11T10:42:16.110Z"
      },
      {
        "duration": 172,
        "start_time": "2022-08-11T10:42:16.119Z"
      },
      {
        "duration": 130,
        "start_time": "2022-08-11T10:42:16.292Z"
      },
      {
        "duration": 4,
        "start_time": "2022-08-11T10:42:16.423Z"
      },
      {
        "duration": 1423,
        "start_time": "2022-08-11T10:42:16.429Z"
      },
      {
        "duration": 71,
        "start_time": "2022-08-11T10:42:17.855Z"
      },
      {
        "duration": 4,
        "start_time": "2022-08-11T10:42:17.927Z"
      },
      {
        "duration": 9,
        "start_time": "2022-08-11T10:42:17.932Z"
      },
      {
        "duration": 80,
        "start_time": "2022-08-11T10:42:17.942Z"
      },
      {
        "duration": 0,
        "start_time": "2022-08-11T10:42:18.024Z"
      },
      {
        "duration": 0,
        "start_time": "2022-08-11T10:42:18.025Z"
      },
      {
        "duration": 0,
        "start_time": "2022-08-11T10:42:18.026Z"
      },
      {
        "duration": 0,
        "start_time": "2022-08-11T10:42:18.026Z"
      },
      {
        "duration": 0,
        "start_time": "2022-08-11T10:42:18.027Z"
      },
      {
        "duration": 0,
        "start_time": "2022-08-11T10:42:18.028Z"
      },
      {
        "duration": 0,
        "start_time": "2022-08-11T10:42:18.029Z"
      },
      {
        "duration": 0,
        "start_time": "2022-08-11T10:42:18.030Z"
      },
      {
        "duration": 0,
        "start_time": "2022-08-11T10:42:18.031Z"
      },
      {
        "duration": 1,
        "start_time": "2022-08-11T10:42:18.032Z"
      },
      {
        "duration": 0,
        "start_time": "2022-08-11T10:42:18.033Z"
      },
      {
        "duration": 0,
        "start_time": "2022-08-11T10:42:18.034Z"
      },
      {
        "duration": 0,
        "start_time": "2022-08-11T10:42:18.035Z"
      },
      {
        "duration": 0,
        "start_time": "2022-08-11T10:42:18.036Z"
      },
      {
        "duration": 823,
        "start_time": "2022-08-12T09:18:14.078Z"
      },
      {
        "duration": 407,
        "start_time": "2022-08-12T09:18:16.144Z"
      },
      {
        "duration": 3,
        "start_time": "2022-08-12T09:18:17.315Z"
      },
      {
        "duration": 6,
        "start_time": "2022-08-12T09:18:17.945Z"
      },
      {
        "duration": 241,
        "start_time": "2022-08-12T09:18:18.789Z"
      },
      {
        "duration": 6,
        "start_time": "2022-08-12T09:18:19.531Z"
      },
      {
        "duration": 225,
        "start_time": "2022-08-12T09:18:20.462Z"
      },
      {
        "duration": 207,
        "start_time": "2022-08-12T09:18:21.262Z"
      },
      {
        "duration": 12,
        "start_time": "2022-08-12T09:18:22.306Z"
      },
      {
        "duration": 12,
        "start_time": "2022-08-12T09:18:23.171Z"
      },
      {
        "duration": 5,
        "start_time": "2022-08-12T09:18:24.126Z"
      },
      {
        "duration": 219,
        "start_time": "2022-08-12T09:18:24.532Z"
      },
      {
        "duration": 256,
        "start_time": "2022-08-12T09:18:26.651Z"
      },
      {
        "duration": 5,
        "start_time": "2022-08-12T09:18:27.389Z"
      },
      {
        "duration": 1606,
        "start_time": "2022-08-12T09:18:27.800Z"
      },
      {
        "duration": 162,
        "start_time": "2022-08-12T09:18:31.423Z"
      },
      {
        "duration": 5,
        "start_time": "2022-08-12T09:18:32.077Z"
      },
      {
        "duration": 9,
        "start_time": "2022-08-12T09:18:32.587Z"
      },
      {
        "duration": 117,
        "start_time": "2022-08-12T09:18:49.654Z"
      },
      {
        "duration": 132,
        "start_time": "2022-08-12T09:18:54.972Z"
      },
      {
        "duration": 5,
        "start_time": "2022-08-12T09:18:58.120Z"
      },
      {
        "duration": 202,
        "start_time": "2022-08-12T09:18:58.692Z"
      },
      {
        "duration": 185,
        "start_time": "2022-08-12T09:19:02.871Z"
      },
      {
        "duration": 6,
        "start_time": "2022-08-12T09:19:03.881Z"
      },
      {
        "duration": 8,
        "start_time": "2022-08-12T09:19:05.067Z"
      },
      {
        "duration": 349,
        "start_time": "2022-08-12T09:19:06.618Z"
      },
      {
        "duration": 12,
        "start_time": "2022-08-12T09:19:06.993Z"
      },
      {
        "duration": 7,
        "start_time": "2022-08-12T09:19:08.034Z"
      },
      {
        "duration": 122,
        "start_time": "2022-08-12T09:19:09.886Z"
      },
      {
        "duration": 6,
        "start_time": "2022-08-12T09:19:10.294Z"
      },
      {
        "duration": 1286,
        "start_time": "2022-08-12T09:19:10.671Z"
      },
      {
        "duration": 106,
        "start_time": "2022-08-12T09:19:13.375Z"
      },
      {
        "duration": 6,
        "start_time": "2022-08-12T09:19:13.838Z"
      },
      {
        "duration": 12,
        "start_time": "2022-08-12T09:19:14.248Z"
      },
      {
        "duration": 3,
        "start_time": "2022-08-12T09:21:36.250Z"
      },
      {
        "duration": 428,
        "start_time": "2022-08-12T09:21:36.382Z"
      },
      {
        "duration": 2,
        "start_time": "2022-08-12T09:21:36.813Z"
      },
      {
        "duration": 10,
        "start_time": "2022-08-12T09:21:36.817Z"
      },
      {
        "duration": 99,
        "start_time": "2022-08-12T09:21:37.036Z"
      },
      {
        "duration": 5,
        "start_time": "2022-08-12T09:21:37.168Z"
      },
      {
        "duration": 187,
        "start_time": "2022-08-12T09:21:37.618Z"
      },
      {
        "duration": 197,
        "start_time": "2022-08-12T09:21:37.941Z"
      },
      {
        "duration": 10,
        "start_time": "2022-08-12T09:21:38.236Z"
      },
      {
        "duration": 11,
        "start_time": "2022-08-12T09:21:38.644Z"
      },
      {
        "duration": 5,
        "start_time": "2022-08-12T09:21:38.978Z"
      },
      {
        "duration": 195,
        "start_time": "2022-08-12T09:21:39.147Z"
      },
      {
        "duration": 248,
        "start_time": "2022-08-12T09:21:40.232Z"
      },
      {
        "duration": 5,
        "start_time": "2022-08-12T09:21:40.482Z"
      },
      {
        "duration": 1607,
        "start_time": "2022-08-12T09:21:40.537Z"
      },
      {
        "duration": 79,
        "start_time": "2022-08-12T09:21:42.146Z"
      },
      {
        "duration": 5,
        "start_time": "2022-08-12T09:21:42.227Z"
      },
      {
        "duration": 10,
        "start_time": "2022-08-12T09:21:42.233Z"
      },
      {
        "duration": 75,
        "start_time": "2022-08-12T09:21:42.817Z"
      },
      {
        "duration": 9,
        "start_time": "2022-08-12T09:21:43.131Z"
      },
      {
        "duration": 210,
        "start_time": "2022-08-12T09:21:43.317Z"
      },
      {
        "duration": 82,
        "start_time": "2022-08-12T09:21:44.020Z"
      },
      {
        "duration": 6,
        "start_time": "2022-08-12T09:21:44.183Z"
      },
      {
        "duration": 7,
        "start_time": "2022-08-12T09:21:44.521Z"
      },
      {
        "duration": 376,
        "start_time": "2022-08-12T09:21:44.860Z"
      },
      {
        "duration": 10,
        "start_time": "2022-08-12T09:21:45.240Z"
      },
      {
        "duration": 8,
        "start_time": "2022-08-12T09:21:45.388Z"
      },
      {
        "duration": 94,
        "start_time": "2022-08-12T09:21:46.204Z"
      },
      {
        "duration": 5,
        "start_time": "2022-08-12T09:21:46.422Z"
      },
      {
        "duration": 1172,
        "start_time": "2022-08-12T09:21:46.617Z"
      },
      {
        "duration": 80,
        "start_time": "2022-08-12T09:21:47.792Z"
      },
      {
        "duration": 5,
        "start_time": "2022-08-12T09:21:47.874Z"
      },
      {
        "duration": 23,
        "start_time": "2022-08-12T09:21:47.881Z"
      },
      {
        "duration": 632,
        "start_time": "2022-08-12T10:28:07.577Z"
      },
      {
        "duration": 571,
        "start_time": "2022-08-12T10:28:08.211Z"
      },
      {
        "duration": 3,
        "start_time": "2022-08-12T10:28:08.784Z"
      },
      {
        "duration": 14,
        "start_time": "2022-08-12T10:28:08.789Z"
      },
      {
        "duration": 131,
        "start_time": "2022-08-12T10:28:08.804Z"
      },
      {
        "duration": 6,
        "start_time": "2022-08-12T10:28:08.937Z"
      },
      {
        "duration": 206,
        "start_time": "2022-08-12T10:28:08.945Z"
      },
      {
        "duration": 182,
        "start_time": "2022-08-12T10:28:09.153Z"
      },
      {
        "duration": 11,
        "start_time": "2022-08-12T10:28:09.336Z"
      },
      {
        "duration": 10,
        "start_time": "2022-08-12T10:28:09.349Z"
      },
      {
        "duration": 10,
        "start_time": "2022-08-12T10:28:09.361Z"
      },
      {
        "duration": 193,
        "start_time": "2022-08-12T10:28:09.373Z"
      },
      {
        "duration": 136,
        "start_time": "2022-08-12T10:28:09.568Z"
      },
      {
        "duration": 5,
        "start_time": "2022-08-12T10:28:09.708Z"
      },
      {
        "duration": 1489,
        "start_time": "2022-08-12T10:28:09.715Z"
      },
      {
        "duration": 79,
        "start_time": "2022-08-12T10:28:11.209Z"
      },
      {
        "duration": 6,
        "start_time": "2022-08-12T10:28:11.290Z"
      },
      {
        "duration": 22,
        "start_time": "2022-08-12T10:28:11.297Z"
      },
      {
        "duration": 77,
        "start_time": "2022-08-12T10:28:11.320Z"
      },
      {
        "duration": 5,
        "start_time": "2022-08-12T10:28:11.399Z"
      },
      {
        "duration": 184,
        "start_time": "2022-08-12T10:28:11.406Z"
      },
      {
        "duration": 48,
        "start_time": "2022-08-12T10:28:11.592Z"
      },
      {
        "duration": 4,
        "start_time": "2022-08-12T10:28:11.642Z"
      },
      {
        "duration": 12,
        "start_time": "2022-08-12T10:28:11.647Z"
      },
      {
        "duration": 297,
        "start_time": "2022-08-12T10:28:11.660Z"
      },
      {
        "duration": 9,
        "start_time": "2022-08-12T10:28:11.958Z"
      },
      {
        "duration": 6,
        "start_time": "2022-08-12T10:28:11.969Z"
      },
      {
        "duration": 73,
        "start_time": "2022-08-12T10:28:11.978Z"
      },
      {
        "duration": 5,
        "start_time": "2022-08-12T10:28:12.053Z"
      },
      {
        "duration": 1015,
        "start_time": "2022-08-12T10:28:12.059Z"
      },
      {
        "duration": 65,
        "start_time": "2022-08-12T10:28:13.076Z"
      },
      {
        "duration": 5,
        "start_time": "2022-08-12T10:28:13.143Z"
      },
      {
        "duration": 12,
        "start_time": "2022-08-12T10:28:13.150Z"
      },
      {
        "duration": 49,
        "start_time": "2022-08-12T10:54:43.875Z"
      },
      {
        "duration": 753,
        "start_time": "2022-08-12T10:54:48.330Z"
      },
      {
        "duration": 581,
        "start_time": "2022-08-12T10:54:49.085Z"
      },
      {
        "duration": 3,
        "start_time": "2022-08-12T10:54:49.668Z"
      },
      {
        "duration": 7,
        "start_time": "2022-08-12T10:54:49.673Z"
      },
      {
        "duration": 143,
        "start_time": "2022-08-12T10:54:49.681Z"
      },
      {
        "duration": 4,
        "start_time": "2022-08-12T10:54:49.825Z"
      },
      {
        "duration": 205,
        "start_time": "2022-08-12T10:54:49.831Z"
      },
      {
        "duration": 181,
        "start_time": "2022-08-12T10:54:50.050Z"
      },
      {
        "duration": 10,
        "start_time": "2022-08-12T10:54:50.383Z"
      },
      {
        "duration": 9,
        "start_time": "2022-08-12T10:54:50.717Z"
      },
      {
        "duration": 6,
        "start_time": "2022-08-12T10:54:50.999Z"
      },
      {
        "duration": 172,
        "start_time": "2022-08-12T10:54:51.500Z"
      },
      {
        "duration": 224,
        "start_time": "2022-08-12T10:54:52.782Z"
      },
      {
        "duration": 5,
        "start_time": "2022-08-12T10:54:53.019Z"
      },
      {
        "duration": 1486,
        "start_time": "2022-08-12T10:54:53.235Z"
      },
      {
        "duration": 140,
        "start_time": "2022-08-12T10:54:54.722Z"
      },
      {
        "duration": 6,
        "start_time": "2022-08-12T10:54:54.864Z"
      },
      {
        "duration": 9,
        "start_time": "2022-08-12T10:54:55.111Z"
      },
      {
        "duration": 117,
        "start_time": "2022-08-12T10:54:57.249Z"
      },
      {
        "duration": 5,
        "start_time": "2022-08-12T10:54:59.924Z"
      },
      {
        "duration": 181,
        "start_time": "2022-08-12T10:55:00.247Z"
      },
      {
        "duration": 115,
        "start_time": "2022-08-12T10:55:02.038Z"
      },
      {
        "duration": 6,
        "start_time": "2022-08-12T10:55:02.612Z"
      },
      {
        "duration": 6,
        "start_time": "2022-08-12T10:55:03.652Z"
      },
      {
        "duration": 286,
        "start_time": "2022-08-12T10:55:04.481Z"
      },
      {
        "duration": 9,
        "start_time": "2022-08-12T10:55:04.840Z"
      },
      {
        "duration": 1051,
        "start_time": "2022-08-12T10:55:09.649Z"
      },
      {
        "duration": 140,
        "start_time": "2022-08-12T10:55:19.953Z"
      },
      {
        "duration": 231,
        "start_time": "2022-08-12T10:55:26.711Z"
      },
      {
        "duration": 351,
        "start_time": "2022-08-12T10:55:46.655Z"
      },
      {
        "duration": 8,
        "start_time": "2022-08-12T10:56:10.943Z"
      },
      {
        "duration": 19,
        "start_time": "2022-08-12T10:56:20.678Z"
      },
      {
        "duration": 14,
        "start_time": "2022-08-12T10:57:43.179Z"
      },
      {
        "duration": 9,
        "start_time": "2022-08-12T10:57:50.967Z"
      },
      {
        "duration": 22,
        "start_time": "2022-08-12T11:04:34.324Z"
      },
      {
        "duration": 5,
        "start_time": "2022-08-12T11:04:41.306Z"
      },
      {
        "duration": 6,
        "start_time": "2022-08-12T11:04:46.336Z"
      },
      {
        "duration": 6,
        "start_time": "2022-08-12T11:04:55.755Z"
      },
      {
        "duration": 8,
        "start_time": "2022-08-12T11:07:03.211Z"
      },
      {
        "duration": 6,
        "start_time": "2022-08-12T11:07:10.760Z"
      },
      {
        "duration": 5,
        "start_time": "2022-08-12T11:07:14.918Z"
      },
      {
        "duration": 9,
        "start_time": "2022-08-12T11:07:25.881Z"
      },
      {
        "duration": 6,
        "start_time": "2022-08-12T11:07:29.999Z"
      },
      {
        "duration": 7,
        "start_time": "2022-08-12T11:09:10.323Z"
      },
      {
        "duration": 11,
        "start_time": "2022-08-12T11:09:16.019Z"
      },
      {
        "duration": 10,
        "start_time": "2022-08-12T11:11:29.970Z"
      },
      {
        "duration": 11,
        "start_time": "2022-08-12T11:16:45.095Z"
      },
      {
        "duration": 12,
        "start_time": "2022-08-12T11:17:08.454Z"
      },
      {
        "duration": 6,
        "start_time": "2022-08-12T11:17:34.615Z"
      },
      {
        "duration": 8,
        "start_time": "2022-08-12T11:17:40.520Z"
      },
      {
        "duration": 12,
        "start_time": "2022-08-12T11:17:44.815Z"
      },
      {
        "duration": 9,
        "start_time": "2022-08-12T11:17:47.567Z"
      },
      {
        "duration": 9,
        "start_time": "2022-08-12T11:17:49.620Z"
      },
      {
        "duration": 8,
        "start_time": "2022-08-12T11:17:51.484Z"
      },
      {
        "duration": 8,
        "start_time": "2022-08-12T11:17:53.320Z"
      },
      {
        "duration": 8,
        "start_time": "2022-08-12T11:17:55.360Z"
      },
      {
        "duration": 10,
        "start_time": "2022-08-12T11:17:57.261Z"
      },
      {
        "duration": 9,
        "start_time": "2022-08-12T11:18:00.085Z"
      },
      {
        "duration": 9,
        "start_time": "2022-08-12T11:18:02.326Z"
      },
      {
        "duration": 11,
        "start_time": "2022-08-12T11:18:04.627Z"
      },
      {
        "duration": 10,
        "start_time": "2022-08-12T11:18:06.623Z"
      },
      {
        "duration": 9,
        "start_time": "2022-08-12T11:18:09.540Z"
      },
      {
        "duration": 10,
        "start_time": "2022-08-12T11:18:11.629Z"
      },
      {
        "duration": 4,
        "start_time": "2022-08-12T11:18:34.332Z"
      },
      {
        "duration": 11,
        "start_time": "2022-08-12T11:18:38.723Z"
      },
      {
        "duration": 10,
        "start_time": "2022-08-12T11:19:01.756Z"
      },
      {
        "duration": 9,
        "start_time": "2022-08-12T11:19:27.237Z"
      },
      {
        "duration": 8,
        "start_time": "2022-08-12T11:19:31.010Z"
      },
      {
        "duration": 8,
        "start_time": "2022-08-12T11:19:34.056Z"
      },
      {
        "duration": 8,
        "start_time": "2022-08-12T11:19:36.853Z"
      },
      {
        "duration": 8,
        "start_time": "2022-08-12T11:19:39.419Z"
      },
      {
        "duration": 11,
        "start_time": "2022-08-12T11:19:42.019Z"
      },
      {
        "duration": 15,
        "start_time": "2022-08-12T11:25:36.785Z"
      },
      {
        "duration": 13,
        "start_time": "2022-08-12T11:25:47.884Z"
      },
      {
        "duration": 8,
        "start_time": "2022-08-12T11:25:53.127Z"
      },
      {
        "duration": 9,
        "start_time": "2022-08-12T11:25:59.964Z"
      },
      {
        "duration": 10,
        "start_time": "2022-08-12T11:26:16.409Z"
      },
      {
        "duration": 835,
        "start_time": "2022-08-12T11:26:23.900Z"
      },
      {
        "duration": 13,
        "start_time": "2022-08-12T11:26:29.333Z"
      },
      {
        "duration": 14,
        "start_time": "2022-08-12T11:26:42.200Z"
      },
      {
        "duration": 12,
        "start_time": "2022-08-12T11:26:50.700Z"
      },
      {
        "duration": 11,
        "start_time": "2022-08-12T11:27:58.250Z"
      },
      {
        "duration": 10,
        "start_time": "2022-08-12T11:28:18.675Z"
      },
      {
        "duration": 12,
        "start_time": "2022-08-12T11:28:25.324Z"
      },
      {
        "duration": 12,
        "start_time": "2022-08-12T11:29:22.824Z"
      },
      {
        "duration": 7,
        "start_time": "2022-08-12T11:29:37.014Z"
      },
      {
        "duration": 591,
        "start_time": "2022-08-12T11:29:37.171Z"
      },
      {
        "duration": 3,
        "start_time": "2022-08-12T11:29:37.765Z"
      },
      {
        "duration": 6,
        "start_time": "2022-08-12T11:29:37.769Z"
      },
      {
        "duration": 103,
        "start_time": "2022-08-12T11:29:37.954Z"
      },
      {
        "duration": 5,
        "start_time": "2022-08-12T11:29:38.157Z"
      },
      {
        "duration": 200,
        "start_time": "2022-08-12T11:29:38.719Z"
      },
      {
        "duration": 190,
        "start_time": "2022-08-12T11:29:39.119Z"
      },
      {
        "duration": 9,
        "start_time": "2022-08-12T11:29:39.602Z"
      },
      {
        "duration": 13,
        "start_time": "2022-08-12T11:29:40.055Z"
      },
      {
        "duration": 5,
        "start_time": "2022-08-12T11:29:41.130Z"
      },
      {
        "duration": 180,
        "start_time": "2022-08-12T11:29:45.018Z"
      },
      {
        "duration": 224,
        "start_time": "2022-08-12T11:29:47.519Z"
      },
      {
        "duration": 7,
        "start_time": "2022-08-12T11:29:47.981Z"
      },
      {
        "duration": 1557,
        "start_time": "2022-08-12T11:29:48.461Z"
      },
      {
        "duration": 86,
        "start_time": "2022-08-12T11:29:50.020Z"
      },
      {
        "duration": 5,
        "start_time": "2022-08-12T11:29:50.218Z"
      },
      {
        "duration": 10,
        "start_time": "2022-08-12T11:29:50.614Z"
      },
      {
        "duration": 88,
        "start_time": "2022-08-12T11:29:53.023Z"
      },
      {
        "duration": 5,
        "start_time": "2022-08-12T11:29:55.468Z"
      },
      {
        "duration": 179,
        "start_time": "2022-08-12T11:29:55.782Z"
      },
      {
        "duration": 73,
        "start_time": "2022-08-12T11:29:57.711Z"
      },
      {
        "duration": 7,
        "start_time": "2022-08-12T11:29:58.395Z"
      },
      {
        "duration": 7,
        "start_time": "2022-08-12T11:30:00.756Z"
      },
      {
        "duration": 520,
        "start_time": "2022-08-12T11:30:02.421Z"
      },
      {
        "duration": 10,
        "start_time": "2022-08-12T11:30:04.665Z"
      },
      {
        "duration": 7,
        "start_time": "2022-08-12T11:30:06.492Z"
      },
      {
        "duration": 16,
        "start_time": "2022-08-12T11:30:07.384Z"
      },
      {
        "duration": 6,
        "start_time": "2022-08-12T11:30:11.567Z"
      },
      {
        "duration": 18,
        "start_time": "2022-08-12T11:30:17.485Z"
      },
      {
        "duration": 11,
        "start_time": "2022-08-12T11:30:28.067Z"
      },
      {
        "duration": 12,
        "start_time": "2022-08-12T11:30:48.117Z"
      },
      {
        "duration": 16,
        "start_time": "2022-08-12T11:31:46.489Z"
      },
      {
        "duration": 143,
        "start_time": "2022-08-12T11:32:09.802Z"
      },
      {
        "duration": 6,
        "start_time": "2022-08-12T11:32:10.422Z"
      },
      {
        "duration": 1120,
        "start_time": "2022-08-12T11:32:10.839Z"
      },
      {
        "duration": 141,
        "start_time": "2022-08-12T11:32:13.483Z"
      },
      {
        "duration": 5,
        "start_time": "2022-08-12T11:32:13.818Z"
      },
      {
        "duration": 10,
        "start_time": "2022-08-12T11:32:17.977Z"
      },
      {
        "duration": 664,
        "start_time": "2022-08-12T11:33:38.742Z"
      },
      {
        "duration": 618,
        "start_time": "2022-08-12T11:33:39.410Z"
      },
      {
        "duration": 4,
        "start_time": "2022-08-12T11:33:40.030Z"
      },
      {
        "duration": 9,
        "start_time": "2022-08-12T11:33:40.035Z"
      },
      {
        "duration": 128,
        "start_time": "2022-08-12T11:33:40.047Z"
      },
      {
        "duration": 5,
        "start_time": "2022-08-12T11:33:40.176Z"
      },
      {
        "duration": 278,
        "start_time": "2022-08-12T11:33:40.182Z"
      },
      {
        "duration": 205,
        "start_time": "2022-08-12T11:33:40.463Z"
      },
      {
        "duration": 20,
        "start_time": "2022-08-12T11:33:40.670Z"
      },
      {
        "duration": 12,
        "start_time": "2022-08-12T11:33:40.691Z"
      },
      {
        "duration": 8,
        "start_time": "2022-08-12T11:33:40.709Z"
      },
      {
        "duration": 195,
        "start_time": "2022-08-12T11:33:40.719Z"
      },
      {
        "duration": 143,
        "start_time": "2022-08-12T11:33:40.916Z"
      },
      {
        "duration": 6,
        "start_time": "2022-08-12T11:33:41.062Z"
      },
      {
        "duration": 1678,
        "start_time": "2022-08-12T11:33:41.070Z"
      },
      {
        "duration": 81,
        "start_time": "2022-08-12T11:33:42.750Z"
      },
      {
        "duration": 5,
        "start_time": "2022-08-12T11:33:42.832Z"
      },
      {
        "duration": 16,
        "start_time": "2022-08-12T11:33:42.839Z"
      },
      {
        "duration": 69,
        "start_time": "2022-08-12T11:33:42.857Z"
      },
      {
        "duration": 4,
        "start_time": "2022-08-12T11:33:42.928Z"
      },
      {
        "duration": 185,
        "start_time": "2022-08-12T11:33:42.934Z"
      },
      {
        "duration": 52,
        "start_time": "2022-08-12T11:33:43.120Z"
      },
      {
        "duration": 16,
        "start_time": "2022-08-12T11:33:43.174Z"
      },
      {
        "duration": 21,
        "start_time": "2022-08-12T11:33:43.194Z"
      },
      {
        "duration": 457,
        "start_time": "2022-08-12T11:33:43.217Z"
      },
      {
        "duration": 14,
        "start_time": "2022-08-12T11:33:43.676Z"
      },
      {
        "duration": 19,
        "start_time": "2022-08-12T11:33:43.695Z"
      },
      {
        "duration": 10,
        "start_time": "2022-08-12T11:33:43.716Z"
      },
      {
        "duration": 7,
        "start_time": "2022-08-12T11:33:43.727Z"
      },
      {
        "duration": 16,
        "start_time": "2022-08-12T11:33:43.735Z"
      },
      {
        "duration": 11,
        "start_time": "2022-08-12T11:33:43.752Z"
      },
      {
        "duration": 99,
        "start_time": "2022-08-12T11:33:43.765Z"
      },
      {
        "duration": 5,
        "start_time": "2022-08-12T11:33:43.866Z"
      },
      {
        "duration": 1134,
        "start_time": "2022-08-12T11:33:43.872Z"
      },
      {
        "duration": 78,
        "start_time": "2022-08-12T11:33:45.008Z"
      },
      {
        "duration": 5,
        "start_time": "2022-08-12T11:33:45.088Z"
      },
      {
        "duration": 25,
        "start_time": "2022-08-12T11:33:45.096Z"
      },
      {
        "duration": 665,
        "start_time": "2022-08-12T13:41:35.481Z"
      },
      {
        "duration": 572,
        "start_time": "2022-08-12T13:41:36.149Z"
      },
      {
        "duration": 4,
        "start_time": "2022-08-12T13:41:36.726Z"
      },
      {
        "duration": 7,
        "start_time": "2022-08-12T13:41:36.733Z"
      },
      {
        "duration": 99,
        "start_time": "2022-08-12T13:41:36.742Z"
      },
      {
        "duration": 4,
        "start_time": "2022-08-12T13:41:36.842Z"
      },
      {
        "duration": 196,
        "start_time": "2022-08-12T13:41:36.847Z"
      },
      {
        "duration": 206,
        "start_time": "2022-08-12T13:41:37.044Z"
      },
      {
        "duration": 15,
        "start_time": "2022-08-12T13:41:37.252Z"
      },
      {
        "duration": 11,
        "start_time": "2022-08-12T13:41:37.269Z"
      },
      {
        "duration": 9,
        "start_time": "2022-08-12T13:41:37.282Z"
      },
      {
        "duration": 212,
        "start_time": "2022-08-12T13:41:37.293Z"
      },
      {
        "duration": 140,
        "start_time": "2022-08-12T13:41:37.508Z"
      },
      {
        "duration": 5,
        "start_time": "2022-08-12T13:41:37.650Z"
      },
      {
        "duration": 1463,
        "start_time": "2022-08-12T13:41:37.656Z"
      },
      {
        "duration": 74,
        "start_time": "2022-08-12T13:41:39.120Z"
      },
      {
        "duration": 4,
        "start_time": "2022-08-12T13:41:39.196Z"
      },
      {
        "duration": 13,
        "start_time": "2022-08-12T13:41:39.201Z"
      },
      {
        "duration": 73,
        "start_time": "2022-08-12T13:41:39.220Z"
      },
      {
        "duration": 5,
        "start_time": "2022-08-12T13:41:39.295Z"
      },
      {
        "duration": 171,
        "start_time": "2022-08-12T13:41:39.301Z"
      },
      {
        "duration": 53,
        "start_time": "2022-08-12T13:41:39.473Z"
      },
      {
        "duration": 4,
        "start_time": "2022-08-12T13:41:39.527Z"
      },
      {
        "duration": 12,
        "start_time": "2022-08-12T13:41:39.533Z"
      },
      {
        "duration": 406,
        "start_time": "2022-08-12T13:41:39.546Z"
      },
      {
        "duration": 9,
        "start_time": "2022-08-12T13:41:39.953Z"
      },
      {
        "duration": 8,
        "start_time": "2022-08-12T13:41:39.964Z"
      },
      {
        "duration": 11,
        "start_time": "2022-08-12T13:41:39.975Z"
      },
      {
        "duration": 26,
        "start_time": "2022-08-12T13:41:39.987Z"
      },
      {
        "duration": 40,
        "start_time": "2022-08-12T13:41:40.014Z"
      },
      {
        "duration": 12,
        "start_time": "2022-08-12T13:41:40.055Z"
      },
      {
        "duration": 67,
        "start_time": "2022-08-12T13:41:40.069Z"
      },
      {
        "duration": 4,
        "start_time": "2022-08-12T13:41:40.138Z"
      },
      {
        "duration": 1084,
        "start_time": "2022-08-12T13:41:40.144Z"
      },
      {
        "duration": 65,
        "start_time": "2022-08-12T13:41:41.230Z"
      },
      {
        "duration": 5,
        "start_time": "2022-08-12T13:41:41.297Z"
      },
      {
        "duration": 20,
        "start_time": "2022-08-12T13:41:41.304Z"
      },
      {
        "duration": 807,
        "start_time": "2022-08-12T15:17:39.572Z"
      },
      {
        "duration": 587,
        "start_time": "2022-08-12T15:17:40.381Z"
      },
      {
        "duration": 3,
        "start_time": "2022-08-12T15:17:40.971Z"
      },
      {
        "duration": 4,
        "start_time": "2022-08-12T15:17:44.120Z"
      },
      {
        "duration": 141,
        "start_time": "2022-08-12T15:17:49.422Z"
      },
      {
        "duration": 4,
        "start_time": "2022-08-12T15:17:54.802Z"
      },
      {
        "duration": 181,
        "start_time": "2022-08-12T15:17:56.078Z"
      },
      {
        "duration": 200,
        "start_time": "2022-08-12T15:22:09.776Z"
      },
      {
        "duration": 12,
        "start_time": "2022-08-12T15:22:12.574Z"
      },
      {
        "duration": 9,
        "start_time": "2022-08-12T15:22:13.462Z"
      },
      {
        "duration": 5,
        "start_time": "2022-08-12T15:22:24.053Z"
      },
      {
        "duration": 168,
        "start_time": "2022-08-12T15:22:25.458Z"
      },
      {
        "duration": 206,
        "start_time": "2022-08-12T15:22:49.607Z"
      },
      {
        "duration": 5,
        "start_time": "2022-08-12T15:23:15.339Z"
      },
      {
        "duration": 6,
        "start_time": "2022-08-12T15:23:31.915Z"
      },
      {
        "duration": 6,
        "start_time": "2022-08-12T15:23:39.882Z"
      },
      {
        "duration": 6,
        "start_time": "2022-08-12T15:23:47.494Z"
      },
      {
        "duration": 71,
        "start_time": "2022-08-12T15:23:54.369Z"
      },
      {
        "duration": 6,
        "start_time": "2022-08-12T15:24:03.625Z"
      },
      {
        "duration": 140,
        "start_time": "2022-08-12T15:26:39.041Z"
      },
      {
        "duration": 5,
        "start_time": "2022-08-12T15:26:39.624Z"
      },
      {
        "duration": 1026,
        "start_time": "2022-08-12T15:26:40.293Z"
      },
      {
        "duration": 16,
        "start_time": "2022-08-12T15:31:02.164Z"
      },
      {
        "duration": 4,
        "start_time": "2022-08-12T15:31:17.802Z"
      },
      {
        "duration": 8,
        "start_time": "2022-08-12T15:31:34.095Z"
      },
      {
        "duration": 15,
        "start_time": "2022-08-12T15:31:46.287Z"
      },
      {
        "duration": 9,
        "start_time": "2022-08-12T15:32:12.837Z"
      },
      {
        "duration": 8,
        "start_time": "2022-08-12T15:32:18.548Z"
      },
      {
        "duration": 8,
        "start_time": "2022-08-12T15:32:24.000Z"
      },
      {
        "duration": 2,
        "start_time": "2022-08-12T15:35:09.807Z"
      },
      {
        "duration": 599,
        "start_time": "2022-08-12T15:35:10.044Z"
      },
      {
        "duration": 3,
        "start_time": "2022-08-12T15:35:10.645Z"
      },
      {
        "duration": 4,
        "start_time": "2022-08-12T15:35:12.585Z"
      },
      {
        "duration": 94,
        "start_time": "2022-08-12T15:35:15.406Z"
      },
      {
        "duration": 4,
        "start_time": "2022-08-12T15:35:42.551Z"
      },
      {
        "duration": 83,
        "start_time": "2022-08-12T15:35:44.588Z"
      },
      {
        "duration": 4,
        "start_time": "2022-08-12T15:35:47.988Z"
      },
      {
        "duration": 169,
        "start_time": "2022-08-12T15:36:24.481Z"
      },
      {
        "duration": 158,
        "start_time": "2022-08-12T15:36:25.398Z"
      },
      {
        "duration": 10,
        "start_time": "2022-08-12T15:36:26.882Z"
      },
      {
        "duration": 9,
        "start_time": "2022-08-12T15:36:28.882Z"
      },
      {
        "duration": 4,
        "start_time": "2022-08-12T15:36:31.749Z"
      },
      {
        "duration": 166,
        "start_time": "2022-08-12T15:36:40.291Z"
      },
      {
        "duration": 104,
        "start_time": "2022-08-12T15:36:49.513Z"
      },
      {
        "duration": 4,
        "start_time": "2022-08-12T15:36:58.343Z"
      },
      {
        "duration": 4,
        "start_time": "2022-08-12T15:37:19.163Z"
      },
      {
        "duration": 5,
        "start_time": "2022-08-12T15:38:33.874Z"
      },
      {
        "duration": 4,
        "start_time": "2022-08-12T15:39:28.229Z"
      },
      {
        "duration": 86,
        "start_time": "2022-08-12T15:39:30.878Z"
      },
      {
        "duration": 12,
        "start_time": "2022-08-12T15:39:35.720Z"
      },
      {
        "duration": 3,
        "start_time": "2022-08-12T15:39:48.721Z"
      },
      {
        "duration": 85,
        "start_time": "2022-08-12T15:39:49.516Z"
      },
      {
        "duration": 6,
        "start_time": "2022-08-12T15:39:54.934Z"
      },
      {
        "duration": 202,
        "start_time": "2022-08-12T15:40:16.296Z"
      },
      {
        "duration": 249,
        "start_time": "2022-08-12T15:40:18.597Z"
      },
      {
        "duration": 10,
        "start_time": "2022-08-12T15:40:20.115Z"
      },
      {
        "duration": 11,
        "start_time": "2022-08-12T15:40:21.050Z"
      },
      {
        "duration": 4,
        "start_time": "2022-08-12T15:40:22.550Z"
      },
      {
        "duration": 155,
        "start_time": "2022-08-12T15:40:23.335Z"
      },
      {
        "duration": 105,
        "start_time": "2022-08-12T15:40:36.975Z"
      },
      {
        "duration": 6,
        "start_time": "2022-08-12T15:40:50.010Z"
      },
      {
        "duration": 1528,
        "start_time": "2022-08-12T15:41:13.932Z"
      },
      {
        "duration": 124,
        "start_time": "2022-08-12T15:41:35.269Z"
      },
      {
        "duration": 5,
        "start_time": "2022-08-12T15:41:39.650Z"
      },
      {
        "duration": 9,
        "start_time": "2022-08-12T15:41:41.905Z"
      },
      {
        "duration": 109,
        "start_time": "2022-08-12T15:41:44.609Z"
      },
      {
        "duration": 5,
        "start_time": "2022-08-12T15:41:52.644Z"
      },
      {
        "duration": 274,
        "start_time": "2022-08-12T15:42:04.824Z"
      },
      {
        "duration": 105,
        "start_time": "2022-08-12T15:42:21.681Z"
      },
      {
        "duration": 4,
        "start_time": "2022-08-12T15:42:32.722Z"
      },
      {
        "duration": 6,
        "start_time": "2022-08-12T15:42:33.899Z"
      },
      {
        "duration": 323,
        "start_time": "2022-08-12T15:42:36.517Z"
      },
      {
        "duration": 9,
        "start_time": "2022-08-12T15:42:42.321Z"
      },
      {
        "duration": 6,
        "start_time": "2022-08-12T15:42:43.687Z"
      },
      {
        "duration": 10,
        "start_time": "2022-08-12T15:42:44.299Z"
      },
      {
        "duration": 5,
        "start_time": "2022-08-12T15:42:50.446Z"
      },
      {
        "duration": 8,
        "start_time": "2022-08-12T15:43:17.462Z"
      },
      {
        "duration": 21,
        "start_time": "2022-08-12T15:43:50.720Z"
      },
      {
        "duration": 24,
        "start_time": "2022-08-12T15:44:10.877Z"
      },
      {
        "duration": 22,
        "start_time": "2022-08-12T15:45:44.812Z"
      },
      {
        "duration": 13,
        "start_time": "2022-08-12T15:46:08.440Z"
      },
      {
        "duration": 13,
        "start_time": "2022-08-12T15:46:29.036Z"
      },
      {
        "duration": 14,
        "start_time": "2022-08-12T15:46:42.077Z"
      },
      {
        "duration": 17,
        "start_time": "2022-08-12T15:46:47.709Z"
      },
      {
        "duration": 16,
        "start_time": "2022-08-12T15:47:11.034Z"
      },
      {
        "duration": 17,
        "start_time": "2022-08-12T15:47:16.212Z"
      },
      {
        "duration": 15,
        "start_time": "2022-08-12T15:47:24.489Z"
      },
      {
        "duration": 23,
        "start_time": "2022-08-12T15:47:51.249Z"
      },
      {
        "duration": 18,
        "start_time": "2022-08-12T15:48:20.057Z"
      },
      {
        "duration": 21,
        "start_time": "2022-08-12T15:48:40.138Z"
      },
      {
        "duration": 14,
        "start_time": "2022-08-12T15:48:58.330Z"
      },
      {
        "duration": 28,
        "start_time": "2022-08-12T15:52:17.882Z"
      },
      {
        "duration": 25,
        "start_time": "2022-08-12T15:52:32.815Z"
      },
      {
        "duration": 22,
        "start_time": "2022-08-12T15:52:39.091Z"
      },
      {
        "duration": 30,
        "start_time": "2022-08-12T15:53:07.646Z"
      },
      {
        "duration": 19,
        "start_time": "2022-08-12T15:53:24.662Z"
      },
      {
        "duration": 23,
        "start_time": "2022-08-12T15:53:37.535Z"
      },
      {
        "duration": 12,
        "start_time": "2022-08-12T16:03:34.345Z"
      },
      {
        "duration": 23,
        "start_time": "2022-08-12T16:07:43.676Z"
      },
      {
        "duration": 2,
        "start_time": "2022-08-12T16:07:52.636Z"
      },
      {
        "duration": 566,
        "start_time": "2022-08-12T16:07:52.866Z"
      },
      {
        "duration": 2,
        "start_time": "2022-08-12T16:07:53.435Z"
      },
      {
        "duration": 6,
        "start_time": "2022-08-12T16:07:53.439Z"
      },
      {
        "duration": 91,
        "start_time": "2022-08-12T16:07:53.908Z"
      },
      {
        "duration": 5,
        "start_time": "2022-08-12T16:07:54.158Z"
      },
      {
        "duration": 173,
        "start_time": "2022-08-12T16:07:54.661Z"
      },
      {
        "duration": 161,
        "start_time": "2022-08-12T16:07:55.122Z"
      },
      {
        "duration": 10,
        "start_time": "2022-08-12T16:07:55.612Z"
      },
      {
        "duration": 10,
        "start_time": "2022-08-12T16:07:56.090Z"
      },
      {
        "duration": 6,
        "start_time": "2022-08-12T16:07:56.633Z"
      },
      {
        "duration": 165,
        "start_time": "2022-08-12T16:07:56.940Z"
      },
      {
        "duration": 102,
        "start_time": "2022-08-12T16:07:58.965Z"
      },
      {
        "duration": 5,
        "start_time": "2022-08-12T16:07:59.864Z"
      },
      {
        "duration": 1542,
        "start_time": "2022-08-12T16:08:00.365Z"
      },
      {
        "duration": 78,
        "start_time": "2022-08-12T16:08:05.830Z"
      },
      {
        "duration": 5,
        "start_time": "2022-08-12T16:08:09.451Z"
      },
      {
        "duration": 9,
        "start_time": "2022-08-12T16:08:10.278Z"
      },
      {
        "duration": 81,
        "start_time": "2022-08-12T16:08:15.223Z"
      },
      {
        "duration": 5,
        "start_time": "2022-08-12T16:08:38.458Z"
      },
      {
        "duration": 186,
        "start_time": "2022-08-12T16:08:40.019Z"
      },
      {
        "duration": 74,
        "start_time": "2022-08-12T16:08:44.971Z"
      },
      {
        "duration": 6,
        "start_time": "2022-08-12T16:08:45.589Z"
      },
      {
        "duration": 6,
        "start_time": "2022-08-12T16:08:46.775Z"
      },
      {
        "duration": 328,
        "start_time": "2022-08-12T16:08:48.583Z"
      },
      {
        "duration": 9,
        "start_time": "2022-08-12T16:08:55.748Z"
      },
      {
        "duration": 5,
        "start_time": "2022-08-12T16:08:56.808Z"
      },
      {
        "duration": 9,
        "start_time": "2022-08-12T16:08:57.623Z"
      },
      {
        "duration": 6,
        "start_time": "2022-08-12T16:09:01.965Z"
      },
      {
        "duration": 22,
        "start_time": "2022-08-12T16:09:03.702Z"
      },
      {
        "duration": 3,
        "start_time": "2022-08-12T16:09:19.506Z"
      },
      {
        "duration": 89,
        "start_time": "2022-08-12T16:09:22.224Z"
      },
      {
        "duration": 5,
        "start_time": "2022-08-12T16:09:22.616Z"
      },
      {
        "duration": 1204,
        "start_time": "2022-08-12T16:09:22.990Z"
      },
      {
        "duration": 7,
        "start_time": "2022-08-12T16:09:24.196Z"
      },
      {
        "duration": 136,
        "start_time": "2022-08-12T16:09:25.493Z"
      },
      {
        "duration": 5,
        "start_time": "2022-08-12T16:09:26.029Z"
      },
      {
        "duration": 8,
        "start_time": "2022-08-12T16:09:37.314Z"
      }
    ],
    "colab": {
      "collapsed_sections": [],
      "provenance": [],
      "toc_visible": true,
      "include_colab_link": true
    },
    "kernelspec": {
      "display_name": "Python 3 (ipykernel)",
      "language": "python",
      "name": "python3"
    },
    "language_info": {
      "codemirror_mode": {
        "name": "ipython",
        "version": 3
      },
      "file_extension": ".py",
      "mimetype": "text/x-python",
      "name": "python",
      "nbconvert_exporter": "python",
      "pygments_lexer": "ipython3",
      "version": "3.9.5"
    },
    "toc": {
      "base_numbering": 1,
      "nav_menu": {},
      "number_sections": true,
      "sideBar": true,
      "skip_h1_title": true,
      "title_cell": "Table of Contents",
      "title_sidebar": "Contents",
      "toc_cell": false,
      "toc_position": {},
      "toc_section_display": true,
      "toc_window_display": false
    }
  },
  "nbformat": 4,
  "nbformat_minor": 0
}